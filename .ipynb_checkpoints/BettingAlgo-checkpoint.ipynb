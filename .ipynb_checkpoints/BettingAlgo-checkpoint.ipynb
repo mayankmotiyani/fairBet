{
 "cells": [
  {
   "cell_type": "code",
   "execution_count": 4,
   "id": "2be1def4",
   "metadata": {},
   "outputs": [],
   "source": [
    "import os\n",
    "import django\n",
    "os.environ.setdefault('DJANGO_SETTINGS_MODULE', 'fairbet_django.settings')\n",
    "os.environ[\"DJANGO_ALLOW_ASYNC_UNSAFE\"] = \"true\"\n",
    "django.setup()"
   ]
  },
  {
   "cell_type": "code",
   "execution_count": 15,
   "id": "f3ac5b7a",
   "metadata": {},
   "outputs": [],
   "source": [
    "from order_placed.models import *\n",
    "from payment.models import *\n",
    "from django_pandas.io import read_frame\n",
    "from django.db.models import F, Q, When, Value, Case, Sum"
   ]
  },
  {
   "cell_type": "code",
   "execution_count": 16,
   "id": "ed66bed2",
   "metadata": {},
   "outputs": [],
   "source": [
    "df = read_frame(Betting.objects.filter(match=\"Srilanka vs India\"))"
   ]
  },
  {
   "cell_type": "code",
   "execution_count": 17,
   "id": "54cbfea0",
   "metadata": {},
   "outputs": [
    {
     "data": {
      "text/html": [
       "<div>\n",
       "<style scoped>\n",
       "    .dataframe tbody tr th:only-of-type {\n",
       "        vertical-align: middle;\n",
       "    }\n",
       "\n",
       "    .dataframe tbody tr th {\n",
       "        vertical-align: top;\n",
       "    }\n",
       "\n",
       "    .dataframe thead th {\n",
       "        text-align: right;\n",
       "    }\n",
       "</style>\n",
       "<table border=\"1\" class=\"dataframe\">\n",
       "  <thead>\n",
       "    <tr style=\"text-align: right;\">\n",
       "      <th></th>\n",
       "      <th>id</th>\n",
       "      <th>user</th>\n",
       "      <th>amount</th>\n",
       "      <th>bet_on_team</th>\n",
       "      <th>status</th>\n",
       "      <th>odds</th>\n",
       "      <th>winning_team</th>\n",
       "      <th>loss_profit</th>\n",
       "      <th>match</th>\n",
       "      <th>created_at</th>\n",
       "      <th>updated_at</th>\n",
       "    </tr>\n",
       "  </thead>\n",
       "  <tbody>\n",
       "  </tbody>\n",
       "</table>\n",
       "</div>"
      ],
      "text/plain": [
       "Empty DataFrame\n",
       "Columns: [id, user, amount, bet_on_team, status, odds, winning_team, loss_profit, match, created_at, updated_at]\n",
       "Index: []"
      ]
     },
     "execution_count": 17,
     "metadata": {},
     "output_type": "execute_result"
    }
   ],
   "source": [
    "df"
   ]
  },
  {
   "cell_type": "code",
   "execution_count": null,
   "id": "c63d2f1f",
   "metadata": {},
   "outputs": [],
   "source": []
  },
  {
   "cell_type": "code",
   "execution_count": 18,
   "id": "6fe80a2f",
   "metadata": {},
   "outputs": [],
   "source": [
    "# Client.objects.update(account_type=Case(\n",
    "#     When(registered_on__lte=a_year_ago,\n",
    "#          then=Value(Client.PLATINUM)),\n",
    "#     When(registered_on__lte=a_month_ago,\n",
    "#          then=Value(Client.GOLD)),\n",
    "#     default=Value(Client.REGULAR)\n",
    "# ),)"
   ]
  },
  {
   "cell_type": "code",
   "execution_count": 19,
   "id": "c0c8f2ba",
   "metadata": {},
   "outputs": [],
   "source": [
    "# betting = Betting.objects.filter(match=\"Srilanka vs India\").values('loss_profit')"
   ]
  },
  {
   "cell_type": "code",
   "execution_count": 20,
   "id": "185185b8",
   "metadata": {},
   "outputs": [],
   "source": [
    "# bet = betting.annotate(\n",
    "#     betting_loss_profit=Case(\n",
    "#         When(\n",
    "#             status=\"BACK\",\n",
    "#             then=F(\"amount\")*0.8,\n",
    "#         ),\n",
    "#         default = F(\"loss_profit\"),\n",
    "#         output_field = models.FloatField()\n",
    "#     )\n",
    "# )"
   ]
  },
  {
   "cell_type": "code",
   "execution_count": 21,
   "id": "23841258",
   "metadata": {},
   "outputs": [],
   "source": [
    "# Betting.objects.update(\n",
    "#     loss_profit=Case(\n",
    "#         When(status=\"B\",\n",
    "#              match=\"Srilanka vs India\",\n",
    "#              winning_team = \"Not declared yet\",\n",
    "#              then=F(\"amount\")*F(\"odds\") - F(\"amount\")),\n",
    "#         When(status=\"L\",\n",
    "#              match=\"Srilanka vs India\",\n",
    "#              winning_team = \"Not declared yet\",\n",
    "#              then=F(\"amount\")* -F(\"odds\") + F(\"amount\")),\n",
    "#         default=F(\"loss_profit\")\n",
    "# )\n",
    "#      )"
   ]
  },
  {
   "cell_type": "code",
   "execution_count": 22,
   "id": "b567c1cd",
   "metadata": {},
   "outputs": [],
   "source": [
    "from order_placed.models import *\n",
    "from django_pandas.io import read_frame\n",
    "from django.db.models import F, Q, When, Value, Case, Sum"
   ]
  },
  {
   "cell_type": "code",
   "execution_count": 92,
   "id": "9ba44cea",
   "metadata": {},
   "outputs": [],
   "source": [
    "winningTeam = \"England\"\n",
    "matchName = \"England vs India\""
   ]
  },
  {
   "cell_type": "code",
   "execution_count": 73,
   "id": "50f6945d",
   "metadata": {},
   "outputs": [],
   "source": [
    "betting_instance = Betting.objects.filter(\n",
    "        match = matchName\n",
    "    ).update(\n",
    "        loss_profit = Case(\n",
    "            When(\n",
    "                status = \"B\",\n",
    "                bet_on_team = winningTeam,\n",
    "                winning_team = winningTeam,\n",
    "                then = F('amount') * F(\"odds\") - F('amount')),\n",
    "            When(\n",
    "                ~Q(bet_on_team = winningTeam),\n",
    "                status = \"B\",\n",
    "                winning_team = winningTeam,\n",
    "                then = -F('amount')),\n",
    "             When(\n",
    "                status = \"L\",\n",
    "                bet_on_team = winningTeam,\n",
    "                winning_team = winningTeam,\n",
    "                then = F('amount') * - F(\"odds\") + F('amount')),\n",
    "             When(\n",
    "                 ~Q(bet_on_team = winningTeam),\n",
    "                status = \"L\",\n",
    "                winning_team = winningTeam,\n",
    "                then = F('amount')),\n",
    "            default=F(\"loss_profit\")\n",
    "            )\n",
    "        )"
   ]
  },
  {
   "cell_type": "code",
   "execution_count": 48,
   "id": "e4ad44b2",
   "metadata": {},
   "outputs": [],
   "source": [
    "get_wallet = read_frame(Betting.objects.all())"
   ]
  },
  {
   "cell_type": "code",
   "execution_count": 49,
   "id": "2aac59e2",
   "metadata": {},
   "outputs": [
    {
     "data": {
      "text/html": [
       "<div>\n",
       "<style scoped>\n",
       "    .dataframe tbody tr th:only-of-type {\n",
       "        vertical-align: middle;\n",
       "    }\n",
       "\n",
       "    .dataframe tbody tr th {\n",
       "        vertical-align: top;\n",
       "    }\n",
       "\n",
       "    .dataframe thead th {\n",
       "        text-align: right;\n",
       "    }\n",
       "</style>\n",
       "<table border=\"1\" class=\"dataframe\">\n",
       "  <thead>\n",
       "    <tr style=\"text-align: right;\">\n",
       "      <th></th>\n",
       "      <th>id</th>\n",
       "      <th>user</th>\n",
       "      <th>amount</th>\n",
       "      <th>bet_on_team</th>\n",
       "      <th>status</th>\n",
       "      <th>odds</th>\n",
       "      <th>winning_team</th>\n",
       "      <th>loss_profit</th>\n",
       "      <th>match</th>\n",
       "      <th>created_at</th>\n",
       "      <th>updated_at</th>\n",
       "    </tr>\n",
       "  </thead>\n",
       "  <tbody>\n",
       "    <tr>\n",
       "      <th>0</th>\n",
       "      <td>16</td>\n",
       "      <td>fairbet</td>\n",
       "      <td>1000.0</td>\n",
       "      <td>England</td>\n",
       "      <td>BACK</td>\n",
       "      <td>1.50</td>\n",
       "      <td>England</td>\n",
       "      <td>500.0</td>\n",
       "      <td>England vs India</td>\n",
       "      <td>2022-07-06 06:20:16.207060+00:00</td>\n",
       "      <td>2022-07-06 10:31:52.837866+00:00</td>\n",
       "    </tr>\n",
       "    <tr>\n",
       "      <th>1</th>\n",
       "      <td>17</td>\n",
       "      <td>fairbet</td>\n",
       "      <td>1000.0</td>\n",
       "      <td>England</td>\n",
       "      <td>LAY</td>\n",
       "      <td>1.52</td>\n",
       "      <td>England</td>\n",
       "      <td>-520.0</td>\n",
       "      <td>England vs India</td>\n",
       "      <td>2022-07-06 06:23:12.963245+00:00</td>\n",
       "      <td>2022-07-06 10:31:56.493455+00:00</td>\n",
       "    </tr>\n",
       "    <tr>\n",
       "      <th>2</th>\n",
       "      <td>21</td>\n",
       "      <td>fairbet</td>\n",
       "      <td>1000.0</td>\n",
       "      <td>India</td>\n",
       "      <td>BACK</td>\n",
       "      <td>1.55</td>\n",
       "      <td>England</td>\n",
       "      <td>-1000.0</td>\n",
       "      <td>England vs India</td>\n",
       "      <td>2022-07-06 10:33:05.626427+00:00</td>\n",
       "      <td>2022-07-06 10:33:31.403796+00:00</td>\n",
       "    </tr>\n",
       "    <tr>\n",
       "      <th>3</th>\n",
       "      <td>22</td>\n",
       "      <td>fairbet</td>\n",
       "      <td>1000.0</td>\n",
       "      <td>India</td>\n",
       "      <td>LAY</td>\n",
       "      <td>1.56</td>\n",
       "      <td>England</td>\n",
       "      <td>1000.0</td>\n",
       "      <td>England vs India</td>\n",
       "      <td>2022-07-06 10:33:16.385601+00:00</td>\n",
       "      <td>2022-07-06 10:33:44.568271+00:00</td>\n",
       "    </tr>\n",
       "  </tbody>\n",
       "</table>\n",
       "</div>"
      ],
      "text/plain": [
       "   id     user  amount bet_on_team status  odds winning_team  loss_profit  \\\n",
       "0  16  fairbet  1000.0     England   BACK  1.50      England        500.0   \n",
       "1  17  fairbet  1000.0     England    LAY  1.52      England       -520.0   \n",
       "2  21  fairbet  1000.0       India   BACK  1.55      England      -1000.0   \n",
       "3  22  fairbet  1000.0       India    LAY  1.56      England       1000.0   \n",
       "\n",
       "              match                       created_at  \\\n",
       "0  England vs India 2022-07-06 06:20:16.207060+00:00   \n",
       "1  England vs India 2022-07-06 06:23:12.963245+00:00   \n",
       "2  England vs India 2022-07-06 10:33:05.626427+00:00   \n",
       "3  England vs India 2022-07-06 10:33:16.385601+00:00   \n",
       "\n",
       "                        updated_at  \n",
       "0 2022-07-06 10:31:52.837866+00:00  \n",
       "1 2022-07-06 10:31:56.493455+00:00  \n",
       "2 2022-07-06 10:33:31.403796+00:00  \n",
       "3 2022-07-06 10:33:44.568271+00:00  "
      ]
     },
     "execution_count": 49,
     "metadata": {},
     "output_type": "execute_result"
    }
   ],
   "source": [
    "get_wallet"
   ]
  },
  {
   "cell_type": "code",
   "execution_count": null,
   "id": "1c7a0c58",
   "metadata": {},
   "outputs": [],
   "source": []
  },
  {
   "cell_type": "code",
   "execution_count": 56,
   "id": "672aa314",
   "metadata": {},
   "outputs": [],
   "source": [
    "get_wallet['total_loss_or_profit'] = get_wallet.groupby('user')['loss_profit'].transform(lambda x : sum(x))"
   ]
  },
  {
   "cell_type": "code",
   "execution_count": 58,
   "id": "f17ad7c0",
   "metadata": {},
   "outputs": [
    {
     "data": {
      "text/html": [
       "<div>\n",
       "<style scoped>\n",
       "    .dataframe tbody tr th:only-of-type {\n",
       "        vertical-align: middle;\n",
       "    }\n",
       "\n",
       "    .dataframe tbody tr th {\n",
       "        vertical-align: top;\n",
       "    }\n",
       "\n",
       "    .dataframe thead th {\n",
       "        text-align: right;\n",
       "    }\n",
       "</style>\n",
       "<table border=\"1\" class=\"dataframe\">\n",
       "  <thead>\n",
       "    <tr style=\"text-align: right;\">\n",
       "      <th></th>\n",
       "      <th>id</th>\n",
       "      <th>user</th>\n",
       "      <th>amount</th>\n",
       "      <th>bet_on_team</th>\n",
       "      <th>status</th>\n",
       "      <th>odds</th>\n",
       "      <th>winning_team</th>\n",
       "      <th>loss_profit</th>\n",
       "      <th>match</th>\n",
       "      <th>created_at</th>\n",
       "      <th>updated_at</th>\n",
       "      <th>total_loss_or_profit</th>\n",
       "    </tr>\n",
       "  </thead>\n",
       "  <tbody>\n",
       "    <tr>\n",
       "      <th>0</th>\n",
       "      <td>16</td>\n",
       "      <td>fairbet</td>\n",
       "      <td>1000.0</td>\n",
       "      <td>England</td>\n",
       "      <td>BACK</td>\n",
       "      <td>1.5</td>\n",
       "      <td>England</td>\n",
       "      <td>500.0</td>\n",
       "      <td>England vs India</td>\n",
       "      <td>2022-07-06 06:20:16.207060+00:00</td>\n",
       "      <td>2022-07-06 10:31:52.837866+00:00</td>\n",
       "      <td>-20.0</td>\n",
       "    </tr>\n",
       "  </tbody>\n",
       "</table>\n",
       "</div>"
      ],
      "text/plain": [
       "   id     user  amount bet_on_team status  odds winning_team  loss_profit  \\\n",
       "0  16  fairbet  1000.0     England   BACK   1.5      England        500.0   \n",
       "\n",
       "              match                       created_at  \\\n",
       "0  England vs India 2022-07-06 06:20:16.207060+00:00   \n",
       "\n",
       "                        updated_at  total_loss_or_profit  \n",
       "0 2022-07-06 10:31:52.837866+00:00                 -20.0  "
      ]
     },
     "execution_count": 58,
     "metadata": {},
     "output_type": "execute_result"
    }
   ],
   "source": [
    "get_wallet.drop_duplicates(subset=['user'])"
   ]
  },
  {
   "cell_type": "code",
   "execution_count": 59,
   "id": "8e8f65eb",
   "metadata": {},
   "outputs": [
    {
     "data": {
      "text/plain": [
       "<BulkUpdateOrCreateQuerySet [<Betting: Betting object (16)>, <Betting: Betting object (17)>, <Betting: Betting object (21)>, <Betting: Betting object (22)>]>"
      ]
     },
     "execution_count": 59,
     "metadata": {},
     "output_type": "execute_result"
    }
   ],
   "source": [
    "Betting.objects.all().annotate(total_sum=Sum(\"loss_profit\"))"
   ]
  },
  {
   "cell_type": "code",
   "execution_count": 60,
   "id": "e5b250d0",
   "metadata": {},
   "outputs": [],
   "source": []
  },
  {
   "cell_type": "code",
   "execution_count": 62,
   "id": "8455322f",
   "metadata": {},
   "outputs": [
    {
     "data": {
      "text/plain": [
       "<BulkUpdateOrCreateQuerySet [<Betting: Betting object (16)>, <Betting: Betting object (17)>, <Betting: Betting object (21)>, <Betting: Betting object (22)>]>"
      ]
     },
     "execution_count": 62,
     "metadata": {},
     "output_type": "execute_result"
    }
   ],
   "source": []
  },
  {
   "cell_type": "code",
   "execution_count": null,
   "id": "44d62271",
   "metadata": {},
   "outputs": [],
   "source": []
  },
  {
   "cell_type": "code",
   "execution_count": 86,
   "id": "58039e85",
   "metadata": {},
   "outputs": [],
   "source": [
    "df = read_frame(Betting.objects.values(\"user__id\",\"user_id\",\"user_id__wallet__amount\").annotate(loss_or_profit = Sum(\"loss_profit\")))"
   ]
  },
  {
   "cell_type": "code",
   "execution_count": 89,
   "id": "f2302393",
   "metadata": {},
   "outputs": [],
   "source": [
    "df['total'] = df['user_id__wallet__amount'] + df['loss_or_profit']"
   ]
  },
  {
   "cell_type": "code",
   "execution_count": 90,
   "id": "125829a2",
   "metadata": {},
   "outputs": [
    {
     "data": {
      "text/html": [
       "<div>\n",
       "<style scoped>\n",
       "    .dataframe tbody tr th:only-of-type {\n",
       "        vertical-align: middle;\n",
       "    }\n",
       "\n",
       "    .dataframe tbody tr th {\n",
       "        vertical-align: top;\n",
       "    }\n",
       "\n",
       "    .dataframe thead th {\n",
       "        text-align: right;\n",
       "    }\n",
       "</style>\n",
       "<table border=\"1\" class=\"dataframe\">\n",
       "  <thead>\n",
       "    <tr style=\"text-align: right;\">\n",
       "      <th></th>\n",
       "      <th>user__id</th>\n",
       "      <th>user_id</th>\n",
       "      <th>user_id__wallet__amount</th>\n",
       "      <th>loss_or_profit</th>\n",
       "      <th>total</th>\n",
       "    </tr>\n",
       "  </thead>\n",
       "  <tbody>\n",
       "    <tr>\n",
       "      <th>0</th>\n",
       "      <td>1</td>\n",
       "      <td>fairbet</td>\n",
       "      <td>9500.0</td>\n",
       "      <td>-20.0</td>\n",
       "      <td>9480.0</td>\n",
       "    </tr>\n",
       "    <tr>\n",
       "      <th>1</th>\n",
       "      <td>5</td>\n",
       "      <td>Minkyaa6</td>\n",
       "      <td>10000.0</td>\n",
       "      <td>0.0</td>\n",
       "      <td>10000.0</td>\n",
       "    </tr>\n",
       "  </tbody>\n",
       "</table>\n",
       "</div>"
      ],
      "text/plain": [
       "   user__id   user_id  user_id__wallet__amount  loss_or_profit    total\n",
       "0         1   fairbet                   9500.0           -20.0   9480.0\n",
       "1         5  Minkyaa6                  10000.0             0.0  10000.0"
      ]
     },
     "execution_count": 90,
     "metadata": {},
     "output_type": "execute_result"
    }
   ],
   "source": [
    "df"
   ]
  },
  {
   "cell_type": "code",
   "execution_count": null,
   "id": "56832c4f",
   "metadata": {},
   "outputs": [],
   "source": []
  },
  {
   "cell_type": "code",
   "execution_count": null,
   "id": "0624144e",
   "metadata": {},
   "outputs": [],
   "source": []
  },
  {
   "cell_type": "code",
   "execution_count": 85,
   "id": "fd3f0671",
   "metadata": {},
   "outputs": [
    {
     "data": {
      "text/plain": [
       "<BulkUpdateOrCreateQuerySet [{'user__id': 1, 'user_id': 1, 'user_id__wallet__amount': 9500.0, 'total_amount': -20.0}, {'user__id': 5, 'user_id': 5, 'user_id__wallet__amount': 10000.0, 'total_amount': 0.0}]>"
      ]
     },
     "execution_count": 85,
     "metadata": {},
     "output_type": "execute_result"
    }
   ],
   "source": [
    "Betting.objects.values(\"user__id\",\"user_id\",\"user_id__wallet__amount\").annotate(total_amount = Sum(\"loss_profit\"))"
   ]
  },
  {
   "cell_type": "code",
   "execution_count": null,
   "id": "fa3082ed",
   "metadata": {},
   "outputs": [],
   "source": []
  },
  {
   "cell_type": "code",
   "execution_count": 91,
   "id": "461b9ead",
   "metadata": {},
   "outputs": [
    {
     "data": {
      "text/plain": [
       "<BulkUpdateOrCreateQuerySet [{'user__id': 1, 'user_id': 1, 'user_id__wallet__amount': 9500.0, 'loss_or_profit': -20.0}, {'user__id': 5, 'user_id': 5, 'user_id__wallet__amount': 10000.0, 'loss_or_profit': 0.0}]>"
      ]
     },
     "execution_count": 91,
     "metadata": {},
     "output_type": "execute_result"
    }
   ],
   "source": [
    "Betting.objects.filter(match=\"England vs India\").values(\"user__id\",\"user_id\",\"user_id__wallet__amount\").annotate(loss_or_profit = Sum(\"loss_profit\"))"
   ]
  },
  {
   "cell_type": "code",
   "execution_count": null,
   "id": "aec1dd15",
   "metadata": {},
   "outputs": [],
   "source": []
  },
  {
   "cell_type": "code",
   "execution_count": 97,
   "id": "8dcfbd5d",
   "metadata": {},
   "outputs": [],
   "source": [
    " df = read_frame(Betting.objects.filter(match=matchName,winning_team=winningTeam).values(\"user__id\",\"user_id\",\"user_id__wallet__amount\").annotate(loss_or_profit = Sum(\"loss_profit\")))"
   ]
  },
  {
   "cell_type": "code",
   "execution_count": 98,
   "id": "175b6716",
   "metadata": {},
   "outputs": [
    {
     "data": {
      "text/html": [
       "<div>\n",
       "<style scoped>\n",
       "    .dataframe tbody tr th:only-of-type {\n",
       "        vertical-align: middle;\n",
       "    }\n",
       "\n",
       "    .dataframe tbody tr th {\n",
       "        vertical-align: top;\n",
       "    }\n",
       "\n",
       "    .dataframe thead th {\n",
       "        text-align: right;\n",
       "    }\n",
       "</style>\n",
       "<table border=\"1\" class=\"dataframe\">\n",
       "  <thead>\n",
       "    <tr style=\"text-align: right;\">\n",
       "      <th></th>\n",
       "      <th>user__id</th>\n",
       "      <th>user_id</th>\n",
       "      <th>user_id__wallet__amount</th>\n",
       "      <th>loss_or_profit</th>\n",
       "    </tr>\n",
       "  </thead>\n",
       "  <tbody>\n",
       "    <tr>\n",
       "      <th>0</th>\n",
       "      <td>1</td>\n",
       "      <td>fairbet</td>\n",
       "      <td>9500.0</td>\n",
       "      <td>-20.0</td>\n",
       "    </tr>\n",
       "    <tr>\n",
       "      <th>1</th>\n",
       "      <td>5</td>\n",
       "      <td>Minkyaa6</td>\n",
       "      <td>10000.0</td>\n",
       "      <td>0.0</td>\n",
       "    </tr>\n",
       "  </tbody>\n",
       "</table>\n",
       "</div>"
      ],
      "text/plain": [
       "   user__id   user_id  user_id__wallet__amount  loss_or_profit\n",
       "0         1   fairbet                   9500.0           -20.0\n",
       "1         5  Minkyaa6                  10000.0             0.0"
      ]
     },
     "execution_count": 98,
     "metadata": {},
     "output_type": "execute_result"
    }
   ],
   "source": [
    "df"
   ]
  },
  {
   "cell_type": "code",
   "execution_count": null,
   "id": "1fc566fe",
   "metadata": {},
   "outputs": [],
   "source": [
    "update_wallet_instance = [Wallet(\n",
    "    user_id = value.get(\"vendor_id\",\"\"),\n",
    "    amount = value.get(\"product_id\",\"\"),\n",
    "    ) for key,value in wallet_dict.items()]\n",
    "Wallet.objects.bulk_update_or_create(update_wallet_instance,['user_id','amount'],match_field=['user_id'])"
   ]
  },
  {
   "cell_type": "code",
   "execution_count": null,
   "id": "8a6e5bf6",
   "metadata": {},
   "outputs": [],
   "source": []
  },
  {
   "cell_type": "code",
   "execution_count": 95,
   "id": "1f30dadf",
   "metadata": {},
   "outputs": [],
   "source": [
    "bet = read_frame(Betting.objects.filter(match=matchName).values(\"user__id\",\"user\",\"amount\",\"bet_on_team\",\"status\",\"odds\",\"winning_team\",\"loss_profit\",\"match\"))"
   ]
  },
  {
   "cell_type": "code",
   "execution_count": null,
   "id": "c389f298",
   "metadata": {},
   "outputs": [],
   "source": []
  },
  {
   "cell_type": "code",
   "execution_count": null,
   "id": "e6b738ec",
   "metadata": {},
   "outputs": [],
   "source": [
    "update_wallet_instance = [Wallet(\n",
    "    user_id = value.get(\"vendor_id\",\"\"),\n",
    "    amount = value.get(\"product_id\",\"\"),\n",
    "    ) for key,value in colour_dict.items()]\n",
    "Wallet.objects.bulk_update_or_create(update_wallet_instance,['user_id','amount'],match_field=['user_id'])"
   ]
  },
  {
   "cell_type": "code",
   "execution_count": null,
   "id": "be262129",
   "metadata": {},
   "outputs": [],
   "source": []
  },
  {
   "cell_type": "code",
   "execution_count": null,
   "id": "b6dcf513",
   "metadata": {},
   "outputs": [],
   "source": []
  },
  {
   "cell_type": "code",
   "execution_count": null,
   "id": "fcd89b75",
   "metadata": {},
   "outputs": [],
   "source": []
  },
  {
   "cell_type": "code",
   "execution_count": null,
   "id": "79936563",
   "metadata": {},
   "outputs": [],
   "source": []
  },
  {
   "cell_type": "code",
   "execution_count": null,
   "id": "aa5bd703",
   "metadata": {},
   "outputs": [],
   "source": []
  },
  {
   "cell_type": "code",
   "execution_count": null,
   "id": "38bbb62d",
   "metadata": {},
   "outputs": [],
   "source": []
  },
  {
   "cell_type": "code",
   "execution_count": null,
   "id": "44543372",
   "metadata": {},
   "outputs": [],
   "source": []
  },
  {
   "cell_type": "code",
   "execution_count": null,
   "id": "3b01d5fa",
   "metadata": {},
   "outputs": [],
   "source": []
  },
  {
   "cell_type": "code",
   "execution_count": 131,
   "id": "09c83f2f",
   "metadata": {},
   "outputs": [],
   "source": [
    "bettings = Betting.objects.filter(loss_profit__gt=0)"
   ]
  },
  {
   "cell_type": "code",
   "execution_count": 132,
   "id": "e0af0e9a",
   "metadata": {},
   "outputs": [
    {
     "data": {
      "text/plain": [
       "<BulkUpdateOrCreateQuerySet [<Betting: Betting object (7)>, <Betting: Betting object (10)>]>"
      ]
     },
     "execution_count": 132,
     "metadata": {},
     "output_type": "execute_result"
    }
   ],
   "source": [
    "bettings"
   ]
  },
  {
   "cell_type": "code",
   "execution_count": 40,
   "id": "367169a8",
   "metadata": {},
   "outputs": [],
   "source": [
    "df = read_frame(Betting.objects.filter(match=matchName).values(\"user__id\",\"user\",\"amount\",\"bet_on_team\",\"status\",\"odds\",\"winning_team\",\"loss_profit\",\"match\"))"
   ]
  },
  {
   "cell_type": "code",
   "execution_count": 48,
   "id": "62df8a0e",
   "metadata": {},
   "outputs": [],
   "source": [
    "new_df = df.groupby('user')['loss_profit'].sum()"
   ]
  },
  {
   "cell_type": "code",
   "execution_count": 54,
   "id": "8a0a61e8",
   "metadata": {},
   "outputs": [
    {
     "data": {
      "text/plain": [
       "0   -20.0\n",
       "1   -20.0\n",
       "2   -20.0\n",
       "3   -20.0\n",
       "Name: loss_profit, dtype: float64"
      ]
     },
     "execution_count": 54,
     "metadata": {},
     "output_type": "execute_result"
    }
   ],
   "source": [
    "df.groupby('user')['loss_profit'].transform('sum')"
   ]
  },
  {
   "cell_type": "code",
   "execution_count": null,
   "id": "33d3498c",
   "metadata": {},
   "outputs": [],
   "source": []
  },
  {
   "cell_type": "code",
   "execution_count": 49,
   "id": "da2418bd",
   "metadata": {},
   "outputs": [],
   "source": [
    "new_df.reset_index(drop=True,inplace=True)"
   ]
  },
  {
   "cell_type": "code",
   "execution_count": 50,
   "id": "097c2549",
   "metadata": {},
   "outputs": [
    {
     "data": {
      "text/plain": [
       "0   -20.0\n",
       "Name: loss_profit, dtype: float64"
      ]
     },
     "execution_count": 50,
     "metadata": {},
     "output_type": "execute_result"
    }
   ],
   "source": [
    "new_df"
   ]
  },
  {
   "cell_type": "code",
   "execution_count": null,
   "id": "7f235e49",
   "metadata": {},
   "outputs": [],
   "source": []
  },
  {
   "cell_type": "code",
   "execution_count": 38,
   "id": "b6993e8c",
   "metadata": {},
   "outputs": [],
   "source": [
    "bett = Betting.objects.filter(user_id=1).aggregate(Sum(F('loss_profit')))"
   ]
  },
  {
   "cell_type": "code",
   "execution_count": 39,
   "id": "c16c47c6",
   "metadata": {},
   "outputs": [
    {
     "data": {
      "text/plain": [
       "{'loss_profit__sum': -20.0}"
      ]
     },
     "execution_count": 39,
     "metadata": {},
     "output_type": "execute_result"
    }
   ],
   "source": [
    "bett"
   ]
  },
  {
   "cell_type": "code",
   "execution_count": 25,
   "id": "850c19e4",
   "metadata": {},
   "outputs": [
    {
     "data": {
      "text/html": [
       "<div>\n",
       "<style scoped>\n",
       "    .dataframe tbody tr th:only-of-type {\n",
       "        vertical-align: middle;\n",
       "    }\n",
       "\n",
       "    .dataframe tbody tr th {\n",
       "        vertical-align: top;\n",
       "    }\n",
       "\n",
       "    .dataframe thead th {\n",
       "        text-align: right;\n",
       "    }\n",
       "</style>\n",
       "<table border=\"1\" class=\"dataframe\">\n",
       "  <thead>\n",
       "    <tr style=\"text-align: right;\">\n",
       "      <th></th>\n",
       "      <th>id</th>\n",
       "      <th>user</th>\n",
       "      <th>amount</th>\n",
       "      <th>bet_on_team</th>\n",
       "      <th>status</th>\n",
       "      <th>odds</th>\n",
       "      <th>winning_team</th>\n",
       "      <th>loss_profit</th>\n",
       "      <th>match</th>\n",
       "      <th>created_at</th>\n",
       "      <th>updated_at</th>\n",
       "    </tr>\n",
       "  </thead>\n",
       "  <tbody>\n",
       "    <tr>\n",
       "      <th>0</th>\n",
       "      <td>16</td>\n",
       "      <td>fairbet</td>\n",
       "      <td>1000.0</td>\n",
       "      <td>England</td>\n",
       "      <td>BACK</td>\n",
       "      <td>1.50</td>\n",
       "      <td>England</td>\n",
       "      <td>500.0</td>\n",
       "      <td>England vs India</td>\n",
       "      <td>2022-07-06 06:20:16.207060+00:00</td>\n",
       "      <td>2022-07-06 10:31:52.837866+00:00</td>\n",
       "    </tr>\n",
       "    <tr>\n",
       "      <th>1</th>\n",
       "      <td>17</td>\n",
       "      <td>fairbet</td>\n",
       "      <td>1000.0</td>\n",
       "      <td>England</td>\n",
       "      <td>LAY</td>\n",
       "      <td>1.52</td>\n",
       "      <td>England</td>\n",
       "      <td>-520.0</td>\n",
       "      <td>England vs India</td>\n",
       "      <td>2022-07-06 06:23:12.963245+00:00</td>\n",
       "      <td>2022-07-06 10:31:56.493455+00:00</td>\n",
       "    </tr>\n",
       "    <tr>\n",
       "      <th>2</th>\n",
       "      <td>21</td>\n",
       "      <td>fairbet</td>\n",
       "      <td>1000.0</td>\n",
       "      <td>India</td>\n",
       "      <td>BACK</td>\n",
       "      <td>1.55</td>\n",
       "      <td>England</td>\n",
       "      <td>-1000.0</td>\n",
       "      <td>England vs India</td>\n",
       "      <td>2022-07-06 10:33:05.626427+00:00</td>\n",
       "      <td>2022-07-06 10:33:31.403796+00:00</td>\n",
       "    </tr>\n",
       "    <tr>\n",
       "      <th>3</th>\n",
       "      <td>22</td>\n",
       "      <td>fairbet</td>\n",
       "      <td>1000.0</td>\n",
       "      <td>India</td>\n",
       "      <td>LAY</td>\n",
       "      <td>1.56</td>\n",
       "      <td>England</td>\n",
       "      <td>1000.0</td>\n",
       "      <td>England vs India</td>\n",
       "      <td>2022-07-06 10:33:16.385601+00:00</td>\n",
       "      <td>2022-07-06 10:33:44.568271+00:00</td>\n",
       "    </tr>\n",
       "  </tbody>\n",
       "</table>\n",
       "</div>"
      ],
      "text/plain": [
       "   id     user  amount bet_on_team status  odds winning_team  loss_profit  \\\n",
       "0  16  fairbet  1000.0     England   BACK  1.50      England        500.0   \n",
       "1  17  fairbet  1000.0     England    LAY  1.52      England       -520.0   \n",
       "2  21  fairbet  1000.0       India   BACK  1.55      England      -1000.0   \n",
       "3  22  fairbet  1000.0       India    LAY  1.56      England       1000.0   \n",
       "\n",
       "              match                       created_at  \\\n",
       "0  England vs India 2022-07-06 06:20:16.207060+00:00   \n",
       "1  England vs India 2022-07-06 06:23:12.963245+00:00   \n",
       "2  England vs India 2022-07-06 10:33:05.626427+00:00   \n",
       "3  England vs India 2022-07-06 10:33:16.385601+00:00   \n",
       "\n",
       "                        updated_at  \n",
       "0 2022-07-06 10:31:52.837866+00:00  \n",
       "1 2022-07-06 10:31:56.493455+00:00  \n",
       "2 2022-07-06 10:33:31.403796+00:00  \n",
       "3 2022-07-06 10:33:44.568271+00:00  "
      ]
     },
     "execution_count": 25,
     "metadata": {},
     "output_type": "execute_result"
    }
   ],
   "source": [
    "wallet_df = read_frame(Wallet.objects)"
   ]
  },
  {
   "cell_type": "code",
   "execution_count": 68,
   "id": "d1620aae",
   "metadata": {},
   "outputs": [],
   "source": [
    "user_df = read_frame(Betting.objects.all().values(\"user__id\",\"user\",\"amount\",\"bet_on_team\",\"status\",\"odds\",\"winning_team\",\"loss_profit\",\"match\"))"
   ]
  },
  {
   "cell_type": "code",
   "execution_count": 69,
   "id": "0b0ee404",
   "metadata": {},
   "outputs": [
    {
     "data": {
      "text/html": [
       "<div>\n",
       "<style scoped>\n",
       "    .dataframe tbody tr th:only-of-type {\n",
       "        vertical-align: middle;\n",
       "    }\n",
       "\n",
       "    .dataframe tbody tr th {\n",
       "        vertical-align: top;\n",
       "    }\n",
       "\n",
       "    .dataframe thead th {\n",
       "        text-align: right;\n",
       "    }\n",
       "</style>\n",
       "<table border=\"1\" class=\"dataframe\">\n",
       "  <thead>\n",
       "    <tr style=\"text-align: right;\">\n",
       "      <th></th>\n",
       "      <th>user__id</th>\n",
       "      <th>user</th>\n",
       "      <th>amount</th>\n",
       "      <th>bet_on_team</th>\n",
       "      <th>status</th>\n",
       "      <th>odds</th>\n",
       "      <th>winning_team</th>\n",
       "      <th>loss_profit</th>\n",
       "      <th>match</th>\n",
       "    </tr>\n",
       "  </thead>\n",
       "  <tbody>\n",
       "    <tr>\n",
       "      <th>0</th>\n",
       "      <td>1</td>\n",
       "      <td>fairbet</td>\n",
       "      <td>1000.0</td>\n",
       "      <td>England</td>\n",
       "      <td>BACK</td>\n",
       "      <td>1.50</td>\n",
       "      <td>England</td>\n",
       "      <td>500.0</td>\n",
       "      <td>England vs India</td>\n",
       "    </tr>\n",
       "    <tr>\n",
       "      <th>1</th>\n",
       "      <td>1</td>\n",
       "      <td>fairbet</td>\n",
       "      <td>1000.0</td>\n",
       "      <td>England</td>\n",
       "      <td>LAY</td>\n",
       "      <td>1.52</td>\n",
       "      <td>England</td>\n",
       "      <td>-520.0</td>\n",
       "      <td>England vs India</td>\n",
       "    </tr>\n",
       "    <tr>\n",
       "      <th>2</th>\n",
       "      <td>1</td>\n",
       "      <td>fairbet</td>\n",
       "      <td>1000.0</td>\n",
       "      <td>India</td>\n",
       "      <td>BACK</td>\n",
       "      <td>1.55</td>\n",
       "      <td>England</td>\n",
       "      <td>-1000.0</td>\n",
       "      <td>England vs India</td>\n",
       "    </tr>\n",
       "    <tr>\n",
       "      <th>3</th>\n",
       "      <td>1</td>\n",
       "      <td>fairbet</td>\n",
       "      <td>1000.0</td>\n",
       "      <td>India</td>\n",
       "      <td>LAY</td>\n",
       "      <td>1.56</td>\n",
       "      <td>England</td>\n",
       "      <td>1000.0</td>\n",
       "      <td>England vs India</td>\n",
       "    </tr>\n",
       "  </tbody>\n",
       "</table>\n",
       "</div>"
      ],
      "text/plain": [
       "   user__id     user  amount bet_on_team status  odds winning_team  \\\n",
       "0         1  fairbet  1000.0     England   BACK  1.50      England   \n",
       "1         1  fairbet  1000.0     England    LAY  1.52      England   \n",
       "2         1  fairbet  1000.0       India   BACK  1.55      England   \n",
       "3         1  fairbet  1000.0       India    LAY  1.56      England   \n",
       "\n",
       "   loss_profit             match  \n",
       "0        500.0  England vs India  \n",
       "1       -520.0  England vs India  \n",
       "2      -1000.0  England vs India  \n",
       "3       1000.0  England vs India  "
      ]
     },
     "execution_count": 69,
     "metadata": {},
     "output_type": "execute_result"
    }
   ],
   "source": [
    "user_df"
   ]
  },
  {
   "cell_type": "code",
   "execution_count": null,
   "id": "437178f7",
   "metadata": {},
   "outputs": [],
   "source": []
  }
 ],
 "metadata": {
  "kernelspec": {
   "display_name": "Django Shell-Plus",
   "language": "python",
   "name": "django_extensions"
  },
  "language_info": {
   "codemirror_mode": {
    "name": "ipython",
    "version": 3
   },
   "file_extension": ".py",
   "mimetype": "text/x-python",
   "name": "python",
   "nbconvert_exporter": "python",
   "pygments_lexer": "ipython3",
   "version": "3.9.2"
  }
 },
 "nbformat": 4,
 "nbformat_minor": 5
}
