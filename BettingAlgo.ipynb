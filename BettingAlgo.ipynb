{
 "cells": [
  {
   "cell_type": "code",
   "execution_count": 25,
   "id": "2be1def4",
   "metadata": {},
   "outputs": [],
   "source": [
    "import os\n",
    "import django\n",
    "os.environ.setdefault('DJANGO_SETTINGS_MODULE', 'fairbet_django.settings')\n",
    "os.environ[\"DJANGO_ALLOW_ASYNC_UNSAFE\"] = \"true\"\n",
    "django.setup()"
   ]
  },
  {
   "cell_type": "code",
   "execution_count": 175,
   "id": "f3ac5b7a",
   "metadata": {},
   "outputs": [],
   "source": [
    "from order_placed.models import *\n",
    "from django_pandas.io import read_frame\n",
    "from django.db.models import F, Q, When, Value\n",
    "from django.db.models import Avg, OuterRef, Subquery"
   ]
  },
  {
   "cell_type": "code",
   "execution_count": 176,
   "id": "ed66bed2",
   "metadata": {},
   "outputs": [],
   "source": [
    "df = read_frame(Betting.objects.filter(match=\"Srilanka vs India\"))"
   ]
  },
  {
   "cell_type": "code",
   "execution_count": 177,
   "id": "54cbfea0",
   "metadata": {},
   "outputs": [
    {
     "data": {
      "text/html": [
       "<div>\n",
       "<style scoped>\n",
       "    .dataframe tbody tr th:only-of-type {\n",
       "        vertical-align: middle;\n",
       "    }\n",
       "\n",
       "    .dataframe tbody tr th {\n",
       "        vertical-align: top;\n",
       "    }\n",
       "\n",
       "    .dataframe thead th {\n",
       "        text-align: right;\n",
       "    }\n",
       "</style>\n",
       "<table border=\"1\" class=\"dataframe\">\n",
       "  <thead>\n",
       "    <tr style=\"text-align: right;\">\n",
       "      <th></th>\n",
       "      <th>id</th>\n",
       "      <th>user</th>\n",
       "      <th>amount</th>\n",
       "      <th>bet_on_team</th>\n",
       "      <th>status</th>\n",
       "      <th>odds</th>\n",
       "      <th>winning_team</th>\n",
       "      <th>loss_profit</th>\n",
       "      <th>match</th>\n",
       "      <th>created_at</th>\n",
       "      <th>updated_at</th>\n",
       "    </tr>\n",
       "  </thead>\n",
       "  <tbody>\n",
       "    <tr>\n",
       "      <th>0</th>\n",
       "      <td>7</td>\n",
       "      <td>fairbet</td>\n",
       "      <td>1000.0</td>\n",
       "      <td>Srilanka</td>\n",
       "      <td>BACK</td>\n",
       "      <td>1.85</td>\n",
       "      <td>Not declared yet</td>\n",
       "      <td>None</td>\n",
       "      <td>Srilanka vs India</td>\n",
       "      <td>2022-07-04 07:05:52.327891+00:00</td>\n",
       "      <td>2022-07-04 07:05:52.331877+00:00</td>\n",
       "    </tr>\n",
       "    <tr>\n",
       "      <th>1</th>\n",
       "      <td>8</td>\n",
       "      <td>fairbet</td>\n",
       "      <td>1000.0</td>\n",
       "      <td>Srilanka</td>\n",
       "      <td>LAY</td>\n",
       "      <td>1.85</td>\n",
       "      <td>Not declared yet</td>\n",
       "      <td>None</td>\n",
       "      <td>Srilanka vs India</td>\n",
       "      <td>2022-07-04 07:06:03.985142+00:00</td>\n",
       "      <td>2022-07-04 11:19:29.749531+00:00</td>\n",
       "    </tr>\n",
       "  </tbody>\n",
       "</table>\n",
       "</div>"
      ],
      "text/plain": [
       "   id     user  amount bet_on_team status  odds      winning_team loss_profit  \\\n",
       "0   7  fairbet  1000.0    Srilanka   BACK  1.85  Not declared yet        None   \n",
       "1   8  fairbet  1000.0    Srilanka    LAY  1.85  Not declared yet        None   \n",
       "\n",
       "               match                       created_at  \\\n",
       "0  Srilanka vs India 2022-07-04 07:05:52.327891+00:00   \n",
       "1  Srilanka vs India 2022-07-04 07:06:03.985142+00:00   \n",
       "\n",
       "                        updated_at  \n",
       "0 2022-07-04 07:05:52.331877+00:00  \n",
       "1 2022-07-04 11:19:29.749531+00:00  "
      ]
     },
     "execution_count": 177,
     "metadata": {},
     "output_type": "execute_result"
    }
   ],
   "source": [
    "df"
   ]
  },
  {
   "cell_type": "code",
   "execution_count": null,
   "id": "c63d2f1f",
   "metadata": {},
   "outputs": [],
   "source": []
  },
  {
   "cell_type": "code",
   "execution_count": 122,
   "id": "82cea81c",
   "metadata": {},
   "outputs": [],
   "source": [
    "# Client.objects.update(account_type=Case(\n",
    "#     When(registered_on__lte=a_year_ago,\n",
    "#          then=Value(Client.PLATINUM)),\n",
    "#     When(registered_on__lte=a_month_ago,\n",
    "#          then=Value(Client.GOLD)),\n",
    "#     default=Value(Client.REGULAR)\n",
    "# ),)"
   ]
  },
  {
   "cell_type": "code",
   "execution_count": 183,
   "id": "8982722b",
   "metadata": {},
   "outputs": [],
   "source": [
    "betting = Betting.objects.filter(match=\"Srilanka vs India\").values('loss_profit')"
   ]
  },
  {
   "cell_type": "code",
   "execution_count": 188,
   "id": "713159fc",
   "metadata": {},
   "outputs": [],
   "source": [
    "bet = betting.annotate(\n",
    "    betting_loss_profit=Case(\n",
    "        When(\n",
    "            status=\"BACK\",\n",
    "            then=F(\"amount\")*0.8,\n",
    "        ),\n",
    "        default = F(\"loss_profit\"),\n",
    "        output_field = models.FloatField()\n",
    "    )\n",
    ")"
   ]
  },
  {
   "cell_type": "code",
   "execution_count": 203,
   "id": "11fa1b31",
   "metadata": {},
   "outputs": [
    {
     "data": {
      "text/plain": [
       "5"
      ]
     },
     "execution_count": 203,
     "metadata": {},
     "output_type": "execute_result"
    }
   ],
   "source": [
    "Betting.objects.update(\n",
    "    loss_profit=Case(\n",
    "        When(status=\"B\",\n",
    "             match=\"Srilanka vs India\",\n",
    "             winning_team = \"Not declared yet\",\n",
    "             then=F(\"amount\")*F(\"odds\") - F(\"amount\")),\n",
    "        When(status=\"L\",\n",
    "             match=\"Srilanka vs India\",\n",
    "             winning_team = \"Not declared yet\",\n",
    "             then=F(\"amount\")* -F(\"odds\") + F(\"amount\")),\n",
    "        default=F(\"loss_profit\")\n",
    ")\n",
    "     )"
   ]
  },
  {
   "cell_type": "code",
   "execution_count": null,
   "id": "f8845fc7",
   "metadata": {},
   "outputs": [],
   "source": []
  },
  {
   "cell_type": "code",
   "execution_count": null,
   "id": "6cb30fa7",
   "metadata": {},
   "outputs": [],
   "source": []
  }
 ],
 "metadata": {
  "kernelspec": {
   "display_name": "Django Shell-Plus",
   "language": "python",
   "name": "django_extensions"
  },
  "language_info": {
   "codemirror_mode": {
    "name": "ipython",
    "version": 3
   },
   "file_extension": ".py",
   "mimetype": "text/x-python",
   "name": "python",
   "nbconvert_exporter": "python",
   "pygments_lexer": "ipython3",
   "version": "3.9.2"
  }
 },
 "nbformat": 4,
 "nbformat_minor": 5
}
