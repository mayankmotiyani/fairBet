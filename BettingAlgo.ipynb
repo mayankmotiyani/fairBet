{
 "cells": [
  {
   "cell_type": "code",
   "execution_count": 137,
   "id": "2be1def4",
   "metadata": {},
   "outputs": [],
   "source": [
    "import os\n",
    "import django\n",
    "os.environ.setdefault('DJANGO_SETTINGS_MODULE', 'fairbet_django.settings')\n",
    "os.environ[\"DJANGO_ALLOW_ASYNC_UNSAFE\"] = \"true\"\n",
    "django.setup()"
   ]
  },
  {
   "cell_type": "code",
   "execution_count": 138,
   "id": "f3ac5b7a",
   "metadata": {},
   "outputs": [],
   "source": [
    "from order_placed.models import *\n",
    "from payment.models import *\n",
    "from django_pandas.io import read_frame\n",
    "from django.db.models import F, Q, When, Value, Case, Sum"
   ]
  },
  {
   "cell_type": "code",
   "execution_count": 139,
   "id": "9ba44cea",
   "metadata": {},
   "outputs": [],
   "source": [
    "winningTeam = \"England\"\n",
    "matchName = \"England vs India\""
   ]
  },
  {
   "cell_type": "code",
   "execution_count": 140,
   "id": "50f6945d",
   "metadata": {},
   "outputs": [],
   "source": [
    "betting_instance = Betting.objects.filter(\n",
    "        match = matchName\n",
    "    ).update(\n",
    "        loss_profit = Case(\n",
    "            When(\n",
    "                status = \"B\",\n",
    "                bet_on_team = winningTeam,\n",
    "                winning_team = winningTeam,\n",
    "                then = F('amount') * F(\"odds\") - F('amount')),\n",
    "            When(\n",
    "                ~Q(bet_on_team = winningTeam),\n",
    "                status = \"B\",\n",
    "                winning_team = winningTeam,\n",
    "                then = -F('amount')),\n",
    "             When(\n",
    "                status = \"L\",\n",
    "                bet_on_team = winningTeam,\n",
    "                winning_team = winningTeam,\n",
    "                then = F('amount') * - F(\"odds\") + F('amount')),\n",
    "             When(\n",
    "                 ~Q(bet_on_team = winningTeam),\n",
    "                status = \"L\",\n",
    "                winning_team = winningTeam,\n",
    "                then = F('amount')),\n",
    "            default=F(\"loss_profit\")\n",
    "            )\n",
    "        )"
   ]
  },
  {
   "cell_type": "code",
   "execution_count": 141,
   "id": "529b8747",
   "metadata": {},
   "outputs": [],
   "source": [
    "get_wallet = read_frame(Betting.objects.all())"
   ]
  },
  {
   "cell_type": "code",
   "execution_count": 142,
   "id": "9f35ede8",
   "metadata": {},
   "outputs": [
    {
     "data": {
      "text/html": [
       "<div>\n",
       "<style scoped>\n",
       "    .dataframe tbody tr th:only-of-type {\n",
       "        vertical-align: middle;\n",
       "    }\n",
       "\n",
       "    .dataframe tbody tr th {\n",
       "        vertical-align: top;\n",
       "    }\n",
       "\n",
       "    .dataframe thead th {\n",
       "        text-align: right;\n",
       "    }\n",
       "</style>\n",
       "<table border=\"1\" class=\"dataframe\">\n",
       "  <thead>\n",
       "    <tr style=\"text-align: right;\">\n",
       "      <th></th>\n",
       "      <th>id</th>\n",
       "      <th>user</th>\n",
       "      <th>amount</th>\n",
       "      <th>bet_on_team</th>\n",
       "      <th>status</th>\n",
       "      <th>odds</th>\n",
       "      <th>winning_team</th>\n",
       "      <th>loss_profit</th>\n",
       "      <th>match</th>\n",
       "      <th>created_at</th>\n",
       "      <th>updated_at</th>\n",
       "    </tr>\n",
       "  </thead>\n",
       "  <tbody>\n",
       "    <tr>\n",
       "      <th>0</th>\n",
       "      <td>16</td>\n",
       "      <td>fairbet</td>\n",
       "      <td>1000.0</td>\n",
       "      <td>England</td>\n",
       "      <td>BACK</td>\n",
       "      <td>1.50</td>\n",
       "      <td>England</td>\n",
       "      <td>500.0</td>\n",
       "      <td>England vs India</td>\n",
       "      <td>2022-07-06 06:20:16.207060+00:00</td>\n",
       "      <td>2022-07-06 10:31:52.837866+00:00</td>\n",
       "    </tr>\n",
       "    <tr>\n",
       "      <th>1</th>\n",
       "      <td>17</td>\n",
       "      <td>fairbet</td>\n",
       "      <td>1000.0</td>\n",
       "      <td>England</td>\n",
       "      <td>LAY</td>\n",
       "      <td>1.52</td>\n",
       "      <td>England</td>\n",
       "      <td>-520.0</td>\n",
       "      <td>England vs India</td>\n",
       "      <td>2022-07-06 06:23:12.963245+00:00</td>\n",
       "      <td>2022-07-06 10:31:56.493455+00:00</td>\n",
       "    </tr>\n",
       "    <tr>\n",
       "      <th>2</th>\n",
       "      <td>21</td>\n",
       "      <td>fairbet</td>\n",
       "      <td>1000.0</td>\n",
       "      <td>India</td>\n",
       "      <td>BACK</td>\n",
       "      <td>1.55</td>\n",
       "      <td>England</td>\n",
       "      <td>-1000.0</td>\n",
       "      <td>England vs India</td>\n",
       "      <td>2022-07-06 10:33:05.626427+00:00</td>\n",
       "      <td>2022-07-06 10:33:31.403796+00:00</td>\n",
       "    </tr>\n",
       "    <tr>\n",
       "      <th>3</th>\n",
       "      <td>22</td>\n",
       "      <td>fairbet</td>\n",
       "      <td>1000.0</td>\n",
       "      <td>India</td>\n",
       "      <td>LAY</td>\n",
       "      <td>1.56</td>\n",
       "      <td>England</td>\n",
       "      <td>1000.0</td>\n",
       "      <td>England vs India</td>\n",
       "      <td>2022-07-06 10:33:16.385601+00:00</td>\n",
       "      <td>2022-07-06 10:33:44.568271+00:00</td>\n",
       "    </tr>\n",
       "    <tr>\n",
       "      <th>4</th>\n",
       "      <td>23</td>\n",
       "      <td>Minkyaa6</td>\n",
       "      <td>2000.0</td>\n",
       "      <td>India</td>\n",
       "      <td>BACK</td>\n",
       "      <td>1.50</td>\n",
       "      <td>England</td>\n",
       "      <td>-2000.0</td>\n",
       "      <td>England vs India</td>\n",
       "      <td>2022-07-07 06:08:40.586928+00:00</td>\n",
       "      <td>2022-07-07 06:12:14.663329+00:00</td>\n",
       "    </tr>\n",
       "    <tr>\n",
       "      <th>5</th>\n",
       "      <td>24</td>\n",
       "      <td>Minkyaa6</td>\n",
       "      <td>1500.0</td>\n",
       "      <td>India</td>\n",
       "      <td>LAY</td>\n",
       "      <td>1.50</td>\n",
       "      <td>England</td>\n",
       "      <td>1500.0</td>\n",
       "      <td>England vs India</td>\n",
       "      <td>2022-07-07 06:08:58.262509+00:00</td>\n",
       "      <td>2022-07-07 06:12:19.332599+00:00</td>\n",
       "    </tr>\n",
       "    <tr>\n",
       "      <th>6</th>\n",
       "      <td>25</td>\n",
       "      <td>Minkyaa6</td>\n",
       "      <td>1800.0</td>\n",
       "      <td>England</td>\n",
       "      <td>LAY</td>\n",
       "      <td>1.50</td>\n",
       "      <td>England</td>\n",
       "      <td>-900.0</td>\n",
       "      <td>England vs India</td>\n",
       "      <td>2022-07-07 06:11:54.038143+00:00</td>\n",
       "      <td>2022-07-07 06:12:23.678379+00:00</td>\n",
       "    </tr>\n",
       "    <tr>\n",
       "      <th>7</th>\n",
       "      <td>26</td>\n",
       "      <td>Minkyaa6</td>\n",
       "      <td>2800.0</td>\n",
       "      <td>England</td>\n",
       "      <td>BACK</td>\n",
       "      <td>1.50</td>\n",
       "      <td>England</td>\n",
       "      <td>1400.0</td>\n",
       "      <td>England vs India</td>\n",
       "      <td>2022-07-07 06:12:01.840215+00:00</td>\n",
       "      <td>2022-07-07 06:12:27.971871+00:00</td>\n",
       "    </tr>\n",
       "  </tbody>\n",
       "</table>\n",
       "</div>"
      ],
      "text/plain": [
       "   id      user  amount bet_on_team status  odds winning_team  loss_profit  \\\n",
       "0  16   fairbet  1000.0     England   BACK  1.50      England        500.0   \n",
       "1  17   fairbet  1000.0     England    LAY  1.52      England       -520.0   \n",
       "2  21   fairbet  1000.0       India   BACK  1.55      England      -1000.0   \n",
       "3  22   fairbet  1000.0       India    LAY  1.56      England       1000.0   \n",
       "4  23  Minkyaa6  2000.0       India   BACK  1.50      England      -2000.0   \n",
       "5  24  Minkyaa6  1500.0       India    LAY  1.50      England       1500.0   \n",
       "6  25  Minkyaa6  1800.0     England    LAY  1.50      England       -900.0   \n",
       "7  26  Minkyaa6  2800.0     England   BACK  1.50      England       1400.0   \n",
       "\n",
       "              match                       created_at  \\\n",
       "0  England vs India 2022-07-06 06:20:16.207060+00:00   \n",
       "1  England vs India 2022-07-06 06:23:12.963245+00:00   \n",
       "2  England vs India 2022-07-06 10:33:05.626427+00:00   \n",
       "3  England vs India 2022-07-06 10:33:16.385601+00:00   \n",
       "4  England vs India 2022-07-07 06:08:40.586928+00:00   \n",
       "5  England vs India 2022-07-07 06:08:58.262509+00:00   \n",
       "6  England vs India 2022-07-07 06:11:54.038143+00:00   \n",
       "7  England vs India 2022-07-07 06:12:01.840215+00:00   \n",
       "\n",
       "                        updated_at  \n",
       "0 2022-07-06 10:31:52.837866+00:00  \n",
       "1 2022-07-06 10:31:56.493455+00:00  \n",
       "2 2022-07-06 10:33:31.403796+00:00  \n",
       "3 2022-07-06 10:33:44.568271+00:00  \n",
       "4 2022-07-07 06:12:14.663329+00:00  \n",
       "5 2022-07-07 06:12:19.332599+00:00  \n",
       "6 2022-07-07 06:12:23.678379+00:00  \n",
       "7 2022-07-07 06:12:27.971871+00:00  "
      ]
     },
     "execution_count": 142,
     "metadata": {},
     "output_type": "execute_result"
    }
   ],
   "source": [
    "get_wallet"
   ]
  },
  {
   "cell_type": "code",
   "execution_count": null,
   "id": "8a362981",
   "metadata": {},
   "outputs": [],
   "source": []
  },
  {
   "cell_type": "code",
   "execution_count": 143,
   "id": "898dc075",
   "metadata": {},
   "outputs": [],
   "source": [
    "get_wallet['total_loss_or_profit'] = get_wallet.groupby('user')['loss_profit'].transform(lambda x : sum(x))"
   ]
  },
  {
   "cell_type": "code",
   "execution_count": 144,
   "id": "54cffb98",
   "metadata": {},
   "outputs": [
    {
     "data": {
      "text/html": [
       "<div>\n",
       "<style scoped>\n",
       "    .dataframe tbody tr th:only-of-type {\n",
       "        vertical-align: middle;\n",
       "    }\n",
       "\n",
       "    .dataframe tbody tr th {\n",
       "        vertical-align: top;\n",
       "    }\n",
       "\n",
       "    .dataframe thead th {\n",
       "        text-align: right;\n",
       "    }\n",
       "</style>\n",
       "<table border=\"1\" class=\"dataframe\">\n",
       "  <thead>\n",
       "    <tr style=\"text-align: right;\">\n",
       "      <th></th>\n",
       "      <th>id</th>\n",
       "      <th>user</th>\n",
       "      <th>amount</th>\n",
       "      <th>bet_on_team</th>\n",
       "      <th>status</th>\n",
       "      <th>odds</th>\n",
       "      <th>winning_team</th>\n",
       "      <th>loss_profit</th>\n",
       "      <th>match</th>\n",
       "      <th>created_at</th>\n",
       "      <th>updated_at</th>\n",
       "      <th>total_loss_or_profit</th>\n",
       "    </tr>\n",
       "  </thead>\n",
       "  <tbody>\n",
       "    <tr>\n",
       "      <th>0</th>\n",
       "      <td>16</td>\n",
       "      <td>fairbet</td>\n",
       "      <td>1000.0</td>\n",
       "      <td>England</td>\n",
       "      <td>BACK</td>\n",
       "      <td>1.5</td>\n",
       "      <td>England</td>\n",
       "      <td>500.0</td>\n",
       "      <td>England vs India</td>\n",
       "      <td>2022-07-06 06:20:16.207060+00:00</td>\n",
       "      <td>2022-07-06 10:31:52.837866+00:00</td>\n",
       "      <td>-20.0</td>\n",
       "    </tr>\n",
       "    <tr>\n",
       "      <th>4</th>\n",
       "      <td>23</td>\n",
       "      <td>Minkyaa6</td>\n",
       "      <td>2000.0</td>\n",
       "      <td>India</td>\n",
       "      <td>BACK</td>\n",
       "      <td>1.5</td>\n",
       "      <td>England</td>\n",
       "      <td>-2000.0</td>\n",
       "      <td>England vs India</td>\n",
       "      <td>2022-07-07 06:08:40.586928+00:00</td>\n",
       "      <td>2022-07-07 06:12:14.663329+00:00</td>\n",
       "      <td>0.0</td>\n",
       "    </tr>\n",
       "  </tbody>\n",
       "</table>\n",
       "</div>"
      ],
      "text/plain": [
       "   id      user  amount bet_on_team status  odds winning_team  loss_profit  \\\n",
       "0  16   fairbet  1000.0     England   BACK   1.5      England        500.0   \n",
       "4  23  Minkyaa6  2000.0       India   BACK   1.5      England      -2000.0   \n",
       "\n",
       "              match                       created_at  \\\n",
       "0  England vs India 2022-07-06 06:20:16.207060+00:00   \n",
       "4  England vs India 2022-07-07 06:08:40.586928+00:00   \n",
       "\n",
       "                        updated_at  total_loss_or_profit  \n",
       "0 2022-07-06 10:31:52.837866+00:00                 -20.0  \n",
       "4 2022-07-07 06:12:14.663329+00:00                   0.0  "
      ]
     },
     "execution_count": 144,
     "metadata": {},
     "output_type": "execute_result"
    }
   ],
   "source": [
    "get_wallet.drop_duplicates(subset=['user'])"
   ]
  },
  {
   "cell_type": "code",
   "execution_count": 145,
   "id": "bc7dcc3b",
   "metadata": {},
   "outputs": [
    {
     "data": {
      "text/plain": [
       "<BulkUpdateOrCreateQuerySet [<Betting: Betting object (16)>, <Betting: Betting object (17)>, <Betting: Betting object (21)>, <Betting: Betting object (22)>, <Betting: Betting object (23)>, <Betting: Betting object (24)>, <Betting: Betting object (25)>, <Betting: Betting object (26)>]>"
      ]
     },
     "execution_count": 145,
     "metadata": {},
     "output_type": "execute_result"
    }
   ],
   "source": [
    "Betting.objects.all().annotate(total_sum=Sum(\"loss_profit\"))"
   ]
  },
  {
   "cell_type": "code",
   "execution_count": null,
   "id": "83682564",
   "metadata": {},
   "outputs": [],
   "source": []
  },
  {
   "cell_type": "code",
   "execution_count": null,
   "id": "c10c06da",
   "metadata": {},
   "outputs": [],
   "source": []
  },
  {
   "cell_type": "code",
   "execution_count": null,
   "id": "ac7fad8f",
   "metadata": {},
   "outputs": [],
   "source": []
  },
  {
   "cell_type": "code",
   "execution_count": 146,
   "id": "bed2f8d1",
   "metadata": {},
   "outputs": [],
   "source": [
    "df = read_frame(Betting.objects.values(\"user__id\",\"user_id\",\"user_id__wallet__amount\").annotate(loss_or_profit = Sum(\"loss_profit\")))"
   ]
  },
  {
   "cell_type": "code",
   "execution_count": 147,
   "id": "c6038343",
   "metadata": {},
   "outputs": [],
   "source": [
    "df['total'] = df['user_id__wallet__amount'] + df['loss_or_profit']"
   ]
  },
  {
   "cell_type": "code",
   "execution_count": 148,
   "id": "45a7e23d",
   "metadata": {},
   "outputs": [
    {
     "data": {
      "text/html": [
       "<div>\n",
       "<style scoped>\n",
       "    .dataframe tbody tr th:only-of-type {\n",
       "        vertical-align: middle;\n",
       "    }\n",
       "\n",
       "    .dataframe tbody tr th {\n",
       "        vertical-align: top;\n",
       "    }\n",
       "\n",
       "    .dataframe thead th {\n",
       "        text-align: right;\n",
       "    }\n",
       "</style>\n",
       "<table border=\"1\" class=\"dataframe\">\n",
       "  <thead>\n",
       "    <tr style=\"text-align: right;\">\n",
       "      <th></th>\n",
       "      <th>user__id</th>\n",
       "      <th>user_id</th>\n",
       "      <th>user_id__wallet__amount</th>\n",
       "      <th>loss_or_profit</th>\n",
       "      <th>total</th>\n",
       "    </tr>\n",
       "  </thead>\n",
       "  <tbody>\n",
       "    <tr>\n",
       "      <th>0</th>\n",
       "      <td>1</td>\n",
       "      <td>fairbet</td>\n",
       "      <td>9500.0</td>\n",
       "      <td>-20.0</td>\n",
       "      <td>9480.0</td>\n",
       "    </tr>\n",
       "    <tr>\n",
       "      <th>1</th>\n",
       "      <td>5</td>\n",
       "      <td>Minkyaa6</td>\n",
       "      <td>10000.0</td>\n",
       "      <td>0.0</td>\n",
       "      <td>10000.0</td>\n",
       "    </tr>\n",
       "  </tbody>\n",
       "</table>\n",
       "</div>"
      ],
      "text/plain": [
       "   user__id   user_id  user_id__wallet__amount  loss_or_profit    total\n",
       "0         1   fairbet                   9500.0           -20.0   9480.0\n",
       "1         5  Minkyaa6                  10000.0             0.0  10000.0"
      ]
     },
     "execution_count": 148,
     "metadata": {},
     "output_type": "execute_result"
    }
   ],
   "source": [
    "df"
   ]
  },
  {
   "cell_type": "code",
   "execution_count": null,
   "id": "797f4856",
   "metadata": {},
   "outputs": [],
   "source": []
  },
  {
   "cell_type": "code",
   "execution_count": null,
   "id": "d5d773df",
   "metadata": {},
   "outputs": [],
   "source": []
  },
  {
   "cell_type": "code",
   "execution_count": 149,
   "id": "27b545f5",
   "metadata": {},
   "outputs": [
    {
     "data": {
      "text/plain": [
       "<BulkUpdateOrCreateQuerySet [{'user__id': 1, 'user_id': 1, 'user_id__wallet__amount': 9500.0, 'total_amount': -20.0}, {'user__id': 5, 'user_id': 5, 'user_id__wallet__amount': 10000.0, 'total_amount': 0.0}]>"
      ]
     },
     "execution_count": 149,
     "metadata": {},
     "output_type": "execute_result"
    }
   ],
   "source": [
    "Betting.objects.values(\"user__id\",\"user_id\",\"user_id__wallet__amount\").annotate(total_amount = Sum(\"loss_profit\"))"
   ]
  },
  {
   "cell_type": "code",
   "execution_count": null,
   "id": "44ba9fb3",
   "metadata": {},
   "outputs": [],
   "source": []
  },
  {
   "cell_type": "code",
   "execution_count": 150,
   "id": "2838c13c",
   "metadata": {},
   "outputs": [
    {
     "data": {
      "text/plain": [
       "<BulkUpdateOrCreateQuerySet [{'user__id': 1, 'user_id': 1, 'user_id__wallet__amount': 9500.0, 'loss_or_profit': -20.0}, {'user__id': 5, 'user_id': 5, 'user_id__wallet__amount': 10000.0, 'loss_or_profit': 0.0}]>"
      ]
     },
     "execution_count": 150,
     "metadata": {},
     "output_type": "execute_result"
    }
   ],
   "source": [
    "Betting.objects.filter(match=\"England vs India\").values(\"user__id\",\"user_id\",\"user_id__wallet__amount\").annotate(loss_or_profit = Sum(\"loss_profit\"))"
   ]
  },
  {
   "cell_type": "code",
   "execution_count": null,
   "id": "d7a08ece",
   "metadata": {},
   "outputs": [],
   "source": []
  },
  {
   "cell_type": "code",
   "execution_count": 151,
   "id": "6eb4a5e7",
   "metadata": {},
   "outputs": [],
   "source": [
    " df = read_frame(Betting.objects.filter(match=matchName,winning_team=winningTeam).values(\"user__id\",\"user_id\",\"user_id__wallet__amount\").annotate(loss_or_profit = Sum(\"loss_profit\")))"
   ]
  },
  {
   "cell_type": "code",
   "execution_count": 152,
   "id": "8b2f1234",
   "metadata": {},
   "outputs": [],
   "source": [
    "df['total'] = df['user_id__wallet__amount'] + df['loss_or_profit']"
   ]
  },
  {
   "cell_type": "code",
   "execution_count": 153,
   "id": "40cd49f6",
   "metadata": {},
   "outputs": [],
   "source": [
    "wallet_dict = df.transpose().to_dict()"
   ]
  },
  {
   "cell_type": "code",
   "execution_count": 157,
   "id": "625b4567",
   "metadata": {},
   "outputs": [
    {
     "data": {
      "text/plain": [
       "{0: {'user__id': 1,\n",
       "  'user_id': 'fairbet',\n",
       "  'user_id__wallet__amount': 9500.0,\n",
       "  'loss_or_profit': -20.0,\n",
       "  'total': 9480.0},\n",
       " 1: {'user__id': 5,\n",
       "  'user_id': 'Minkyaa6',\n",
       "  'user_id__wallet__amount': 10000.0,\n",
       "  'loss_or_profit': 0.0,\n",
       "  'total': 10000.0}}"
      ]
     },
     "execution_count": 157,
     "metadata": {},
     "output_type": "execute_result"
    }
   ],
   "source": [
    "wallet_dict"
   ]
  },
  {
   "cell_type": "code",
   "execution_count": 156,
   "id": "a21a2271",
   "metadata": {},
   "outputs": [
    {
     "ename": "AttributeError",
     "evalue": "'Manager' object has no attribute 'bulk_update_or_create'",
     "output_type": "error",
     "traceback": [
      "\u001b[1;31m---------------------------------------------------------------------------\u001b[0m",
      "\u001b[1;31mAttributeError\u001b[0m                            Traceback (most recent call last)",
      "Input \u001b[1;32mIn [156]\u001b[0m, in \u001b[0;36m<cell line: 5>\u001b[1;34m()\u001b[0m\n\u001b[0;32m      1\u001b[0m update_wallet_instance \u001b[38;5;241m=\u001b[39m [Wallet(\n\u001b[0;32m      2\u001b[0m     user_id \u001b[38;5;241m=\u001b[39m value\u001b[38;5;241m.\u001b[39mget(\u001b[38;5;124m\"\u001b[39m\u001b[38;5;124muser__id\u001b[39m\u001b[38;5;124m\"\u001b[39m,\u001b[38;5;124m\"\u001b[39m\u001b[38;5;124m\"\u001b[39m),\n\u001b[0;32m      3\u001b[0m     amount \u001b[38;5;241m=\u001b[39m value\u001b[38;5;241m.\u001b[39mget(\u001b[38;5;124m\"\u001b[39m\u001b[38;5;124mtotal\u001b[39m\u001b[38;5;124m\"\u001b[39m,\u001b[38;5;124m\"\u001b[39m\u001b[38;5;124m\"\u001b[39m),\n\u001b[0;32m      4\u001b[0m     ) \u001b[38;5;28;01mfor\u001b[39;00m key,value \u001b[38;5;129;01min\u001b[39;00m wallet_dict\u001b[38;5;241m.\u001b[39mitems()]\n\u001b[1;32m----> 5\u001b[0m \u001b[43mWallet\u001b[49m\u001b[38;5;241;43m.\u001b[39;49m\u001b[43mobjects\u001b[49m\u001b[38;5;241;43m.\u001b[39;49m\u001b[43mbulk_update_or_create\u001b[49m(update_wallet_instance,[\u001b[38;5;124m'\u001b[39m\u001b[38;5;124muser_id\u001b[39m\u001b[38;5;124m'\u001b[39m,\u001b[38;5;124m'\u001b[39m\u001b[38;5;124mamount\u001b[39m\u001b[38;5;124m'\u001b[39m],match_field\u001b[38;5;241m=\u001b[39m[\u001b[38;5;124m'\u001b[39m\u001b[38;5;124muser_id\u001b[39m\u001b[38;5;124m'\u001b[39m])\n",
      "\u001b[1;31mAttributeError\u001b[0m: 'Manager' object has no attribute 'bulk_update_or_create'"
     ]
    }
   ],
   "source": [
    "update_wallet_instance = [Wallet(\n",
    "    user_id = value.get(\"user__id\",\"\"),\n",
    "    amount = value.get(\"total\",\"\"),\n",
    "    ) for key,value in wallet_dict.items()]\n",
    "Wallet.objects.bulk_update_or_create(update_wallet_instance,['user_id','amount'],match_field=['user_id'])"
   ]
  },
  {
   "cell_type": "code",
   "execution_count": null,
   "id": "1a97c9bd",
   "metadata": {},
   "outputs": [],
   "source": []
  },
  {
   "cell_type": "code",
   "execution_count": 95,
   "id": "1f30dadf",
   "metadata": {},
   "outputs": [],
   "source": [
    "bet = read_frame(Betting.objects.filter(match=matchName).values(\"user__id\",\"user\",\"amount\",\"bet_on_team\",\"status\",\"odds\",\"winning_team\",\"loss_profit\",\"match\"))"
   ]
  },
  {
   "cell_type": "code",
   "execution_count": null,
   "id": "c389f298",
   "metadata": {},
   "outputs": [],
   "source": []
  },
  {
   "cell_type": "code",
   "execution_count": null,
   "id": "e6b738ec",
   "metadata": {},
   "outputs": [],
   "source": [
    "update_wallet_instance = [Wallet(\n",
    "    user_id = value.get(\"vendor_id\",\"\"),\n",
    "    amount = value.get(\"product_id\",\"\"),\n",
    "    ) for key,value in colour_dict.items()]\n",
    "Wallet.objects.bulk_update_or_create(update_wallet_instance,['user_id','amount'],match_field=['user_id'])"
   ]
  },
  {
   "cell_type": "code",
   "execution_count": null,
   "id": "be262129",
   "metadata": {},
   "outputs": [],
   "source": []
  },
  {
   "cell_type": "code",
   "execution_count": null,
   "id": "b6dcf513",
   "metadata": {},
   "outputs": [],
   "source": []
  },
  {
   "cell_type": "code",
   "execution_count": null,
   "id": "fcd89b75",
   "metadata": {},
   "outputs": [],
   "source": []
  },
  {
   "cell_type": "code",
   "execution_count": null,
   "id": "79936563",
   "metadata": {},
   "outputs": [],
   "source": []
  },
  {
   "cell_type": "code",
   "execution_count": null,
   "id": "aa5bd703",
   "metadata": {},
   "outputs": [],
   "source": []
  },
  {
   "cell_type": "code",
   "execution_count": null,
   "id": "38bbb62d",
   "metadata": {},
   "outputs": [],
   "source": []
  },
  {
   "cell_type": "code",
   "execution_count": null,
   "id": "44543372",
   "metadata": {},
   "outputs": [],
   "source": []
  },
  {
   "cell_type": "code",
   "execution_count": null,
   "id": "3b01d5fa",
   "metadata": {},
   "outputs": [],
   "source": []
  },
  {
   "cell_type": "code",
   "execution_count": 131,
   "id": "09c83f2f",
   "metadata": {},
   "outputs": [],
   "source": [
    "bettings = Betting.objects.filter(loss_profit__gt=0)"
   ]
  },
  {
   "cell_type": "code",
   "execution_count": 132,
   "id": "e0af0e9a",
   "metadata": {},
   "outputs": [
    {
     "data": {
      "text/plain": [
       "<BulkUpdateOrCreateQuerySet [<Betting: Betting object (7)>, <Betting: Betting object (10)>]>"
      ]
     },
     "execution_count": 132,
     "metadata": {},
     "output_type": "execute_result"
    }
   ],
   "source": [
    "bettings"
   ]
  },
  {
   "cell_type": "code",
   "execution_count": 40,
   "id": "367169a8",
   "metadata": {},
   "outputs": [],
   "source": [
    "df = read_frame(Betting.objects.filter(match=matchName).values(\"user__id\",\"user\",\"amount\",\"bet_on_team\",\"status\",\"odds\",\"winning_team\",\"loss_profit\",\"match\"))"
   ]
  },
  {
   "cell_type": "code",
   "execution_count": 48,
   "id": "62df8a0e",
   "metadata": {},
   "outputs": [],
   "source": [
    "new_df = df.groupby('user')['loss_profit'].sum()"
   ]
  },
  {
   "cell_type": "code",
   "execution_count": 54,
   "id": "8a0a61e8",
   "metadata": {},
   "outputs": [
    {
     "data": {
      "text/plain": [
       "0   -20.0\n",
       "1   -20.0\n",
       "2   -20.0\n",
       "3   -20.0\n",
       "Name: loss_profit, dtype: float64"
      ]
     },
     "execution_count": 54,
     "metadata": {},
     "output_type": "execute_result"
    }
   ],
   "source": [
    "df.groupby('user')['loss_profit'].transform('sum')"
   ]
  },
  {
   "cell_type": "code",
   "execution_count": null,
   "id": "33d3498c",
   "metadata": {},
   "outputs": [],
   "source": []
  },
  {
   "cell_type": "code",
   "execution_count": 49,
   "id": "da2418bd",
   "metadata": {},
   "outputs": [],
   "source": [
    "new_df.reset_index(drop=True,inplace=True)"
   ]
  },
  {
   "cell_type": "code",
   "execution_count": 50,
   "id": "097c2549",
   "metadata": {},
   "outputs": [
    {
     "data": {
      "text/plain": [
       "0   -20.0\n",
       "Name: loss_profit, dtype: float64"
      ]
     },
     "execution_count": 50,
     "metadata": {},
     "output_type": "execute_result"
    }
   ],
   "source": [
    "new_df"
   ]
  },
  {
   "cell_type": "code",
   "execution_count": null,
   "id": "7f235e49",
   "metadata": {},
   "outputs": [],
   "source": []
  },
  {
   "cell_type": "code",
   "execution_count": 38,
   "id": "b6993e8c",
   "metadata": {},
   "outputs": [],
   "source": [
    "bett = Betting.objects.filter(user_id=1).aggregate(Sum(F('loss_profit')))"
   ]
  },
  {
   "cell_type": "code",
   "execution_count": 39,
   "id": "c16c47c6",
   "metadata": {},
   "outputs": [
    {
     "data": {
      "text/plain": [
       "{'loss_profit__sum': -20.0}"
      ]
     },
     "execution_count": 39,
     "metadata": {},
     "output_type": "execute_result"
    }
   ],
   "source": [
    "bett"
   ]
  },
  {
   "cell_type": "code",
   "execution_count": 25,
   "id": "850c19e4",
   "metadata": {},
   "outputs": [
    {
     "data": {
      "text/html": [
       "<div>\n",
       "<style scoped>\n",
       "    .dataframe tbody tr th:only-of-type {\n",
       "        vertical-align: middle;\n",
       "    }\n",
       "\n",
       "    .dataframe tbody tr th {\n",
       "        vertical-align: top;\n",
       "    }\n",
       "\n",
       "    .dataframe thead th {\n",
       "        text-align: right;\n",
       "    }\n",
       "</style>\n",
       "<table border=\"1\" class=\"dataframe\">\n",
       "  <thead>\n",
       "    <tr style=\"text-align: right;\">\n",
       "      <th></th>\n",
       "      <th>id</th>\n",
       "      <th>user</th>\n",
       "      <th>amount</th>\n",
       "      <th>bet_on_team</th>\n",
       "      <th>status</th>\n",
       "      <th>odds</th>\n",
       "      <th>winning_team</th>\n",
       "      <th>loss_profit</th>\n",
       "      <th>match</th>\n",
       "      <th>created_at</th>\n",
       "      <th>updated_at</th>\n",
       "    </tr>\n",
       "  </thead>\n",
       "  <tbody>\n",
       "    <tr>\n",
       "      <th>0</th>\n",
       "      <td>16</td>\n",
       "      <td>fairbet</td>\n",
       "      <td>1000.0</td>\n",
       "      <td>England</td>\n",
       "      <td>BACK</td>\n",
       "      <td>1.50</td>\n",
       "      <td>England</td>\n",
       "      <td>500.0</td>\n",
       "      <td>England vs India</td>\n",
       "      <td>2022-07-06 06:20:16.207060+00:00</td>\n",
       "      <td>2022-07-06 10:31:52.837866+00:00</td>\n",
       "    </tr>\n",
       "    <tr>\n",
       "      <th>1</th>\n",
       "      <td>17</td>\n",
       "      <td>fairbet</td>\n",
       "      <td>1000.0</td>\n",
       "      <td>England</td>\n",
       "      <td>LAY</td>\n",
       "      <td>1.52</td>\n",
       "      <td>England</td>\n",
       "      <td>-520.0</td>\n",
       "      <td>England vs India</td>\n",
       "      <td>2022-07-06 06:23:12.963245+00:00</td>\n",
       "      <td>2022-07-06 10:31:56.493455+00:00</td>\n",
       "    </tr>\n",
       "    <tr>\n",
       "      <th>2</th>\n",
       "      <td>21</td>\n",
       "      <td>fairbet</td>\n",
       "      <td>1000.0</td>\n",
       "      <td>India</td>\n",
       "      <td>BACK</td>\n",
       "      <td>1.55</td>\n",
       "      <td>England</td>\n",
       "      <td>-1000.0</td>\n",
       "      <td>England vs India</td>\n",
       "      <td>2022-07-06 10:33:05.626427+00:00</td>\n",
       "      <td>2022-07-06 10:33:31.403796+00:00</td>\n",
       "    </tr>\n",
       "    <tr>\n",
       "      <th>3</th>\n",
       "      <td>22</td>\n",
       "      <td>fairbet</td>\n",
       "      <td>1000.0</td>\n",
       "      <td>India</td>\n",
       "      <td>LAY</td>\n",
       "      <td>1.56</td>\n",
       "      <td>England</td>\n",
       "      <td>1000.0</td>\n",
       "      <td>England vs India</td>\n",
       "      <td>2022-07-06 10:33:16.385601+00:00</td>\n",
       "      <td>2022-07-06 10:33:44.568271+00:00</td>\n",
       "    </tr>\n",
       "  </tbody>\n",
       "</table>\n",
       "</div>"
      ],
      "text/plain": [
       "   id     user  amount bet_on_team status  odds winning_team  loss_profit  \\\n",
       "0  16  fairbet  1000.0     England   BACK  1.50      England        500.0   \n",
       "1  17  fairbet  1000.0     England    LAY  1.52      England       -520.0   \n",
       "2  21  fairbet  1000.0       India   BACK  1.55      England      -1000.0   \n",
       "3  22  fairbet  1000.0       India    LAY  1.56      England       1000.0   \n",
       "\n",
       "              match                       created_at  \\\n",
       "0  England vs India 2022-07-06 06:20:16.207060+00:00   \n",
       "1  England vs India 2022-07-06 06:23:12.963245+00:00   \n",
       "2  England vs India 2022-07-06 10:33:05.626427+00:00   \n",
       "3  England vs India 2022-07-06 10:33:16.385601+00:00   \n",
       "\n",
       "                        updated_at  \n",
       "0 2022-07-06 10:31:52.837866+00:00  \n",
       "1 2022-07-06 10:31:56.493455+00:00  \n",
       "2 2022-07-06 10:33:31.403796+00:00  \n",
       "3 2022-07-06 10:33:44.568271+00:00  "
      ]
     },
     "execution_count": 25,
     "metadata": {},
     "output_type": "execute_result"
    }
   ],
   "source": [
    "wallet_df = read_frame(Wallet.objects)"
   ]
  },
  {
   "cell_type": "code",
   "execution_count": 68,
   "id": "d1620aae",
   "metadata": {},
   "outputs": [],
   "source": [
    "user_df = read_frame(Betting.objects.all().values(\"user__id\",\"user\",\"amount\",\"bet_on_team\",\"status\",\"odds\",\"winning_team\",\"loss_profit\",\"match\"))"
   ]
  },
  {
   "cell_type": "code",
   "execution_count": 69,
   "id": "0b0ee404",
   "metadata": {},
   "outputs": [
    {
     "data": {
      "text/html": [
       "<div>\n",
       "<style scoped>\n",
       "    .dataframe tbody tr th:only-of-type {\n",
       "        vertical-align: middle;\n",
       "    }\n",
       "\n",
       "    .dataframe tbody tr th {\n",
       "        vertical-align: top;\n",
       "    }\n",
       "\n",
       "    .dataframe thead th {\n",
       "        text-align: right;\n",
       "    }\n",
       "</style>\n",
       "<table border=\"1\" class=\"dataframe\">\n",
       "  <thead>\n",
       "    <tr style=\"text-align: right;\">\n",
       "      <th></th>\n",
       "      <th>user__id</th>\n",
       "      <th>user</th>\n",
       "      <th>amount</th>\n",
       "      <th>bet_on_team</th>\n",
       "      <th>status</th>\n",
       "      <th>odds</th>\n",
       "      <th>winning_team</th>\n",
       "      <th>loss_profit</th>\n",
       "      <th>match</th>\n",
       "    </tr>\n",
       "  </thead>\n",
       "  <tbody>\n",
       "    <tr>\n",
       "      <th>0</th>\n",
       "      <td>1</td>\n",
       "      <td>fairbet</td>\n",
       "      <td>1000.0</td>\n",
       "      <td>England</td>\n",
       "      <td>BACK</td>\n",
       "      <td>1.50</td>\n",
       "      <td>England</td>\n",
       "      <td>500.0</td>\n",
       "      <td>England vs India</td>\n",
       "    </tr>\n",
       "    <tr>\n",
       "      <th>1</th>\n",
       "      <td>1</td>\n",
       "      <td>fairbet</td>\n",
       "      <td>1000.0</td>\n",
       "      <td>England</td>\n",
       "      <td>LAY</td>\n",
       "      <td>1.52</td>\n",
       "      <td>England</td>\n",
       "      <td>-520.0</td>\n",
       "      <td>England vs India</td>\n",
       "    </tr>\n",
       "    <tr>\n",
       "      <th>2</th>\n",
       "      <td>1</td>\n",
       "      <td>fairbet</td>\n",
       "      <td>1000.0</td>\n",
       "      <td>India</td>\n",
       "      <td>BACK</td>\n",
       "      <td>1.55</td>\n",
       "      <td>England</td>\n",
       "      <td>-1000.0</td>\n",
       "      <td>England vs India</td>\n",
       "    </tr>\n",
       "    <tr>\n",
       "      <th>3</th>\n",
       "      <td>1</td>\n",
       "      <td>fairbet</td>\n",
       "      <td>1000.0</td>\n",
       "      <td>India</td>\n",
       "      <td>LAY</td>\n",
       "      <td>1.56</td>\n",
       "      <td>England</td>\n",
       "      <td>1000.0</td>\n",
       "      <td>England vs India</td>\n",
       "    </tr>\n",
       "  </tbody>\n",
       "</table>\n",
       "</div>"
      ],
      "text/plain": [
       "   user__id     user  amount bet_on_team status  odds winning_team  \\\n",
       "0         1  fairbet  1000.0     England   BACK  1.50      England   \n",
       "1         1  fairbet  1000.0     England    LAY  1.52      England   \n",
       "2         1  fairbet  1000.0       India   BACK  1.55      England   \n",
       "3         1  fairbet  1000.0       India    LAY  1.56      England   \n",
       "\n",
       "   loss_profit             match  \n",
       "0        500.0  England vs India  \n",
       "1       -520.0  England vs India  \n",
       "2      -1000.0  England vs India  \n",
       "3       1000.0  England vs India  "
      ]
     },
     "execution_count": 69,
     "metadata": {},
     "output_type": "execute_result"
    }
   ],
   "source": [
    "user_df"
   ]
  },
  {
   "cell_type": "code",
   "execution_count": null,
   "id": "437178f7",
   "metadata": {},
   "outputs": [],
   "source": []
  }
 ],
 "metadata": {
  "kernelspec": {
   "display_name": "Django Shell-Plus",
   "language": "python",
   "name": "django_extensions"
  },
  "language_info": {
   "codemirror_mode": {
    "name": "ipython",
    "version": 3
   },
   "file_extension": ".py",
   "mimetype": "text/x-python",
   "name": "python",
   "nbconvert_exporter": "python",
   "pygments_lexer": "ipython3",
   "version": "3.9.2"
  }
 },
 "nbformat": 4,
 "nbformat_minor": 5
}
