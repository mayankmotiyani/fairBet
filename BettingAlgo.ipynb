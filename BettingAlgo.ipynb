{
 "cells": [
  {
   "cell_type": "code",
   "execution_count": 24,
   "id": "2be1def4",
   "metadata": {},
   "outputs": [],
   "source": [
    "import os\n",
    "import django\n",
    "os.environ.setdefault('DJANGO_SETTINGS_MODULE', 'fairbet_django.settings')\n",
    "os.environ[\"DJANGO_ALLOW_ASYNC_UNSAFE\"] = \"true\"\n",
    "django.setup()"
   ]
  },
  {
   "cell_type": "code",
   "execution_count": 25,
   "id": "f3ac5b7a",
   "metadata": {},
   "outputs": [],
   "source": [
    "from order_placed.models import *\n",
    "from payment.models import *\n",
    "from django_pandas.io import read_frame\n",
    "from django.db.models import F, Q, When, Value, Case, Sum"
   ]
  },
  {
   "cell_type": "code",
   "execution_count": 26,
   "id": "9ba44cea",
   "metadata": {},
   "outputs": [],
   "source": [
    "winningTeam = \"England\"\n",
    "matchName = \"England vs India\""
   ]
  },
  {
   "cell_type": "code",
   "execution_count": 27,
   "id": "50f6945d",
   "metadata": {},
   "outputs": [],
   "source": [
    "betting_instance = Betting.objects.filter(\n",
    "        match = matchName\n",
    "    ).update(\n",
    "        loss_profit = Case(\n",
    "            When(\n",
    "                status = \"B\",\n",
    "                bet_on_team = winningTeam,\n",
    "                winning_team = winningTeam,\n",
    "                then = F('amount') * F(\"odds\") - F('amount')),\n",
    "            When(\n",
    "                ~Q(bet_on_team = winningTeam),\n",
    "                status = \"B\",\n",
    "                winning_team = winningTeam,\n",
    "                then = -F('amount')),\n",
    "             When(\n",
    "                status = \"L\",\n",
    "                bet_on_team = winningTeam,\n",
    "                winning_team = winningTeam,\n",
    "                then = F('amount') * - F(\"odds\") + F('amount')),\n",
    "             When(\n",
    "                 ~Q(bet_on_team = winningTeam),\n",
    "                status = \"L\",\n",
    "                winning_team = winningTeam,\n",
    "                then = F('amount')),\n",
    "            default=F(\"loss_profit\")\n",
    "            )\n",
    "        )"
   ]
  },
  {
   "cell_type": "code",
   "execution_count": 141,
   "id": "529b8747",
   "metadata": {},
   "outputs": [],
   "source": [
    "get_wallet = read_frame(Betting.objects.all())"
   ]
  },
  {
   "cell_type": "code",
   "execution_count": 142,
   "id": "9f35ede8",
   "metadata": {},
   "outputs": [
    {
     "data": {
      "text/html": [
       "<div>\n",
       "<style scoped>\n",
       "    .dataframe tbody tr th:only-of-type {\n",
       "        vertical-align: middle;\n",
       "    }\n",
       "\n",
       "    .dataframe tbody tr th {\n",
       "        vertical-align: top;\n",
       "    }\n",
       "\n",
       "    .dataframe thead th {\n",
       "        text-align: right;\n",
       "    }\n",
       "</style>\n",
       "<table border=\"1\" class=\"dataframe\">\n",
       "  <thead>\n",
       "    <tr style=\"text-align: right;\">\n",
       "      <th></th>\n",
       "      <th>id</th>\n",
       "      <th>user</th>\n",
       "      <th>amount</th>\n",
       "      <th>bet_on_team</th>\n",
       "      <th>status</th>\n",
       "      <th>odds</th>\n",
       "      <th>winning_team</th>\n",
       "      <th>loss_profit</th>\n",
       "      <th>match</th>\n",
       "      <th>created_at</th>\n",
       "      <th>updated_at</th>\n",
       "    </tr>\n",
       "  </thead>\n",
       "  <tbody>\n",
       "    <tr>\n",
       "      <th>0</th>\n",
       "      <td>16</td>\n",
       "      <td>fairbet</td>\n",
       "      <td>1000.0</td>\n",
       "      <td>England</td>\n",
       "      <td>BACK</td>\n",
       "      <td>1.50</td>\n",
       "      <td>England</td>\n",
       "      <td>500.0</td>\n",
       "      <td>England vs India</td>\n",
       "      <td>2022-07-06 06:20:16.207060+00:00</td>\n",
       "      <td>2022-07-06 10:31:52.837866+00:00</td>\n",
       "    </tr>\n",
       "    <tr>\n",
       "      <th>1</th>\n",
       "      <td>17</td>\n",
       "      <td>fairbet</td>\n",
       "      <td>1000.0</td>\n",
       "      <td>England</td>\n",
       "      <td>LAY</td>\n",
       "      <td>1.52</td>\n",
       "      <td>England</td>\n",
       "      <td>-520.0</td>\n",
       "      <td>England vs India</td>\n",
       "      <td>2022-07-06 06:23:12.963245+00:00</td>\n",
       "      <td>2022-07-06 10:31:56.493455+00:00</td>\n",
       "    </tr>\n",
       "    <tr>\n",
       "      <th>2</th>\n",
       "      <td>21</td>\n",
       "      <td>fairbet</td>\n",
       "      <td>1000.0</td>\n",
       "      <td>India</td>\n",
       "      <td>BACK</td>\n",
       "      <td>1.55</td>\n",
       "      <td>England</td>\n",
       "      <td>-1000.0</td>\n",
       "      <td>England vs India</td>\n",
       "      <td>2022-07-06 10:33:05.626427+00:00</td>\n",
       "      <td>2022-07-06 10:33:31.403796+00:00</td>\n",
       "    </tr>\n",
       "    <tr>\n",
       "      <th>3</th>\n",
       "      <td>22</td>\n",
       "      <td>fairbet</td>\n",
       "      <td>1000.0</td>\n",
       "      <td>India</td>\n",
       "      <td>LAY</td>\n",
       "      <td>1.56</td>\n",
       "      <td>England</td>\n",
       "      <td>1000.0</td>\n",
       "      <td>England vs India</td>\n",
       "      <td>2022-07-06 10:33:16.385601+00:00</td>\n",
       "      <td>2022-07-06 10:33:44.568271+00:00</td>\n",
       "    </tr>\n",
       "    <tr>\n",
       "      <th>4</th>\n",
       "      <td>23</td>\n",
       "      <td>Minkyaa6</td>\n",
       "      <td>2000.0</td>\n",
       "      <td>India</td>\n",
       "      <td>BACK</td>\n",
       "      <td>1.50</td>\n",
       "      <td>England</td>\n",
       "      <td>-2000.0</td>\n",
       "      <td>England vs India</td>\n",
       "      <td>2022-07-07 06:08:40.586928+00:00</td>\n",
       "      <td>2022-07-07 06:12:14.663329+00:00</td>\n",
       "    </tr>\n",
       "    <tr>\n",
       "      <th>5</th>\n",
       "      <td>24</td>\n",
       "      <td>Minkyaa6</td>\n",
       "      <td>1500.0</td>\n",
       "      <td>India</td>\n",
       "      <td>LAY</td>\n",
       "      <td>1.50</td>\n",
       "      <td>England</td>\n",
       "      <td>1500.0</td>\n",
       "      <td>England vs India</td>\n",
       "      <td>2022-07-07 06:08:58.262509+00:00</td>\n",
       "      <td>2022-07-07 06:12:19.332599+00:00</td>\n",
       "    </tr>\n",
       "    <tr>\n",
       "      <th>6</th>\n",
       "      <td>25</td>\n",
       "      <td>Minkyaa6</td>\n",
       "      <td>1800.0</td>\n",
       "      <td>England</td>\n",
       "      <td>LAY</td>\n",
       "      <td>1.50</td>\n",
       "      <td>England</td>\n",
       "      <td>-900.0</td>\n",
       "      <td>England vs India</td>\n",
       "      <td>2022-07-07 06:11:54.038143+00:00</td>\n",
       "      <td>2022-07-07 06:12:23.678379+00:00</td>\n",
       "    </tr>\n",
       "    <tr>\n",
       "      <th>7</th>\n",
       "      <td>26</td>\n",
       "      <td>Minkyaa6</td>\n",
       "      <td>2800.0</td>\n",
       "      <td>England</td>\n",
       "      <td>BACK</td>\n",
       "      <td>1.50</td>\n",
       "      <td>England</td>\n",
       "      <td>1400.0</td>\n",
       "      <td>England vs India</td>\n",
       "      <td>2022-07-07 06:12:01.840215+00:00</td>\n",
       "      <td>2022-07-07 06:12:27.971871+00:00</td>\n",
       "    </tr>\n",
       "  </tbody>\n",
       "</table>\n",
       "</div>"
      ],
      "text/plain": [
       "   id      user  amount bet_on_team status  odds winning_team  loss_profit  \\\n",
       "0  16   fairbet  1000.0     England   BACK  1.50      England        500.0   \n",
       "1  17   fairbet  1000.0     England    LAY  1.52      England       -520.0   \n",
       "2  21   fairbet  1000.0       India   BACK  1.55      England      -1000.0   \n",
       "3  22   fairbet  1000.0       India    LAY  1.56      England       1000.0   \n",
       "4  23  Minkyaa6  2000.0       India   BACK  1.50      England      -2000.0   \n",
       "5  24  Minkyaa6  1500.0       India    LAY  1.50      England       1500.0   \n",
       "6  25  Minkyaa6  1800.0     England    LAY  1.50      England       -900.0   \n",
       "7  26  Minkyaa6  2800.0     England   BACK  1.50      England       1400.0   \n",
       "\n",
       "              match                       created_at  \\\n",
       "0  England vs India 2022-07-06 06:20:16.207060+00:00   \n",
       "1  England vs India 2022-07-06 06:23:12.963245+00:00   \n",
       "2  England vs India 2022-07-06 10:33:05.626427+00:00   \n",
       "3  England vs India 2022-07-06 10:33:16.385601+00:00   \n",
       "4  England vs India 2022-07-07 06:08:40.586928+00:00   \n",
       "5  England vs India 2022-07-07 06:08:58.262509+00:00   \n",
       "6  England vs India 2022-07-07 06:11:54.038143+00:00   \n",
       "7  England vs India 2022-07-07 06:12:01.840215+00:00   \n",
       "\n",
       "                        updated_at  \n",
       "0 2022-07-06 10:31:52.837866+00:00  \n",
       "1 2022-07-06 10:31:56.493455+00:00  \n",
       "2 2022-07-06 10:33:31.403796+00:00  \n",
       "3 2022-07-06 10:33:44.568271+00:00  \n",
       "4 2022-07-07 06:12:14.663329+00:00  \n",
       "5 2022-07-07 06:12:19.332599+00:00  \n",
       "6 2022-07-07 06:12:23.678379+00:00  \n",
       "7 2022-07-07 06:12:27.971871+00:00  "
      ]
     },
     "execution_count": 142,
     "metadata": {},
     "output_type": "execute_result"
    }
   ],
   "source": [
    "get_wallet"
   ]
  },
  {
   "cell_type": "code",
   "execution_count": null,
   "id": "8a362981",
   "metadata": {},
   "outputs": [],
   "source": []
  },
  {
   "cell_type": "code",
   "execution_count": 143,
   "id": "898dc075",
   "metadata": {},
   "outputs": [],
   "source": [
    "get_wallet['total_loss_or_profit'] = get_wallet.groupby('user')['loss_profit'].transform(lambda x : sum(x))"
   ]
  },
  {
   "cell_type": "code",
   "execution_count": 144,
   "id": "54cffb98",
   "metadata": {},
   "outputs": [
    {
     "data": {
      "text/html": [
       "<div>\n",
       "<style scoped>\n",
       "    .dataframe tbody tr th:only-of-type {\n",
       "        vertical-align: middle;\n",
       "    }\n",
       "\n",
       "    .dataframe tbody tr th {\n",
       "        vertical-align: top;\n",
       "    }\n",
       "\n",
       "    .dataframe thead th {\n",
       "        text-align: right;\n",
       "    }\n",
       "</style>\n",
       "<table border=\"1\" class=\"dataframe\">\n",
       "  <thead>\n",
       "    <tr style=\"text-align: right;\">\n",
       "      <th></th>\n",
       "      <th>id</th>\n",
       "      <th>user</th>\n",
       "      <th>amount</th>\n",
       "      <th>bet_on_team</th>\n",
       "      <th>status</th>\n",
       "      <th>odds</th>\n",
       "      <th>winning_team</th>\n",
       "      <th>loss_profit</th>\n",
       "      <th>match</th>\n",
       "      <th>created_at</th>\n",
       "      <th>updated_at</th>\n",
       "      <th>total_loss_or_profit</th>\n",
       "    </tr>\n",
       "  </thead>\n",
       "  <tbody>\n",
       "    <tr>\n",
       "      <th>0</th>\n",
       "      <td>16</td>\n",
       "      <td>fairbet</td>\n",
       "      <td>1000.0</td>\n",
       "      <td>England</td>\n",
       "      <td>BACK</td>\n",
       "      <td>1.5</td>\n",
       "      <td>England</td>\n",
       "      <td>500.0</td>\n",
       "      <td>England vs India</td>\n",
       "      <td>2022-07-06 06:20:16.207060+00:00</td>\n",
       "      <td>2022-07-06 10:31:52.837866+00:00</td>\n",
       "      <td>-20.0</td>\n",
       "    </tr>\n",
       "    <tr>\n",
       "      <th>4</th>\n",
       "      <td>23</td>\n",
       "      <td>Minkyaa6</td>\n",
       "      <td>2000.0</td>\n",
       "      <td>India</td>\n",
       "      <td>BACK</td>\n",
       "      <td>1.5</td>\n",
       "      <td>England</td>\n",
       "      <td>-2000.0</td>\n",
       "      <td>England vs India</td>\n",
       "      <td>2022-07-07 06:08:40.586928+00:00</td>\n",
       "      <td>2022-07-07 06:12:14.663329+00:00</td>\n",
       "      <td>0.0</td>\n",
       "    </tr>\n",
       "  </tbody>\n",
       "</table>\n",
       "</div>"
      ],
      "text/plain": [
       "   id      user  amount bet_on_team status  odds winning_team  loss_profit  \\\n",
       "0  16   fairbet  1000.0     England   BACK   1.5      England        500.0   \n",
       "4  23  Minkyaa6  2000.0       India   BACK   1.5      England      -2000.0   \n",
       "\n",
       "              match                       created_at  \\\n",
       "0  England vs India 2022-07-06 06:20:16.207060+00:00   \n",
       "4  England vs India 2022-07-07 06:08:40.586928+00:00   \n",
       "\n",
       "                        updated_at  total_loss_or_profit  \n",
       "0 2022-07-06 10:31:52.837866+00:00                 -20.0  \n",
       "4 2022-07-07 06:12:14.663329+00:00                   0.0  "
      ]
     },
     "execution_count": 144,
     "metadata": {},
     "output_type": "execute_result"
    }
   ],
   "source": [
    "get_wallet.drop_duplicates(subset=['user'])"
   ]
  },
  {
   "cell_type": "code",
   "execution_count": 145,
   "id": "bc7dcc3b",
   "metadata": {},
   "outputs": [
    {
     "data": {
      "text/plain": [
       "<BulkUpdateOrCreateQuerySet [<Betting: Betting object (16)>, <Betting: Betting object (17)>, <Betting: Betting object (21)>, <Betting: Betting object (22)>, <Betting: Betting object (23)>, <Betting: Betting object (24)>, <Betting: Betting object (25)>, <Betting: Betting object (26)>]>"
      ]
     },
     "execution_count": 145,
     "metadata": {},
     "output_type": "execute_result"
    }
   ],
   "source": [
    "Betting.objects.all().annotate(total_sum=Sum(\"loss_profit\"))"
   ]
  },
  {
   "cell_type": "code",
   "execution_count": null,
   "id": "83682564",
   "metadata": {},
   "outputs": [],
   "source": []
  },
  {
   "cell_type": "code",
   "execution_count": null,
   "id": "c10c06da",
   "metadata": {},
   "outputs": [],
   "source": []
  },
  {
   "cell_type": "code",
   "execution_count": null,
   "id": "ac7fad8f",
   "metadata": {},
   "outputs": [],
   "source": []
  },
  {
   "cell_type": "code",
   "execution_count": 146,
   "id": "bed2f8d1",
   "metadata": {},
   "outputs": [],
   "source": [
    "df = read_frame(Betting.objects.values(\"user__id\",\"user_id\",\"user_id__wallet__amount\").annotate(loss_or_profit = Sum(\"loss_profit\")))"
   ]
  },
  {
   "cell_type": "code",
   "execution_count": 147,
   "id": "c6038343",
   "metadata": {},
   "outputs": [],
   "source": [
    "df['total'] = df['user_id__wallet__amount'] + df['loss_or_profit']"
   ]
  },
  {
   "cell_type": "code",
   "execution_count": 148,
   "id": "45a7e23d",
   "metadata": {},
   "outputs": [
    {
     "data": {
      "text/html": [
       "<div>\n",
       "<style scoped>\n",
       "    .dataframe tbody tr th:only-of-type {\n",
       "        vertical-align: middle;\n",
       "    }\n",
       "\n",
       "    .dataframe tbody tr th {\n",
       "        vertical-align: top;\n",
       "    }\n",
       "\n",
       "    .dataframe thead th {\n",
       "        text-align: right;\n",
       "    }\n",
       "</style>\n",
       "<table border=\"1\" class=\"dataframe\">\n",
       "  <thead>\n",
       "    <tr style=\"text-align: right;\">\n",
       "      <th></th>\n",
       "      <th>user__id</th>\n",
       "      <th>user_id</th>\n",
       "      <th>user_id__wallet__amount</th>\n",
       "      <th>loss_or_profit</th>\n",
       "      <th>total</th>\n",
       "    </tr>\n",
       "  </thead>\n",
       "  <tbody>\n",
       "    <tr>\n",
       "      <th>0</th>\n",
       "      <td>1</td>\n",
       "      <td>fairbet</td>\n",
       "      <td>9500.0</td>\n",
       "      <td>-20.0</td>\n",
       "      <td>9480.0</td>\n",
       "    </tr>\n",
       "    <tr>\n",
       "      <th>1</th>\n",
       "      <td>5</td>\n",
       "      <td>Minkyaa6</td>\n",
       "      <td>10000.0</td>\n",
       "      <td>0.0</td>\n",
       "      <td>10000.0</td>\n",
       "    </tr>\n",
       "  </tbody>\n",
       "</table>\n",
       "</div>"
      ],
      "text/plain": [
       "   user__id   user_id  user_id__wallet__amount  loss_or_profit    total\n",
       "0         1   fairbet                   9500.0           -20.0   9480.0\n",
       "1         5  Minkyaa6                  10000.0             0.0  10000.0"
      ]
     },
     "execution_count": 148,
     "metadata": {},
     "output_type": "execute_result"
    }
   ],
   "source": [
    "df"
   ]
  },
  {
   "cell_type": "code",
   "execution_count": null,
   "id": "797f4856",
   "metadata": {},
   "outputs": [],
   "source": []
  },
  {
   "cell_type": "code",
   "execution_count": null,
   "id": "d5d773df",
   "metadata": {},
   "outputs": [],
   "source": []
  },
  {
   "cell_type": "code",
   "execution_count": 149,
   "id": "27b545f5",
   "metadata": {},
   "outputs": [
    {
     "data": {
      "text/plain": [
       "<BulkUpdateOrCreateQuerySet [{'user__id': 1, 'user_id': 1, 'user_id__wallet__amount': 9500.0, 'total_amount': -20.0}, {'user__id': 5, 'user_id': 5, 'user_id__wallet__amount': 10000.0, 'total_amount': 0.0}]>"
      ]
     },
     "execution_count": 149,
     "metadata": {},
     "output_type": "execute_result"
    }
   ],
   "source": [
    "Betting.objects.values(\"user__id\",\"user_id\",\"user_id__wallet__amount\").annotate(total_amount = Sum(\"loss_profit\"))"
   ]
  },
  {
   "cell_type": "code",
   "execution_count": null,
   "id": "44ba9fb3",
   "metadata": {},
   "outputs": [],
   "source": []
  },
  {
   "cell_type": "code",
   "execution_count": 150,
   "id": "2838c13c",
   "metadata": {},
   "outputs": [
    {
     "data": {
      "text/plain": [
       "<BulkUpdateOrCreateQuerySet [{'user__id': 1, 'user_id': 1, 'user_id__wallet__amount': 9500.0, 'loss_or_profit': -20.0}, {'user__id': 5, 'user_id': 5, 'user_id__wallet__amount': 10000.0, 'loss_or_profit': 0.0}]>"
      ]
     },
     "execution_count": 150,
     "metadata": {},
     "output_type": "execute_result"
    }
   ],
   "source": [
    "Betting.objects.filter(match=\"England vs India\").values(\"user__id\",\"user_id\",\"user_id__wallet__amount\").annotate(loss_or_profit = Sum(\"loss_profit\"))"
   ]
  },
  {
   "cell_type": "code",
   "execution_count": null,
   "id": "d7a08ece",
   "metadata": {},
   "outputs": [],
   "source": []
  },
  {
   "cell_type": "code",
   "execution_count": 151,
   "id": "6eb4a5e7",
   "metadata": {},
   "outputs": [],
   "source": [
    " df = read_frame(Betting.objects.filter(match=matchName,winning_team=winningTeam).values(\"user__id\",\"user_id\",\"user_id__wallet__amount\").annotate(loss_or_profit = Sum(\"loss_profit\")))"
   ]
  },
  {
   "cell_type": "code",
   "execution_count": 152,
   "id": "bbd5b135",
   "metadata": {},
   "outputs": [],
   "source": [
    "df['total'] = df['user_id__wallet__amount'] + df['loss_or_profit']"
   ]
  },
  {
   "cell_type": "code",
   "execution_count": 153,
   "id": "40cd49f6",
   "metadata": {},
   "outputs": [],
   "source": [
    "wallet_dict = df.transpose().to_dict()"
   ]
  },
  {
   "cell_type": "code",
   "execution_count": 157,
   "id": "625b4567",
   "metadata": {},
   "outputs": [
    {
     "data": {
      "text/plain": [
       "{0: {'user__id': 1,\n",
       "  'user_id': 'fairbet',\n",
       "  'user_id__wallet__amount': 9500.0,\n",
       "  'loss_or_profit': -20.0,\n",
       "  'total': 9480.0},\n",
       " 1: {'user__id': 5,\n",
       "  'user_id': 'Minkyaa6',\n",
       "  'user_id__wallet__amount': 10000.0,\n",
       "  'loss_or_profit': 0.0,\n",
       "  'total': 10000.0}}"
      ]
     },
     "execution_count": 157,
     "metadata": {},
     "output_type": "execute_result"
    }
   ],
   "source": [
    "wallet_dict"
   ]
  },
  {
   "cell_type": "code",
   "execution_count": 156,
   "id": "a21a2271",
   "metadata": {},
   "outputs": [
    {
     "ename": "AttributeError",
     "evalue": "'Manager' object has no attribute 'bulk_update_or_create'",
     "output_type": "error",
     "traceback": [
      "\u001b[1;31m---------------------------------------------------------------------------\u001b[0m",
      "\u001b[1;31mAttributeError\u001b[0m                            Traceback (most recent call last)",
      "Input \u001b[1;32mIn [156]\u001b[0m, in \u001b[0;36m<cell line: 5>\u001b[1;34m()\u001b[0m\n\u001b[0;32m      1\u001b[0m update_wallet_instance \u001b[38;5;241m=\u001b[39m [Wallet(\n\u001b[0;32m      2\u001b[0m     user_id \u001b[38;5;241m=\u001b[39m value\u001b[38;5;241m.\u001b[39mget(\u001b[38;5;124m\"\u001b[39m\u001b[38;5;124muser__id\u001b[39m\u001b[38;5;124m\"\u001b[39m,\u001b[38;5;124m\"\u001b[39m\u001b[38;5;124m\"\u001b[39m),\n\u001b[0;32m      3\u001b[0m     amount \u001b[38;5;241m=\u001b[39m value\u001b[38;5;241m.\u001b[39mget(\u001b[38;5;124m\"\u001b[39m\u001b[38;5;124mtotal\u001b[39m\u001b[38;5;124m\"\u001b[39m,\u001b[38;5;124m\"\u001b[39m\u001b[38;5;124m\"\u001b[39m),\n\u001b[0;32m      4\u001b[0m     ) \u001b[38;5;28;01mfor\u001b[39;00m key,value \u001b[38;5;129;01min\u001b[39;00m wallet_dict\u001b[38;5;241m.\u001b[39mitems()]\n\u001b[1;32m----> 5\u001b[0m \u001b[43mWallet\u001b[49m\u001b[38;5;241;43m.\u001b[39;49m\u001b[43mobjects\u001b[49m\u001b[38;5;241;43m.\u001b[39;49m\u001b[43mbulk_update_or_create\u001b[49m(update_wallet_instance,[\u001b[38;5;124m'\u001b[39m\u001b[38;5;124muser_id\u001b[39m\u001b[38;5;124m'\u001b[39m,\u001b[38;5;124m'\u001b[39m\u001b[38;5;124mamount\u001b[39m\u001b[38;5;124m'\u001b[39m],match_field\u001b[38;5;241m=\u001b[39m[\u001b[38;5;124m'\u001b[39m\u001b[38;5;124muser_id\u001b[39m\u001b[38;5;124m'\u001b[39m])\n",
      "\u001b[1;31mAttributeError\u001b[0m: 'Manager' object has no attribute 'bulk_update_or_create'"
     ]
    }
   ],
   "source": [
    "update_wallet_instance = [Wallet(\n",
    "    user_id = value.get(\"user__id\",\"\"),\n",
    "    amount = value.get(\"total\",\"\"),\n",
    "    ) for key,value in wallet_dict.items()]\n",
    "Wallet.objects.bulk_update_or_create(update_wallet_instance,['user_id','amount'],match_field=['user_id'])"
   ]
  },
  {
   "cell_type": "code",
   "execution_count": null,
   "id": "1a97c9bd",
   "metadata": {},
   "outputs": [],
   "source": []
  },
  {
   "cell_type": "code",
   "execution_count": 95,
   "id": "1f30dadf",
   "metadata": {},
   "outputs": [],
   "source": [
    "bet = read_frame(Betting.objects.filter(match=matchName).values(\"user__id\",\"user\",\"amount\",\"bet_on_team\",\"status\",\"odds\",\"winning_team\",\"loss_profit\",\"match\"))"
   ]
  },
  {
   "cell_type": "code",
   "execution_count": null,
   "id": "c389f298",
   "metadata": {},
   "outputs": [],
   "source": []
  },
  {
   "cell_type": "code",
   "execution_count": null,
   "id": "e6b738ec",
   "metadata": {},
   "outputs": [],
   "source": [
    "update_wallet_instance = [Wallet(\n",
    "    user_id = value.get(\"vendor_id\",\"\"),\n",
    "    amount = value.get(\"product_id\",\"\"),\n",
    "    ) for key,value in colour_dict.items()]\n",
    "Wallet.objects.bulk_update_or_create(update_wallet_instance,['user_id','amount'],match_field=['user_id'])"
   ]
  },
  {
   "cell_type": "code",
   "execution_count": null,
   "id": "be262129",
   "metadata": {},
   "outputs": [],
   "source": []
  },
  {
   "cell_type": "code",
   "execution_count": null,
   "id": "b6dcf513",
   "metadata": {},
   "outputs": [],
   "source": []
  },
  {
   "cell_type": "code",
   "execution_count": null,
   "id": "fcd89b75",
   "metadata": {},
   "outputs": [],
   "source": []
  },
  {
   "cell_type": "code",
   "execution_count": null,
   "id": "79936563",
   "metadata": {},
   "outputs": [],
   "source": []
  },
  {
   "cell_type": "code",
   "execution_count": null,
   "id": "aa5bd703",
   "metadata": {},
   "outputs": [],
   "source": []
  },
  {
   "cell_type": "code",
   "execution_count": null,
   "id": "38bbb62d",
   "metadata": {},
   "outputs": [],
   "source": []
  },
  {
   "cell_type": "code",
   "execution_count": null,
   "id": "44543372",
   "metadata": {},
   "outputs": [],
   "source": []
  },
  {
   "cell_type": "code",
   "execution_count": null,
   "id": "3b01d5fa",
   "metadata": {},
   "outputs": [],
   "source": []
  },
  {
   "cell_type": "code",
   "execution_count": 131,
   "id": "09c83f2f",
   "metadata": {},
   "outputs": [],
   "source": [
    "bettings = Betting.objects.filter(loss_profit__gt=0)"
   ]
  },
  {
   "cell_type": "code",
   "execution_count": 132,
   "id": "e0af0e9a",
   "metadata": {},
   "outputs": [
    {
     "data": {
      "text/plain": [
       "<BulkUpdateOrCreateQuerySet [<Betting: Betting object (7)>, <Betting: Betting object (10)>]>"
      ]
     },
     "execution_count": 132,
     "metadata": {},
     "output_type": "execute_result"
    }
   ],
   "source": [
    "bettings"
   ]
  },
  {
   "cell_type": "code",
   "execution_count": 40,
   "id": "367169a8",
   "metadata": {},
   "outputs": [],
   "source": [
    "df = read_frame(Betting.objects.filter(match=matchName).values(\"user__id\",\"user\",\"amount\",\"bet_on_team\",\"status\",\"odds\",\"winning_team\",\"loss_profit\",\"match\"))"
   ]
  },
  {
   "cell_type": "code",
   "execution_count": 48,
   "id": "62df8a0e",
   "metadata": {},
   "outputs": [],
   "source": [
    "new_df = df.groupby('user')['loss_profit'].sum()"
   ]
  },
  {
   "cell_type": "code",
   "execution_count": 54,
   "id": "8a0a61e8",
   "metadata": {},
   "outputs": [
    {
     "data": {
      "text/plain": [
       "0   -20.0\n",
       "1   -20.0\n",
       "2   -20.0\n",
       "3   -20.0\n",
       "Name: loss_profit, dtype: float64"
      ]
     },
     "execution_count": 54,
     "metadata": {},
     "output_type": "execute_result"
    }
   ],
   "source": [
    "df.groupby('user')['loss_profit'].transform('sum')"
   ]
  },
  {
   "cell_type": "code",
   "execution_count": null,
   "id": "33d3498c",
   "metadata": {},
   "outputs": [],
   "source": []
  },
  {
   "cell_type": "code",
   "execution_count": 49,
   "id": "da2418bd",
   "metadata": {},
   "outputs": [],
   "source": [
    "new_df.reset_index(drop=True,inplace=True)"
   ]
  },
  {
   "cell_type": "code",
   "execution_count": 50,
   "id": "097c2549",
   "metadata": {},
   "outputs": [
    {
     "data": {
      "text/plain": [
       "0   -20.0\n",
       "Name: loss_profit, dtype: float64"
      ]
     },
     "execution_count": 50,
     "metadata": {},
     "output_type": "execute_result"
    }
   ],
   "source": [
    "new_df"
   ]
  },
  {
   "cell_type": "code",
   "execution_count": null,
   "id": "7f235e49",
   "metadata": {},
   "outputs": [],
   "source": []
  },
  {
   "cell_type": "code",
   "execution_count": 38,
   "id": "b6993e8c",
   "metadata": {},
   "outputs": [],
   "source": [
    "bett = Betting.objects.filter(user_id=1).aggregate(Sum(F('loss_profit')))"
   ]
  },
  {
   "cell_type": "code",
   "execution_count": 39,
   "id": "c16c47c6",
   "metadata": {},
   "outputs": [
    {
     "data": {
      "text/plain": [
       "{'loss_profit__sum': -20.0}"
      ]
     },
     "execution_count": 39,
     "metadata": {},
     "output_type": "execute_result"
    }
   ],
   "source": [
    "bett"
   ]
  },
  {
   "cell_type": "code",
   "execution_count": 25,
   "id": "850c19e4",
   "metadata": {},
   "outputs": [
    {
     "data": {
      "text/html": [
       "<div>\n",
       "<style scoped>\n",
       "    .dataframe tbody tr th:only-of-type {\n",
       "        vertical-align: middle;\n",
       "    }\n",
       "\n",
       "    .dataframe tbody tr th {\n",
       "        vertical-align: top;\n",
       "    }\n",
       "\n",
       "    .dataframe thead th {\n",
       "        text-align: right;\n",
       "    }\n",
       "</style>\n",
       "<table border=\"1\" class=\"dataframe\">\n",
       "  <thead>\n",
       "    <tr style=\"text-align: right;\">\n",
       "      <th></th>\n",
       "      <th>id</th>\n",
       "      <th>user</th>\n",
       "      <th>amount</th>\n",
       "      <th>bet_on_team</th>\n",
       "      <th>status</th>\n",
       "      <th>odds</th>\n",
       "      <th>winning_team</th>\n",
       "      <th>loss_profit</th>\n",
       "      <th>match</th>\n",
       "      <th>created_at</th>\n",
       "      <th>updated_at</th>\n",
       "    </tr>\n",
       "  </thead>\n",
       "  <tbody>\n",
       "    <tr>\n",
       "      <th>0</th>\n",
       "      <td>16</td>\n",
       "      <td>fairbet</td>\n",
       "      <td>1000.0</td>\n",
       "      <td>England</td>\n",
       "      <td>BACK</td>\n",
       "      <td>1.50</td>\n",
       "      <td>England</td>\n",
       "      <td>500.0</td>\n",
       "      <td>England vs India</td>\n",
       "      <td>2022-07-06 06:20:16.207060+00:00</td>\n",
       "      <td>2022-07-06 10:31:52.837866+00:00</td>\n",
       "    </tr>\n",
       "    <tr>\n",
       "      <th>1</th>\n",
       "      <td>17</td>\n",
       "      <td>fairbet</td>\n",
       "      <td>1000.0</td>\n",
       "      <td>England</td>\n",
       "      <td>LAY</td>\n",
       "      <td>1.52</td>\n",
       "      <td>England</td>\n",
       "      <td>-520.0</td>\n",
       "      <td>England vs India</td>\n",
       "      <td>2022-07-06 06:23:12.963245+00:00</td>\n",
       "      <td>2022-07-06 10:31:56.493455+00:00</td>\n",
       "    </tr>\n",
       "    <tr>\n",
       "      <th>2</th>\n",
       "      <td>21</td>\n",
       "      <td>fairbet</td>\n",
       "      <td>1000.0</td>\n",
       "      <td>India</td>\n",
       "      <td>BACK</td>\n",
       "      <td>1.55</td>\n",
       "      <td>England</td>\n",
       "      <td>-1000.0</td>\n",
       "      <td>England vs India</td>\n",
       "      <td>2022-07-06 10:33:05.626427+00:00</td>\n",
       "      <td>2022-07-06 10:33:31.403796+00:00</td>\n",
       "    </tr>\n",
       "    <tr>\n",
       "      <th>3</th>\n",
       "      <td>22</td>\n",
       "      <td>fairbet</td>\n",
       "      <td>1000.0</td>\n",
       "      <td>India</td>\n",
       "      <td>LAY</td>\n",
       "      <td>1.56</td>\n",
       "      <td>England</td>\n",
       "      <td>1000.0</td>\n",
       "      <td>England vs India</td>\n",
       "      <td>2022-07-06 10:33:16.385601+00:00</td>\n",
       "      <td>2022-07-06 10:33:44.568271+00:00</td>\n",
       "    </tr>\n",
       "  </tbody>\n",
       "</table>\n",
       "</div>"
      ],
      "text/plain": [
       "   id     user  amount bet_on_team status  odds winning_team  loss_profit  \\\n",
       "0  16  fairbet  1000.0     England   BACK  1.50      England        500.0   \n",
       "1  17  fairbet  1000.0     England    LAY  1.52      England       -520.0   \n",
       "2  21  fairbet  1000.0       India   BACK  1.55      England      -1000.0   \n",
       "3  22  fairbet  1000.0       India    LAY  1.56      England       1000.0   \n",
       "\n",
       "              match                       created_at  \\\n",
       "0  England vs India 2022-07-06 06:20:16.207060+00:00   \n",
       "1  England vs India 2022-07-06 06:23:12.963245+00:00   \n",
       "2  England vs India 2022-07-06 10:33:05.626427+00:00   \n",
       "3  England vs India 2022-07-06 10:33:16.385601+00:00   \n",
       "\n",
       "                        updated_at  \n",
       "0 2022-07-06 10:31:52.837866+00:00  \n",
       "1 2022-07-06 10:31:56.493455+00:00  \n",
       "2 2022-07-06 10:33:31.403796+00:00  \n",
       "3 2022-07-06 10:33:44.568271+00:00  "
      ]
     },
     "execution_count": 25,
     "metadata": {},
     "output_type": "execute_result"
    }
   ],
   "source": [
    "wallet_df = read_frame(Wallet.objects)"
   ]
  },
  {
   "cell_type": "code",
   "execution_count": 68,
   "id": "d1620aae",
   "metadata": {},
   "outputs": [],
   "source": [
    "user_df = read_frame(Betting.objects.all().values(\"user__id\",\"user\",\"amount\",\"bet_on_team\",\"status\",\"odds\",\"winning_team\",\"loss_profit\",\"match\"))"
   ]
  },
  {
   "cell_type": "code",
   "execution_count": 69,
   "id": "0b0ee404",
   "metadata": {
    "scrolled": true
   },
   "outputs": [
    {
     "data": {
      "text/html": [
       "<div>\n",
       "<style scoped>\n",
       "    .dataframe tbody tr th:only-of-type {\n",
       "        vertical-align: middle;\n",
       "    }\n",
       "\n",
       "    .dataframe tbody tr th {\n",
       "        vertical-align: top;\n",
       "    }\n",
       "\n",
       "    .dataframe thead th {\n",
       "        text-align: right;\n",
       "    }\n",
       "</style>\n",
       "<table border=\"1\" class=\"dataframe\">\n",
       "  <thead>\n",
       "    <tr style=\"text-align: right;\">\n",
       "      <th></th>\n",
       "      <th>user__id</th>\n",
       "      <th>user</th>\n",
       "      <th>amount</th>\n",
       "      <th>bet_on_team</th>\n",
       "      <th>status</th>\n",
       "      <th>odds</th>\n",
       "      <th>winning_team</th>\n",
       "      <th>loss_profit</th>\n",
       "      <th>match</th>\n",
       "    </tr>\n",
       "  </thead>\n",
       "  <tbody>\n",
       "    <tr>\n",
       "      <th>0</th>\n",
       "      <td>1</td>\n",
       "      <td>fairbet</td>\n",
       "      <td>1000.0</td>\n",
       "      <td>England</td>\n",
       "      <td>BACK</td>\n",
       "      <td>1.50</td>\n",
       "      <td>England</td>\n",
       "      <td>500.0</td>\n",
       "      <td>England vs India</td>\n",
       "    </tr>\n",
       "    <tr>\n",
       "      <th>1</th>\n",
       "      <td>1</td>\n",
       "      <td>fairbet</td>\n",
       "      <td>1000.0</td>\n",
       "      <td>England</td>\n",
       "      <td>LAY</td>\n",
       "      <td>1.52</td>\n",
       "      <td>England</td>\n",
       "      <td>-520.0</td>\n",
       "      <td>England vs India</td>\n",
       "    </tr>\n",
       "    <tr>\n",
       "      <th>2</th>\n",
       "      <td>1</td>\n",
       "      <td>fairbet</td>\n",
       "      <td>1000.0</td>\n",
       "      <td>India</td>\n",
       "      <td>BACK</td>\n",
       "      <td>1.55</td>\n",
       "      <td>England</td>\n",
       "      <td>-1000.0</td>\n",
       "      <td>England vs India</td>\n",
       "    </tr>\n",
       "    <tr>\n",
       "      <th>3</th>\n",
       "      <td>1</td>\n",
       "      <td>fairbet</td>\n",
       "      <td>1000.0</td>\n",
       "      <td>India</td>\n",
       "      <td>LAY</td>\n",
       "      <td>1.56</td>\n",
       "      <td>England</td>\n",
       "      <td>1000.0</td>\n",
       "      <td>England vs India</td>\n",
       "    </tr>\n",
       "  </tbody>\n",
       "</table>\n",
       "</div>"
      ],
      "text/plain": [
       "   user__id     user  amount bet_on_team status  odds winning_team  \\\n",
       "0         1  fairbet  1000.0     England   BACK  1.50      England   \n",
       "1         1  fairbet  1000.0     England    LAY  1.52      England   \n",
       "2         1  fairbet  1000.0       India   BACK  1.55      England   \n",
       "3         1  fairbet  1000.0       India    LAY  1.56      England   \n",
       "\n",
       "   loss_profit             match  \n",
       "0        500.0  England vs India  \n",
       "1       -520.0  England vs India  \n",
       "2      -1000.0  England vs India  \n",
       "3       1000.0  England vs India  "
      ]
     },
     "execution_count": 69,
     "metadata": {},
     "output_type": "execute_result"
    }
   ],
   "source": [
    "user_df"
   ]
  },
  {
   "cell_type": "code",
   "execution_count": null,
   "id": "0fac1ed4",
   "metadata": {},
   "outputs": [],
   "source": []
  },
  {
   "cell_type": "code",
   "execution_count": null,
   "id": "165397e5",
   "metadata": {},
   "outputs": [],
   "source": []
  },
  {
   "cell_type": "code",
   "execution_count": 158,
   "id": "58d69356",
   "metadata": {},
   "outputs": [],
   "source": [
    "#Subquery"
   ]
  },
  {
   "cell_type": "code",
   "execution_count": 184,
   "id": "487e4ca0",
   "metadata": {},
   "outputs": [],
   "source": [
    "from django.db.models import OuterRef, Subquery"
   ]
  },
  {
   "cell_type": "code",
   "execution_count": null,
   "id": "83f97736",
   "metadata": {},
   "outputs": [],
   "source": []
  },
  {
   "cell_type": "code",
   "execution_count": 185,
   "id": "753ac240",
   "metadata": {},
   "outputs": [],
   "source": [
    "# Task.objects.annotate(\n",
    "#     deal_id=Subquery(\n",
    "#         DealTask.objects.filter(\n",
    "#             task_id=OuterRef('id')\n",
    "#         ).order_by('deadline').values('deal_id')[:1]\n",
    "#     ),\n",
    "#     deadline=Subquery(\n",
    "#         DealTask.objects.filter(\n",
    "#             task_id=OuterRef('id')\n",
    "#         ).order_by('deadline').values('deadline')[:1]\n",
    "#     )\n",
    "# )"
   ]
  },
  {
   "cell_type": "code",
   "execution_count": 186,
   "id": "29a5cbc9",
   "metadata": {},
   "outputs": [
    {
     "data": {
      "text/plain": [
       "<BulkUpdateOrCreateQuerySet [{'user__id': 1, 'user_id': 1, 'user_id__wallet__amount': 9480.0, 'loss_or_profit': -20.0}, {'user__id': 5, 'user_id': 5, 'user_id__wallet__amount': 10000.0, 'loss_or_profit': 0.0}]>"
      ]
     },
     "execution_count": 186,
     "metadata": {},
     "output_type": "execute_result"
    }
   ],
   "source": [
    "Betting.objects.filter(match=matchName,winning_team=winningTeam).values(\"user__id\",\"user_id\",\"user_id__wallet__amount\").annotate(loss_or_profit = Sum(\"loss_profit\"))"
   ]
  },
  {
   "cell_type": "code",
   "execution_count": null,
   "id": "437178f7",
   "metadata": {},
   "outputs": [],
   "source": []
  },
  {
   "cell_type": "code",
   "execution_count": 417,
   "id": "b9ff99d6",
   "metadata": {},
   "outputs": [
    {
     "ename": "AttributeError",
     "evalue": "'Sum' object has no attribute 'values'",
     "output_type": "error",
     "traceback": [
      "\u001b[1;31m---------------------------------------------------------------------------\u001b[0m",
      "\u001b[1;31mAttributeError\u001b[0m                            Traceback (most recent call last)",
      "Input \u001b[1;32mIn [417]\u001b[0m, in \u001b[0;36m<cell line: 1>\u001b[1;34m()\u001b[0m\n\u001b[0;32m      1\u001b[0m Wallet\u001b[38;5;241m.\u001b[39mobjects\u001b[38;5;241m.\u001b[39mupdate(\n\u001b[0;32m      2\u001b[0m     amount\u001b[38;5;241m=\u001b[39mF(\u001b[38;5;124m'\u001b[39m\u001b[38;5;124mamount\u001b[39m\u001b[38;5;124m'\u001b[39m) \u001b[38;5;241m+\u001b[39m Subquery(\n\u001b[0;32m      3\u001b[0m         Betting\u001b[38;5;241m.\u001b[39mobjects\u001b[38;5;241m.\u001b[39mfilter(\n\u001b[0;32m      4\u001b[0m             user_id\u001b[38;5;241m=\u001b[39mOuterRef(\u001b[38;5;124m'\u001b[39m\u001b[38;5;124muser_id\u001b[39m\u001b[38;5;124m'\u001b[39m))\n\u001b[1;32m----> 5\u001b[0m         \u001b[38;5;241m.\u001b[39mvalues(\u001b[38;5;124m\"\u001b[39m\u001b[38;5;124muser__id\u001b[39m\u001b[38;5;124m\"\u001b[39m)\u001b[38;5;241m.\u001b[39mannotate(total_amount\u001b[38;5;241m=\u001b[39m\u001b[43mSum\u001b[49m\u001b[43m(\u001b[49m\u001b[38;5;124;43m'\u001b[39;49m\u001b[38;5;124;43mloss_profit\u001b[39;49m\u001b[38;5;124;43m'\u001b[39;49m\u001b[43m)\u001b[49m\u001b[38;5;241;43m.\u001b[39;49m\u001b[43mvalues\u001b[49m(\u001b[38;5;124m'\u001b[39m\u001b[38;5;124mtotal_amount\u001b[39m\u001b[38;5;124m'\u001b[39m))\n\u001b[0;32m      6\u001b[0m     )\n\u001b[0;32m      7\u001b[0m )\n",
      "\u001b[1;31mAttributeError\u001b[0m: 'Sum' object has no attribute 'values'"
     ]
    }
   ],
   "source": [
    "# Wallet.objects.update(\n",
    "#     amount=F('amount') + Subquery(\n",
    "#         Betting.objects.filter(\n",
    "#             user_id=OuterRef('user_id'))\n",
    "#         .values(\"user__id\").annotate(total_amount=Sum('loss_profit').values('total_amount'))\n",
    "#     )\n",
    "# )"
   ]
  },
  {
   "cell_type": "code",
   "execution_count": 424,
   "id": "75633a6b",
   "metadata": {},
   "outputs": [
    {
     "data": {
      "text/plain": [
       "<BulkUpdateOrCreateQuerySet [{'total_loss_profit': -20.0}]>"
      ]
     },
     "execution_count": 424,
     "metadata": {},
     "output_type": "execute_result"
    }
   ],
   "source": [
    "Betting.objects.filter(user_id=1).values(\"user__id\").annotate(total_loss_profit=Sum('loss_profit')).values(\"total_loss_profit\")"
   ]
  },
  {
   "cell_type": "code",
   "execution_count": null,
   "id": "25172cae",
   "metadata": {},
   "outputs": [],
   "source": []
  },
  {
   "cell_type": "code",
   "execution_count": 394,
   "id": "ef3da9f7",
   "metadata": {},
   "outputs": [
    {
     "data": {
      "text/plain": [
       "<BulkUpdateOrCreateQuerySet [{'loss_profit': 500.0}, {'loss_profit': -520.0}, {'loss_profit': -1000.0}, {'loss_profit': 1000.0}]>"
      ]
     },
     "execution_count": 394,
     "metadata": {},
     "output_type": "execute_result"
    }
   ],
   "source": [
    "Betting.objects.filter(user_id=1).values(\"loss_profit\")"
   ]
  },
  {
   "cell_type": "code",
   "execution_count": 493,
   "id": "10300dca",
   "metadata": {},
   "outputs": [],
   "source": [
    "winningTeam = \"England\"\n",
    "matchName = \"England vs India\""
   ]
  },
  {
   "cell_type": "code",
   "execution_count": 494,
   "id": "e08adac1",
   "metadata": {},
   "outputs": [],
   "source": [
    "subquery = Betting.objects.filter(\n",
    "        user_id=OuterRef('user_id'),\n",
    "        match = matchName,\n",
    "        winning_team = winningTeam\n",
    "    ).values(\n",
    "        'user__id'\n",
    "    ).annotate(\n",
    "        total_spend=Sum('loss_profit')\n",
    "    ).values(\n",
    "        'total_spend'\n",
    "    )"
   ]
  },
  {
   "cell_type": "code",
   "execution_count": 495,
   "id": "4bfc590e",
   "metadata": {},
   "outputs": [],
   "source": [
    "betting_user_list = list(Betting.objects.filter(match = matchName,winning_team = winningTeam).values_list(\"user_id\",flat=True))"
   ]
  },
  {
   "cell_type": "code",
   "execution_count": 496,
   "id": "bd16d465",
   "metadata": {},
   "outputs": [
    {
     "data": {
      "text/plain": [
       "[1, 5]"
      ]
     },
     "execution_count": 496,
     "metadata": {},
     "output_type": "execute_result"
    }
   ],
   "source": [
    "list(take_list)"
   ]
  },
  {
   "cell_type": "code",
   "execution_count": null,
   "id": "d8eee5b3",
   "metadata": {},
   "outputs": [],
   "source": []
  },
  {
   "cell_type": "code",
   "execution_count": 480,
   "id": "1c4015aa",
   "metadata": {},
   "outputs": [
    {
     "data": {
      "text/plain": [
       "2"
      ]
     },
     "execution_count": 480,
     "metadata": {},
     "output_type": "execute_result"
    }
   ],
   "source": [
    "Wallet.objects.filter(user_id__in=list(take_list)).update(amount=F('amount')+Subquery(subquery))"
   ]
  },
  {
   "cell_type": "code",
   "execution_count": 410,
   "id": "f9093215",
   "metadata": {},
   "outputs": [
    {
     "data": {
      "text/plain": [
       "<BulkUpdateOrCreateQuerySet [{'total_amount': -20.0}, {'total_amount': 0.0}]>"
      ]
     },
     "execution_count": 410,
     "metadata": {},
     "output_type": "execute_result"
    }
   ],
   "source": [
    "Betting.objects.all().values(\"user__id\").annotate(total_amount=Sum('loss_profit')).values(\"total_amount\")"
   ]
  },
  {
   "cell_type": "code",
   "execution_count": 414,
   "id": "82bfe4c3",
   "metadata": {},
   "outputs": [
    {
     "data": {
      "text/plain": [
       "<BulkUpdateOrCreateQuerySet [{'user__id': 1, 'total_spend': -20.0}, {'user__id': 5, 'total_spend': 0.0}]>"
      ]
     },
     "execution_count": 414,
     "metadata": {},
     "output_type": "execute_result"
    }
   ],
   "source": [
    "Betting.objects.all().values(\"user__id\").annotate(total_spend = Sum(F('loss_profit')))"
   ]
  },
  {
   "cell_type": "code",
   "execution_count": null,
   "id": "c2aad5e6",
   "metadata": {},
   "outputs": [],
   "source": []
  },
  {
   "cell_type": "code",
   "execution_count": 389,
   "id": "94e86047",
   "metadata": {},
   "outputs": [
    {
     "ename": "ValueError",
     "evalue": "This queryset contains a reference to an outer query and may only be used in a subquery.",
     "output_type": "error",
     "traceback": [
      "\u001b[1;31m---------------------------------------------------------------------------\u001b[0m",
      "\u001b[1;31mValueError\u001b[0m                                Traceback (most recent call last)",
      "Input \u001b[1;32mIn [389]\u001b[0m, in \u001b[0;36m<cell line: 1>\u001b[1;34m()\u001b[0m\n\u001b[0;32m      1\u001b[0m Wallet\u001b[38;5;241m.\u001b[39mobjects\u001b[38;5;241m.\u001b[39mupdate(\n\u001b[0;32m      2\u001b[0m     amount\u001b[38;5;241m=\u001b[39mF(\u001b[38;5;124m'\u001b[39m\u001b[38;5;124mamount\u001b[39m\u001b[38;5;124m'\u001b[39m) \u001b[38;5;241m+\u001b[39m Subquery(\n\u001b[1;32m----> 3\u001b[0m         \u001b[43mBetting\u001b[49m\u001b[38;5;241;43m.\u001b[39;49m\u001b[43mobjects\u001b[49m\u001b[38;5;241;43m.\u001b[39;49m\u001b[43mfilter\u001b[49m\u001b[43m(\u001b[49m\n\u001b[0;32m      4\u001b[0m \u001b[43m            \u001b[49m\u001b[43muser_id\u001b[49m\u001b[38;5;241;43m=\u001b[39;49m\u001b[43mOuterRef\u001b[49m\u001b[43m(\u001b[49m\u001b[38;5;124;43m'\u001b[39;49m\u001b[38;5;124;43muser_id\u001b[39;49m\u001b[38;5;124;43m'\u001b[39;49m\u001b[43m)\u001b[49m\u001b[43m)\u001b[49m\n\u001b[0;32m      5\u001b[0m \u001b[43m        \u001b[49m\u001b[38;5;241;43m.\u001b[39;49m\u001b[43mvalues\u001b[49m\u001b[43m(\u001b[49m\u001b[38;5;124;43m\"\u001b[39;49m\u001b[38;5;124;43mloss_profit\u001b[39;49m\u001b[38;5;124;43m\"\u001b[39;49m\u001b[43m)\u001b[49m\u001b[38;5;241;43m.\u001b[39;49m\u001b[43maggregate\u001b[49m\u001b[43m(\u001b[49m\u001b[43mSum\u001b[49m\u001b[43m(\u001b[49m\u001b[38;5;124;43m\"\u001b[39;49m\u001b[38;5;124;43mloss_profit\u001b[39;49m\u001b[38;5;124;43m\"\u001b[39;49m\u001b[43m)\u001b[49m\u001b[43m)\u001b[49m[\u001b[38;5;124m'\u001b[39m\u001b[38;5;124mloss_profit__sum\u001b[39m\u001b[38;5;124m'\u001b[39m]\n\u001b[0;32m      6\u001b[0m         )\n\u001b[0;32m      7\u001b[0m )\n",
      "File \u001b[1;32m~\\AppData\\Local\\Programs\\Python\\Python39\\lib\\site-packages\\django\\db\\models\\query.py:457\u001b[0m, in \u001b[0;36mQuerySet.aggregate\u001b[1;34m(self, *args, **kwargs)\u001b[0m\n\u001b[0;32m    452\u001b[0m             name \u001b[38;5;241m=\u001b[39m expr\u001b[38;5;241m.\u001b[39mrefs\n\u001b[0;32m    453\u001b[0m             \u001b[38;5;28;01mraise\u001b[39;00m exceptions\u001b[38;5;241m.\u001b[39mFieldError(\n\u001b[0;32m    454\u001b[0m                 \u001b[38;5;124m\"\u001b[39m\u001b[38;5;124mCannot compute \u001b[39m\u001b[38;5;132;01m%s\u001b[39;00m\u001b[38;5;124m(\u001b[39m\u001b[38;5;124m'\u001b[39m\u001b[38;5;132;01m%s\u001b[39;00m\u001b[38;5;124m'\u001b[39m\u001b[38;5;124m): \u001b[39m\u001b[38;5;124m'\u001b[39m\u001b[38;5;132;01m%s\u001b[39;00m\u001b[38;5;124m'\u001b[39m\u001b[38;5;124m is an aggregate\u001b[39m\u001b[38;5;124m\"\u001b[39m\n\u001b[0;32m    455\u001b[0m                 \u001b[38;5;241m%\u001b[39m (annotation\u001b[38;5;241m.\u001b[39mname, name, name)\n\u001b[0;32m    456\u001b[0m             )\n\u001b[1;32m--> 457\u001b[0m \u001b[38;5;28;01mreturn\u001b[39;00m \u001b[43mquery\u001b[49m\u001b[38;5;241;43m.\u001b[39;49m\u001b[43mget_aggregation\u001b[49m\u001b[43m(\u001b[49m\u001b[38;5;28;43mself\u001b[39;49m\u001b[38;5;241;43m.\u001b[39;49m\u001b[43mdb\u001b[49m\u001b[43m,\u001b[49m\u001b[43m \u001b[49m\u001b[43mkwargs\u001b[49m\u001b[43m)\u001b[49m\n",
      "File \u001b[1;32m~\\AppData\\Local\\Programs\\Python\\Python39\\lib\\site-packages\\django\\db\\models\\sql\\query.py:537\u001b[0m, in \u001b[0;36mQuery.get_aggregation\u001b[1;34m(self, using, added_aggregate_names)\u001b[0m\n\u001b[0;32m    535\u001b[0m outer_query\u001b[38;5;241m.\u001b[39mselect_related \u001b[38;5;241m=\u001b[39m \u001b[38;5;28;01mFalse\u001b[39;00m\n\u001b[0;32m    536\u001b[0m compiler \u001b[38;5;241m=\u001b[39m outer_query\u001b[38;5;241m.\u001b[39mget_compiler(using, elide_empty\u001b[38;5;241m=\u001b[39melide_empty)\n\u001b[1;32m--> 537\u001b[0m result \u001b[38;5;241m=\u001b[39m \u001b[43mcompiler\u001b[49m\u001b[38;5;241;43m.\u001b[39;49m\u001b[43mexecute_sql\u001b[49m\u001b[43m(\u001b[49m\u001b[43mSINGLE\u001b[49m\u001b[43m)\u001b[49m\n\u001b[0;32m    538\u001b[0m \u001b[38;5;28;01mif\u001b[39;00m result \u001b[38;5;129;01mis\u001b[39;00m \u001b[38;5;28;01mNone\u001b[39;00m:\n\u001b[0;32m    539\u001b[0m     result \u001b[38;5;241m=\u001b[39m empty_set_result\n",
      "File \u001b[1;32m~\\AppData\\Local\\Programs\\Python\\Python39\\lib\\site-packages\\django\\db\\models\\sql\\compiler.py:1348\u001b[0m, in \u001b[0;36mSQLCompiler.execute_sql\u001b[1;34m(self, result_type, chunked_fetch, chunk_size)\u001b[0m\n\u001b[0;32m   1346\u001b[0m result_type \u001b[38;5;241m=\u001b[39m result_type \u001b[38;5;129;01mor\u001b[39;00m NO_RESULTS\n\u001b[0;32m   1347\u001b[0m \u001b[38;5;28;01mtry\u001b[39;00m:\n\u001b[1;32m-> 1348\u001b[0m     sql, params \u001b[38;5;241m=\u001b[39m \u001b[38;5;28;43mself\u001b[39;49m\u001b[38;5;241;43m.\u001b[39;49m\u001b[43mas_sql\u001b[49m\u001b[43m(\u001b[49m\u001b[43m)\u001b[49m\n\u001b[0;32m   1349\u001b[0m     \u001b[38;5;28;01mif\u001b[39;00m \u001b[38;5;129;01mnot\u001b[39;00m sql:\n\u001b[0;32m   1350\u001b[0m         \u001b[38;5;28;01mraise\u001b[39;00m EmptyResultSet\n",
      "File \u001b[1;32m~\\AppData\\Local\\Programs\\Python\\Python39\\lib\\site-packages\\django\\db\\models\\sql\\compiler.py:598\u001b[0m, in \u001b[0;36mSQLCompiler.as_sql\u001b[1;34m(self, with_limits, with_col_aliases)\u001b[0m\n\u001b[0;32m    595\u001b[0m from_, f_params \u001b[38;5;241m=\u001b[39m \u001b[38;5;28mself\u001b[39m\u001b[38;5;241m.\u001b[39mget_from_clause()\n\u001b[0;32m    596\u001b[0m \u001b[38;5;28;01mtry\u001b[39;00m:\n\u001b[0;32m    597\u001b[0m     where, w_params \u001b[38;5;241m=\u001b[39m (\n\u001b[1;32m--> 598\u001b[0m         \u001b[38;5;28;43mself\u001b[39;49m\u001b[38;5;241;43m.\u001b[39;49m\u001b[43mcompile\u001b[49m\u001b[43m(\u001b[49m\u001b[38;5;28;43mself\u001b[39;49m\u001b[38;5;241;43m.\u001b[39;49m\u001b[43mwhere\u001b[49m\u001b[43m)\u001b[49m \u001b[38;5;28;01mif\u001b[39;00m \u001b[38;5;28mself\u001b[39m\u001b[38;5;241m.\u001b[39mwhere \u001b[38;5;129;01mis\u001b[39;00m \u001b[38;5;129;01mnot\u001b[39;00m \u001b[38;5;28;01mNone\u001b[39;00m \u001b[38;5;28;01melse\u001b[39;00m (\u001b[38;5;124m\"\u001b[39m\u001b[38;5;124m\"\u001b[39m, [])\n\u001b[0;32m    599\u001b[0m     )\n\u001b[0;32m    600\u001b[0m \u001b[38;5;28;01mexcept\u001b[39;00m EmptyResultSet:\n\u001b[0;32m    601\u001b[0m     \u001b[38;5;28;01mif\u001b[39;00m \u001b[38;5;28mself\u001b[39m\u001b[38;5;241m.\u001b[39melide_empty:\n",
      "File \u001b[1;32m~\\AppData\\Local\\Programs\\Python\\Python39\\lib\\site-packages\\django\\db\\models\\sql\\compiler.py:496\u001b[0m, in \u001b[0;36mSQLCompiler.compile\u001b[1;34m(self, node)\u001b[0m\n\u001b[0;32m    494\u001b[0m     sql, params \u001b[38;5;241m=\u001b[39m vendor_impl(\u001b[38;5;28mself\u001b[39m, \u001b[38;5;28mself\u001b[39m\u001b[38;5;241m.\u001b[39mconnection)\n\u001b[0;32m    495\u001b[0m \u001b[38;5;28;01melse\u001b[39;00m:\n\u001b[1;32m--> 496\u001b[0m     sql, params \u001b[38;5;241m=\u001b[39m \u001b[43mnode\u001b[49m\u001b[38;5;241;43m.\u001b[39;49m\u001b[43mas_sql\u001b[49m\u001b[43m(\u001b[49m\u001b[38;5;28;43mself\u001b[39;49m\u001b[43m,\u001b[49m\u001b[43m \u001b[49m\u001b[38;5;28;43mself\u001b[39;49m\u001b[38;5;241;43m.\u001b[39;49m\u001b[43mconnection\u001b[49m\u001b[43m)\u001b[49m\n\u001b[0;32m    497\u001b[0m \u001b[38;5;28;01mreturn\u001b[39;00m sql, params\n",
      "File \u001b[1;32m~\\AppData\\Local\\Programs\\Python\\Python39\\lib\\site-packages\\django\\db\\models\\sql\\where.py:90\u001b[0m, in \u001b[0;36mWhereNode.as_sql\u001b[1;34m(self, compiler, connection)\u001b[0m\n\u001b[0;32m     88\u001b[0m \u001b[38;5;28;01mfor\u001b[39;00m child \u001b[38;5;129;01min\u001b[39;00m \u001b[38;5;28mself\u001b[39m\u001b[38;5;241m.\u001b[39mchildren:\n\u001b[0;32m     89\u001b[0m     \u001b[38;5;28;01mtry\u001b[39;00m:\n\u001b[1;32m---> 90\u001b[0m         sql, params \u001b[38;5;241m=\u001b[39m \u001b[43mcompiler\u001b[49m\u001b[38;5;241;43m.\u001b[39;49m\u001b[43mcompile\u001b[49m\u001b[43m(\u001b[49m\u001b[43mchild\u001b[49m\u001b[43m)\u001b[49m\n\u001b[0;32m     91\u001b[0m     \u001b[38;5;28;01mexcept\u001b[39;00m EmptyResultSet:\n\u001b[0;32m     92\u001b[0m         empty_needed \u001b[38;5;241m-\u001b[39m\u001b[38;5;241m=\u001b[39m \u001b[38;5;241m1\u001b[39m\n",
      "File \u001b[1;32m~\\AppData\\Local\\Programs\\Python\\Python39\\lib\\site-packages\\django\\db\\models\\sql\\compiler.py:496\u001b[0m, in \u001b[0;36mSQLCompiler.compile\u001b[1;34m(self, node)\u001b[0m\n\u001b[0;32m    494\u001b[0m     sql, params \u001b[38;5;241m=\u001b[39m vendor_impl(\u001b[38;5;28mself\u001b[39m, \u001b[38;5;28mself\u001b[39m\u001b[38;5;241m.\u001b[39mconnection)\n\u001b[0;32m    495\u001b[0m \u001b[38;5;28;01melse\u001b[39;00m:\n\u001b[1;32m--> 496\u001b[0m     sql, params \u001b[38;5;241m=\u001b[39m \u001b[43mnode\u001b[49m\u001b[38;5;241;43m.\u001b[39;49m\u001b[43mas_sql\u001b[49m\u001b[43m(\u001b[49m\u001b[38;5;28;43mself\u001b[39;49m\u001b[43m,\u001b[49m\u001b[43m \u001b[49m\u001b[38;5;28;43mself\u001b[39;49m\u001b[38;5;241;43m.\u001b[39;49m\u001b[43mconnection\u001b[49m\u001b[43m)\u001b[49m\n\u001b[0;32m    497\u001b[0m \u001b[38;5;28;01mreturn\u001b[39;00m sql, params\n",
      "File \u001b[1;32m~\\AppData\\Local\\Programs\\Python\\Python39\\lib\\site-packages\\django\\db\\models\\fields\\related_lookups.py:173\u001b[0m, in \u001b[0;36mRelatedLookupMixin.as_sql\u001b[1;34m(self, compiler, connection)\u001b[0m\n\u001b[0;32m    169\u001b[0m         root_constraint\u001b[38;5;241m.\u001b[39madd(\n\u001b[0;32m    170\u001b[0m             lookup_class(target\u001b[38;5;241m.\u001b[39mget_col(\u001b[38;5;28mself\u001b[39m\u001b[38;5;241m.\u001b[39mlhs\u001b[38;5;241m.\u001b[39malias, source), val), AND\n\u001b[0;32m    171\u001b[0m         )\n\u001b[0;32m    172\u001b[0m     \u001b[38;5;28;01mreturn\u001b[39;00m root_constraint\u001b[38;5;241m.\u001b[39mas_sql(compiler, connection)\n\u001b[1;32m--> 173\u001b[0m \u001b[38;5;28;01mreturn\u001b[39;00m \u001b[38;5;28;43msuper\u001b[39;49m\u001b[43m(\u001b[49m\u001b[43m)\u001b[49m\u001b[38;5;241;43m.\u001b[39;49m\u001b[43mas_sql\u001b[49m\u001b[43m(\u001b[49m\u001b[43mcompiler\u001b[49m\u001b[43m,\u001b[49m\u001b[43m \u001b[49m\u001b[43mconnection\u001b[49m\u001b[43m)\u001b[49m\n",
      "File \u001b[1;32m~\\AppData\\Local\\Programs\\Python\\Python39\\lib\\site-packages\\django\\db\\models\\lookups.py:357\u001b[0m, in \u001b[0;36mExact.as_sql\u001b[1;34m(self, compiler, connection)\u001b[0m\n\u001b[0;32m    355\u001b[0m     template \u001b[38;5;241m=\u001b[39m \u001b[38;5;124m\"\u001b[39m\u001b[38;5;132;01m%s\u001b[39;00m\u001b[38;5;124m\"\u001b[39m \u001b[38;5;28;01mif\u001b[39;00m \u001b[38;5;28mself\u001b[39m\u001b[38;5;241m.\u001b[39mrhs \u001b[38;5;28;01melse\u001b[39;00m \u001b[38;5;124m\"\u001b[39m\u001b[38;5;124mNOT \u001b[39m\u001b[38;5;132;01m%s\u001b[39;00m\u001b[38;5;124m\"\u001b[39m\n\u001b[0;32m    356\u001b[0m     \u001b[38;5;28;01mreturn\u001b[39;00m template \u001b[38;5;241m%\u001b[39m lhs_sql, params\n\u001b[1;32m--> 357\u001b[0m \u001b[38;5;28;01mreturn\u001b[39;00m \u001b[38;5;28;43msuper\u001b[39;49m\u001b[43m(\u001b[49m\u001b[43m)\u001b[49m\u001b[38;5;241;43m.\u001b[39;49m\u001b[43mas_sql\u001b[49m\u001b[43m(\u001b[49m\u001b[43mcompiler\u001b[49m\u001b[43m,\u001b[49m\u001b[43m \u001b[49m\u001b[43mconnection\u001b[49m\u001b[43m)\u001b[49m\n",
      "File \u001b[1;32m~\\AppData\\Local\\Programs\\Python\\Python39\\lib\\site-packages\\django\\db\\models\\lookups.py:225\u001b[0m, in \u001b[0;36mBuiltinLookup.as_sql\u001b[1;34m(self, compiler, connection)\u001b[0m\n\u001b[0;32m    223\u001b[0m \u001b[38;5;28;01mdef\u001b[39;00m \u001b[38;5;21mas_sql\u001b[39m(\u001b[38;5;28mself\u001b[39m, compiler, connection):\n\u001b[0;32m    224\u001b[0m     lhs_sql, params \u001b[38;5;241m=\u001b[39m \u001b[38;5;28mself\u001b[39m\u001b[38;5;241m.\u001b[39mprocess_lhs(compiler, connection)\n\u001b[1;32m--> 225\u001b[0m     rhs_sql, rhs_params \u001b[38;5;241m=\u001b[39m \u001b[38;5;28;43mself\u001b[39;49m\u001b[38;5;241;43m.\u001b[39;49m\u001b[43mprocess_rhs\u001b[49m\u001b[43m(\u001b[49m\u001b[43mcompiler\u001b[49m\u001b[43m,\u001b[49m\u001b[43m \u001b[49m\u001b[43mconnection\u001b[49m\u001b[43m)\u001b[49m\n\u001b[0;32m    226\u001b[0m     params\u001b[38;5;241m.\u001b[39mextend(rhs_params)\n\u001b[0;32m    227\u001b[0m     rhs_sql \u001b[38;5;241m=\u001b[39m \u001b[38;5;28mself\u001b[39m\u001b[38;5;241m.\u001b[39mget_rhs_op(connection, rhs_sql)\n",
      "File \u001b[1;32m~\\AppData\\Local\\Programs\\Python\\Python39\\lib\\site-packages\\django\\db\\models\\lookups.py:341\u001b[0m, in \u001b[0;36mExact.process_rhs\u001b[1;34m(self, compiler, connection)\u001b[0m\n\u001b[0;32m    336\u001b[0m     \u001b[38;5;28;01melse\u001b[39;00m:\n\u001b[0;32m    337\u001b[0m         \u001b[38;5;28;01mraise\u001b[39;00m \u001b[38;5;167;01mValueError\u001b[39;00m(\n\u001b[0;32m    338\u001b[0m             \u001b[38;5;124m\"\u001b[39m\u001b[38;5;124mThe QuerySet value for an exact lookup must be limited to \u001b[39m\u001b[38;5;124m\"\u001b[39m\n\u001b[0;32m    339\u001b[0m             \u001b[38;5;124m\"\u001b[39m\u001b[38;5;124mone result using slicing.\u001b[39m\u001b[38;5;124m\"\u001b[39m\n\u001b[0;32m    340\u001b[0m         )\n\u001b[1;32m--> 341\u001b[0m \u001b[38;5;28;01mreturn\u001b[39;00m \u001b[38;5;28;43msuper\u001b[39;49m\u001b[43m(\u001b[49m\u001b[43m)\u001b[49m\u001b[38;5;241;43m.\u001b[39;49m\u001b[43mprocess_rhs\u001b[49m\u001b[43m(\u001b[49m\u001b[43mcompiler\u001b[49m\u001b[43m,\u001b[49m\u001b[43m \u001b[49m\u001b[43mconnection\u001b[49m\u001b[43m)\u001b[49m\n",
      "File \u001b[1;32m~\\AppData\\Local\\Programs\\Python\\Python39\\lib\\site-packages\\django\\db\\models\\lookups.py:118\u001b[0m, in \u001b[0;36mLookup.process_rhs\u001b[1;34m(self, compiler, connection)\u001b[0m\n\u001b[0;32m    116\u001b[0m     value \u001b[38;5;241m=\u001b[39m value\u001b[38;5;241m.\u001b[39mresolve_expression(compiler\u001b[38;5;241m.\u001b[39mquery)\n\u001b[0;32m    117\u001b[0m \u001b[38;5;28;01mif\u001b[39;00m \u001b[38;5;28mhasattr\u001b[39m(value, \u001b[38;5;124m\"\u001b[39m\u001b[38;5;124mas_sql\u001b[39m\u001b[38;5;124m\"\u001b[39m):\n\u001b[1;32m--> 118\u001b[0m     sql, params \u001b[38;5;241m=\u001b[39m \u001b[43mcompiler\u001b[49m\u001b[38;5;241;43m.\u001b[39;49m\u001b[43mcompile\u001b[49m\u001b[43m(\u001b[49m\u001b[43mvalue\u001b[49m\u001b[43m)\u001b[49m\n\u001b[0;32m    119\u001b[0m     \u001b[38;5;66;03m# Ensure expression is wrapped in parentheses to respect operator\u001b[39;00m\n\u001b[0;32m    120\u001b[0m     \u001b[38;5;66;03m# precedence but avoid double wrapping as it can be misinterpreted\u001b[39;00m\n\u001b[0;32m    121\u001b[0m     \u001b[38;5;66;03m# on some backends (e.g. subqueries on SQLite).\u001b[39;00m\n\u001b[0;32m    122\u001b[0m     \u001b[38;5;28;01mif\u001b[39;00m sql \u001b[38;5;129;01mand\u001b[39;00m sql[\u001b[38;5;241m0\u001b[39m] \u001b[38;5;241m!=\u001b[39m \u001b[38;5;124m\"\u001b[39m\u001b[38;5;124m(\u001b[39m\u001b[38;5;124m\"\u001b[39m:\n",
      "File \u001b[1;32m~\\AppData\\Local\\Programs\\Python\\Python39\\lib\\site-packages\\django\\db\\models\\sql\\compiler.py:496\u001b[0m, in \u001b[0;36mSQLCompiler.compile\u001b[1;34m(self, node)\u001b[0m\n\u001b[0;32m    494\u001b[0m     sql, params \u001b[38;5;241m=\u001b[39m vendor_impl(\u001b[38;5;28mself\u001b[39m, \u001b[38;5;28mself\u001b[39m\u001b[38;5;241m.\u001b[39mconnection)\n\u001b[0;32m    495\u001b[0m \u001b[38;5;28;01melse\u001b[39;00m:\n\u001b[1;32m--> 496\u001b[0m     sql, params \u001b[38;5;241m=\u001b[39m \u001b[43mnode\u001b[49m\u001b[38;5;241;43m.\u001b[39;49m\u001b[43mas_sql\u001b[49m\u001b[43m(\u001b[49m\u001b[38;5;28;43mself\u001b[39;49m\u001b[43m,\u001b[49m\u001b[43m \u001b[49m\u001b[38;5;28;43mself\u001b[39;49m\u001b[38;5;241;43m.\u001b[39;49m\u001b[43mconnection\u001b[49m\u001b[43m)\u001b[49m\n\u001b[0;32m    497\u001b[0m \u001b[38;5;28;01mreturn\u001b[39;00m sql, params\n",
      "File \u001b[1;32m~\\AppData\\Local\\Programs\\Python\\Python39\\lib\\site-packages\\django\\db\\models\\expressions.py:681\u001b[0m, in \u001b[0;36mResolvedOuterRef.as_sql\u001b[1;34m(self, *args, **kwargs)\u001b[0m\n\u001b[0;32m    680\u001b[0m \u001b[38;5;28;01mdef\u001b[39;00m \u001b[38;5;21mas_sql\u001b[39m(\u001b[38;5;28mself\u001b[39m, \u001b[38;5;241m*\u001b[39margs, \u001b[38;5;241m*\u001b[39m\u001b[38;5;241m*\u001b[39mkwargs):\n\u001b[1;32m--> 681\u001b[0m     \u001b[38;5;28;01mraise\u001b[39;00m \u001b[38;5;167;01mValueError\u001b[39;00m(\n\u001b[0;32m    682\u001b[0m         \u001b[38;5;124m\"\u001b[39m\u001b[38;5;124mThis queryset contains a reference to an outer query and may \u001b[39m\u001b[38;5;124m\"\u001b[39m\n\u001b[0;32m    683\u001b[0m         \u001b[38;5;124m\"\u001b[39m\u001b[38;5;124monly be used in a subquery.\u001b[39m\u001b[38;5;124m\"\u001b[39m\n\u001b[0;32m    684\u001b[0m     )\n",
      "\u001b[1;31mValueError\u001b[0m: This queryset contains a reference to an outer query and may only be used in a subquery."
     ]
    }
   ],
   "source": [
    "# Wallet.objects.update(\n",
    "#     amount=F('amount') + Subquery(\n",
    "#         Betting.objects.filter(\n",
    "#             user_id=OuterRef('user_id'))\n",
    "#         .values(\"loss_profit\").aggregate(Sum(\"loss_profit\"))['loss_profit__sum']\n",
    "#         )\n",
    "# )"
   ]
  },
  {
   "cell_type": "code",
   "execution_count": null,
   "id": "f80e28a8",
   "metadata": {},
   "outputs": [],
   "source": []
  },
  {
   "cell_type": "code",
   "execution_count": 333,
   "id": "bfa1e76d",
   "metadata": {},
   "outputs": [
    {
     "data": {
      "text/plain": [
       "{'loss_profit__sum': -20.0}"
      ]
     },
     "execution_count": 333,
     "metadata": {},
     "output_type": "execute_result"
    }
   ],
   "source": [
    "Betting.objects.filter(user_id=1).values(\"loss_profit\").aggregate(Sum(\"loss_profit\"))"
   ]
  },
  {
   "cell_type": "code",
   "execution_count": 342,
   "id": "f21b70a2",
   "metadata": {},
   "outputs": [],
   "source": [
    "comments = Betting.objects.filter(user_id=OuterRef('user_id')).order_by().values('loss_profit')"
   ]
  },
  {
   "cell_type": "code",
   "execution_count": 344,
   "id": "6979b2bb",
   "metadata": {},
   "outputs": [],
   "source": [
    "# comments"
   ]
  },
  {
   "cell_type": "code",
   "execution_count": null,
   "id": "30283160",
   "metadata": {},
   "outputs": [],
   "source": [
    "hero_qs = Wallet.objects.filter(\n",
    "    user_id=OuterRef(\"user_id\")\n",
    ").order_by(\"-created\")\n",
    "Betting.objects.all().annotate(\n",
    "    most_benevolent_hero=Subquery(\n",
    "        hero_qs.values('amount')[:1]\n",
    "    )\n",
    ")"
   ]
  },
  {
   "cell_type": "code",
   "execution_count": 376,
   "id": "8ba8fcbb",
   "metadata": {},
   "outputs": [],
   "source": [
    "bet = Betting.objects.filter(user_id=5).values(\"user__id\",\"loss_profit\").aggregate(loss_profit=Sum(F(\"loss_profit\")))['loss_profit']"
   ]
  },
  {
   "cell_type": "code",
   "execution_count": 377,
   "id": "47bef53a",
   "metadata": {},
   "outputs": [
    {
     "data": {
      "text/plain": [
       "<QuerySet [<Wallet: fairbet>, <Wallet: Minkyaa6>]>"
      ]
     },
     "execution_count": 377,
     "metadata": {},
     "output_type": "execute_result"
    }
   ],
   "source": [
    "# Wallet.objects.filter()"
   ]
  },
  {
   "cell_type": "code",
   "execution_count": 386,
   "id": "463fa351",
   "metadata": {},
   "outputs": [
    {
     "data": {
      "text/plain": [
       "<QuerySet [{'amount': 6000.0}]>"
      ]
     },
     "execution_count": 386,
     "metadata": {},
     "output_type": "execute_result"
    }
   ],
   "source": [
    "Wallet.objects.filter(\n",
    "    user_id=5\n",
    ").order_by(\"-created\").values('amount')"
   ]
  },
  {
   "cell_type": "code",
   "execution_count": null,
   "id": "2009ee06",
   "metadata": {},
   "outputs": [],
   "source": []
  },
  {
   "cell_type": "code",
   "execution_count": null,
   "id": "06082153",
   "metadata": {},
   "outputs": [],
   "source": []
  },
  {
   "cell_type": "code",
   "execution_count": null,
   "id": "a3ebb625",
   "metadata": {},
   "outputs": [],
   "source": []
  },
  {
   "cell_type": "code",
   "execution_count": 330,
   "id": "90cbd556",
   "metadata": {},
   "outputs": [],
   "source": [
    "# Betting.objects.filter(user_id=OuterRef('user_id')).values(\"loss_profit\")"
   ]
  },
  {
   "cell_type": "code",
   "execution_count": null,
   "id": "6fa02c24",
   "metadata": {},
   "outputs": [],
   "source": []
  },
  {
   "cell_type": "code",
   "execution_count": null,
   "id": "f5ad156b",
   "metadata": {},
   "outputs": [],
   "source": []
  },
  {
   "cell_type": "code",
   "execution_count": 231,
   "id": "28a11782",
   "metadata": {},
   "outputs": [
    {
     "data": {
      "text/plain": [
       "<BulkUpdateOrCreateQuerySet [{'user__id': 1, 'user_id': 1, 'user_id__wallet__amount': 9500.0, 'loss_profit': -20.0}, {'user__id': 5, 'user_id': 5, 'user_id__wallet__amount': 10000.0, 'loss_profit': 0.0}]>"
      ]
     },
     "execution_count": 231,
     "metadata": {},
     "output_type": "execute_result"
    }
   ],
   "source": [
    "Betting.objects.all().values(\"user__id\",\"user_id\",\"user_id__wallet__amount\").annotate(loss_profit = Sum(\"loss_profit\"))"
   ]
  },
  {
   "cell_type": "code",
   "execution_count": null,
   "id": "8257fff1",
   "metadata": {},
   "outputs": [],
   "source": []
  },
  {
   "cell_type": "code",
   "execution_count": null,
   "id": "30343b87",
   "metadata": {},
   "outputs": [],
   "source": []
  },
  {
   "cell_type": "code",
   "execution_count": null,
   "id": "d7b72b89",
   "metadata": {},
   "outputs": [],
   "source": []
  },
  {
   "cell_type": "code",
   "execution_count": 210,
   "id": "87a3a8a4",
   "metadata": {},
   "outputs": [
    {
     "data": {
      "text/plain": [
       "{'loss_profit__sum': -20.0}"
      ]
     },
     "execution_count": 210,
     "metadata": {},
     "output_type": "execute_result"
    }
   ],
   "source": [
    "Betting.objects.all().aggregate(Sum(F(\"loss_profit\")))"
   ]
  },
  {
   "cell_type": "code",
   "execution_count": null,
   "id": "00ebf7bd",
   "metadata": {},
   "outputs": [],
   "source": []
  },
  {
   "cell_type": "code",
   "execution_count": null,
   "id": "372afc9d",
   "metadata": {},
   "outputs": [],
   "source": []
  },
  {
   "cell_type": "code",
   "execution_count": 211,
   "id": "3af60093",
   "metadata": {
    "scrolled": false
   },
   "outputs": [
    {
     "data": {
      "text/plain": [
       "<BulkUpdateOrCreateQuerySet [{'user__id': 1, 'user_id': 1, 'user_id__wallet__amount': 500.0, 'loss_or_profit': -20.0}, {'user__id': 5, 'user_id': 5, 'user_id__wallet__amount': -2000.0, 'loss_or_profit': 0.0}]>"
      ]
     },
     "execution_count": 211,
     "metadata": {},
     "output_type": "execute_result"
    }
   ],
   "source": [
    "Betting.objects.filter(match=matchName,winning_team=winningTeam).values(\"user__id\",\"user_id\",\"user_id__wallet__amount\").annotate(loss_or_profit = Sum(\"loss_profit\"))"
   ]
  },
  {
   "cell_type": "code",
   "execution_count": null,
   "id": "b2865b9e",
   "metadata": {},
   "outputs": [],
   "source": []
  },
  {
   "cell_type": "code",
   "execution_count": 441,
   "id": "e6e7f427",
   "metadata": {},
   "outputs": [],
   "source": [
    "get_json = [{\"tags\":\"[1,2]\"}]"
   ]
  },
  {
   "cell_type": "code",
   "execution_count": 442,
   "id": "48f26285",
   "metadata": {},
   "outputs": [],
   "source": [
    "import json"
   ]
  },
  {
   "cell_type": "code",
   "execution_count": 443,
   "id": "6c7ec14a",
   "metadata": {},
   "outputs": [],
   "source": [
    "dump = json.dumps(get_json)"
   ]
  },
  {
   "cell_type": "code",
   "execution_count": 444,
   "id": "10cb1d8c",
   "metadata": {},
   "outputs": [
    {
     "data": {
      "text/plain": [
       "'[{\"tags\": \"[1,2]\"}]'"
      ]
     },
     "execution_count": 444,
     "metadata": {},
     "output_type": "execute_result"
    }
   ],
   "source": [
    "dump"
   ]
  },
  {
   "cell_type": "code",
   "execution_count": 438,
   "id": "0751e718",
   "metadata": {},
   "outputs": [
    {
     "data": {
      "text/plain": [
       "[{'tags': [1, 2]}]"
      ]
     },
     "execution_count": 438,
     "metadata": {},
     "output_type": "execute_result"
    }
   ],
   "source": [
    "json.loads(dump)"
   ]
  },
  {
   "cell_type": "code",
   "execution_count": 449,
   "id": "98ccc702",
   "metadata": {},
   "outputs": [
    {
     "data": {
      "text/plain": [
       "<BulkUpdateOrCreateQuerySet [{'total_spend': -20.0}]>"
      ]
     },
     "execution_count": 449,
     "metadata": {},
     "output_type": "execute_result"
    }
   ],
   "source": [
    "Betting.objects.filter(\n",
    "        user_id=1,\n",
    "        match = matchName,\n",
    "        winning_team = winningTeam\n",
    "    ).values(\n",
    "        'user__id'\n",
    "    ).annotate(\n",
    "        total_spend=Sum('loss_profit')\n",
    "    ).values(\n",
    "        'total_spend'\n",
    "    )"
   ]
  },
  {
   "cell_type": "code",
   "execution_count": 12,
   "id": "e01c2baf",
   "metadata": {},
   "outputs": [],
   "source": [
    "bet = Betting.objects.all().values(\"user__id\").annotate(loss_profit=Sum(F(\"loss_profit\"))).values(\"loss_profit\")"
   ]
  },
  {
   "cell_type": "code",
   "execution_count": 13,
   "id": "8483ac82",
   "metadata": {},
   "outputs": [
    {
     "data": {
      "text/plain": [
       "<BulkUpdateOrCreateQuerySet [{'loss_profit': -20.0}, {'loss_profit': 0.0}, {'loss_profit': -1800.0}]>"
      ]
     },
     "execution_count": 13,
     "metadata": {},
     "output_type": "execute_result"
    }
   ],
   "source": [
    "bet"
   ]
  },
  {
   "cell_type": "code",
   "execution_count": null,
   "id": "639eb42e",
   "metadata": {},
   "outputs": [],
   "source": [
    "#Football api"
   ]
  },
  {
   "cell_type": "code",
   "execution_count": 1,
   "id": "eba60817",
   "metadata": {},
   "outputs": [],
   "source": [
    "import requests"
   ]
  },
  {
   "cell_type": "code",
   "execution_count": null,
   "id": "fa0fcf9e",
   "metadata": {},
   "outputs": [],
   "source": [
    "##Sample payload\n",
    "# url = \"https://v3.football.api-sports.io/{endpoint}\"\n",
    "\n",
    "# payload={}\n",
    "# headers = {\n",
    "#   'x-rapidapi-key': 'XxXxXxXxXxXxXxXxXxXxXxXx',\n",
    "#   'x-rapidapi-host': 'v3.football.api-sports.io'\n",
    "# }\n",
    "\n",
    "# response = requests.request(\"GET\", url, headers=headers, data=payload)\n",
    "\n",
    "# print(response.text)"
   ]
  },
  {
   "cell_type": "code",
   "execution_count": 18,
   "id": "831db41a",
   "metadata": {},
   "outputs": [
    {
     "data": {
      "text/html": [
       "<div>\n",
       "<style scoped>\n",
       "    .dataframe tbody tr th:only-of-type {\n",
       "        vertical-align: middle;\n",
       "    }\n",
       "\n",
       "    .dataframe tbody tr th {\n",
       "        vertical-align: top;\n",
       "    }\n",
       "\n",
       "    .dataframe thead th {\n",
       "        text-align: right;\n",
       "    }\n",
       "</style>\n",
       "<table border=\"1\" class=\"dataframe\">\n",
       "  <thead>\n",
       "    <tr style=\"text-align: right;\">\n",
       "      <th></th>\n",
       "      <th>get</th>\n",
       "      <th>parameters</th>\n",
       "      <th>errors</th>\n",
       "      <th>results</th>\n",
       "      <th>paging</th>\n",
       "      <th>response</th>\n",
       "    </tr>\n",
       "  </thead>\n",
       "  <tbody>\n",
       "    <tr>\n",
       "      <th>0</th>\n",
       "      <td>odds/bookmakers</td>\n",
       "      <td>[]</td>\n",
       "      <td>[]</td>\n",
       "      <td>28</td>\n",
       "      <td>{'current': 1, 'total': 1}</td>\n",
       "      <td>[{'id': 1, 'name': '10Bet'}, {'id': 2, 'name':...</td>\n",
       "    </tr>\n",
       "  </tbody>\n",
       "</table>\n",
       "</div>"
      ],
      "text/plain": [
       "               get parameters errors  results                      paging  \\\n",
       "0  odds/bookmakers         []     []       28  {'current': 1, 'total': 1}   \n",
       "\n",
       "                                            response  \n",
       "0  [{'id': 1, 'name': '10Bet'}, {'id': 2, 'name':...  "
      ]
     },
     "execution_count": 18,
     "metadata": {},
     "output_type": "execute_result"
    }
   ],
   "source": [
    "import http.client\n",
    "import json\n",
    "import pandas as pd\n",
    "conn = http.client.HTTPSConnection(\"v3.football.api-sports.io\")\n",
    "\n",
    "headers = {\n",
    "    'x-rapidapi-host': \"v3.football.api-sports.io\",\n",
    "    'x-rapidapi-key': \"344b4657332d395aa1a19b3027f9b8f2\"\n",
    "    }\n",
    "\n",
    "conn.request(\"GET\", \"/odds/bookmakers\", headers=headers)\n",
    "\n",
    "res = conn.getresponse()\n",
    "data = res.read()\n",
    "\n",
    "data = json.loads(data.decode(\"utf-8\"))\n",
    "df = pd.DataFrame([data])\n",
    "df"
   ]
  },
  {
   "cell_type": "code",
   "execution_count": 20,
   "id": "df5cb57d",
   "metadata": {},
   "outputs": [
    {
     "data": {
      "text/plain": [
       "[{'id': 1, 'name': '10Bet'},\n",
       " {'id': 2, 'name': 'Marathonbet'},\n",
       " {'id': 3, 'name': 'Betfair'},\n",
       " {'id': 4, 'name': 'Pinnacle'},\n",
       " {'id': 5, 'name': 'SBO'},\n",
       " {'id': 6, 'name': 'Bwin'},\n",
       " {'id': 7, 'name': 'William Hill'},\n",
       " {'id': 8, 'name': 'Bet365'},\n",
       " {'id': 9, 'name': 'Dafabet'},\n",
       " {'id': 10, 'name': 'Ladbrokes'},\n",
       " {'id': 11, 'name': '1xBet'},\n",
       " {'id': 12, 'name': 'BetFred'},\n",
       " {'id': 13, 'name': '188Bet'},\n",
       " {'id': 15, 'name': 'Interwetten'},\n",
       " {'id': 16, 'name': 'Unibet'},\n",
       " {'id': 17, 'name': '5Dimes'},\n",
       " {'id': 18, 'name': 'Intertops'},\n",
       " {'id': 19, 'name': 'Bovada'},\n",
       " {'id': 20, 'name': 'Betcris'},\n",
       " {'id': 21, 'name': '888Sport'},\n",
       " {'id': 22, 'name': 'Tipico'},\n",
       " {'id': 23, 'name': 'Sportingbet'},\n",
       " {'id': 24, 'name': 'Betway'},\n",
       " {'id': 25, 'name': 'Expekt'},\n",
       " {'id': 26, 'name': 'Betsson'},\n",
       " {'id': 27, 'name': 'NordicBet'},\n",
       " {'id': 28, 'name': 'ComeOn'},\n",
       " {'id': 30, 'name': 'Netbet'}]"
      ]
     },
     "execution_count": 20,
     "metadata": {},
     "output_type": "execute_result"
    }
   ],
   "source": [
    "df['response'].iloc[0]"
   ]
  },
  {
   "cell_type": "code",
   "execution_count": 32,
   "id": "947d3d45",
   "metadata": {},
   "outputs": [],
   "source": [
    "aggregate_betting_amount = Betting.objects.filter(user_id=1).values(\"user_id\").annotate(get_amount = Sum(\"amount\")).values('get_amount')"
   ]
  },
  {
   "cell_type": "code",
   "execution_count": 35,
   "id": "cbfbed46",
   "metadata": {},
   "outputs": [
    {
     "data": {
      "text/plain": [
       "4000.0"
      ]
     },
     "execution_count": 35,
     "metadata": {},
     "output_type": "execute_result"
    }
   ],
   "source": [
    "aggregate_betting_amount[0]['get_amount']"
   ]
  },
  {
   "cell_type": "code",
   "execution_count": null,
   "id": "b5bd926d",
   "metadata": {},
   "outputs": [],
   "source": []
  },
  {
   "cell_type": "code",
   "execution_count": null,
   "id": "8205d080",
   "metadata": {},
   "outputs": [],
   "source": []
  },
  {
   "cell_type": "code",
   "execution_count": null,
   "id": "72339453",
   "metadata": {},
   "outputs": [],
   "source": []
  },
  {
   "cell_type": "code",
   "execution_count": null,
   "id": "2cafc4d2",
   "metadata": {},
   "outputs": [],
   "source": []
  }
 ],
 "metadata": {
  "kernelspec": {
   "display_name": "Django Shell-Plus",
   "language": "python",
   "name": "django_extensions"
  },
  "language_info": {
   "codemirror_mode": {
    "name": "ipython",
    "version": 3
   },
   "file_extension": ".py",
   "mimetype": "text/x-python",
   "name": "python",
   "nbconvert_exporter": "python",
   "pygments_lexer": "ipython3",
   "version": "3.9.2"
  }
 },
 "nbformat": 4,
 "nbformat_minor": 5
}
