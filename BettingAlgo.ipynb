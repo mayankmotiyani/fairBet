{
 "cells": [
  {
   "cell_type": "code",
   "execution_count": 7,
   "id": "2be1def4",
   "metadata": {},
   "outputs": [],
   "source": [
    "import os\n",
    "import django\n",
    "os.environ.setdefault('DJANGO_SETTINGS_MODULE', 'fairbet_django.settings')\n",
    "os.environ[\"DJANGO_ALLOW_ASYNC_UNSAFE\"] = \"true\"\n",
    "django.setup()"
   ]
  },
  {
   "cell_type": "code",
   "execution_count": 8,
   "id": "f3ac5b7a",
   "metadata": {},
   "outputs": [],
   "source": [
    "from order_placed.models import *\n",
    "from django_pandas.io import read_frame"
   ]
  },
  {
   "cell_type": "code",
   "execution_count": 9,
   "id": "ed66bed2",
   "metadata": {},
   "outputs": [],
   "source": [
    "df = read_frame(Betting.objects.all())"
   ]
  },
  {
   "cell_type": "code",
   "execution_count": 10,
   "id": "54cbfea0",
   "metadata": {},
   "outputs": [
    {
     "data": {
      "text/html": [
       "<div>\n",
       "<style scoped>\n",
       "    .dataframe tbody tr th:only-of-type {\n",
       "        vertical-align: middle;\n",
       "    }\n",
       "\n",
       "    .dataframe tbody tr th {\n",
       "        vertical-align: top;\n",
       "    }\n",
       "\n",
       "    .dataframe thead th {\n",
       "        text-align: right;\n",
       "    }\n",
       "</style>\n",
       "<table border=\"1\" class=\"dataframe\">\n",
       "  <thead>\n",
       "    <tr style=\"text-align: right;\">\n",
       "      <th></th>\n",
       "      <th>id</th>\n",
       "      <th>user</th>\n",
       "      <th>amount</th>\n",
       "      <th>bet_on_team</th>\n",
       "      <th>status</th>\n",
       "      <th>odds</th>\n",
       "      <th>winning_team</th>\n",
       "      <th>loss_profit</th>\n",
       "      <th>match</th>\n",
       "      <th>created_at</th>\n",
       "      <th>updated_at</th>\n",
       "    </tr>\n",
       "  </thead>\n",
       "  <tbody>\n",
       "    <tr>\n",
       "      <th>0</th>\n",
       "      <td>4</td>\n",
       "      <td>fairbet</td>\n",
       "      <td>200.0</td>\n",
       "      <td>Srilanka</td>\n",
       "      <td>BACK</td>\n",
       "      <td>1.85</td>\n",
       "      <td>Not declared yet</td>\n",
       "      <td>0.0</td>\n",
       "      <td>Srilanka VS India</td>\n",
       "      <td>2022-07-04 06:21:06.148020+00:00</td>\n",
       "      <td>2022-07-04 06:21:06.158295+00:00</td>\n",
       "    </tr>\n",
       "    <tr>\n",
       "      <th>1</th>\n",
       "      <td>5</td>\n",
       "      <td>fairbet</td>\n",
       "      <td>200.0</td>\n",
       "      <td>Srilanka</td>\n",
       "      <td>BACK</td>\n",
       "      <td>1.85</td>\n",
       "      <td>Not declared yet</td>\n",
       "      <td>0.0</td>\n",
       "      <td>Srilanka VS India</td>\n",
       "      <td>2022-07-04 06:21:17.505599+00:00</td>\n",
       "      <td>2022-07-04 06:21:17.509525+00:00</td>\n",
       "    </tr>\n",
       "    <tr>\n",
       "      <th>2</th>\n",
       "      <td>6</td>\n",
       "      <td>fairbet</td>\n",
       "      <td>100.0</td>\n",
       "      <td>Srilanka</td>\n",
       "      <td>BACK</td>\n",
       "      <td>1.85</td>\n",
       "      <td>Not declared yet</td>\n",
       "      <td>0.0</td>\n",
       "      <td>Srilanka VS India</td>\n",
       "      <td>2022-07-04 06:21:30.086292+00:00</td>\n",
       "      <td>2022-07-04 06:21:30.092277+00:00</td>\n",
       "    </tr>\n",
       "  </tbody>\n",
       "</table>\n",
       "</div>"
      ],
      "text/plain": [
       "   id     user  amount bet_on_team status  odds      winning_team  \\\n",
       "0   4  fairbet   200.0    Srilanka   BACK  1.85  Not declared yet   \n",
       "1   5  fairbet   200.0    Srilanka   BACK  1.85  Not declared yet   \n",
       "2   6  fairbet   100.0    Srilanka   BACK  1.85  Not declared yet   \n",
       "\n",
       "   loss_profit              match                       created_at  \\\n",
       "0          0.0  Srilanka VS India 2022-07-04 06:21:06.148020+00:00   \n",
       "1          0.0  Srilanka VS India 2022-07-04 06:21:17.505599+00:00   \n",
       "2          0.0  Srilanka VS India 2022-07-04 06:21:30.086292+00:00   \n",
       "\n",
       "                        updated_at  \n",
       "0 2022-07-04 06:21:06.158295+00:00  \n",
       "1 2022-07-04 06:21:17.509525+00:00  \n",
       "2 2022-07-04 06:21:30.092277+00:00  "
      ]
     },
     "execution_count": 10,
     "metadata": {},
     "output_type": "execute_result"
    }
   ],
   "source": [
    "df"
   ]
  },
  {
   "cell_type": "code",
   "execution_count": null,
   "id": "c63d2f1f",
   "metadata": {},
   "outputs": [],
   "source": []
  }
 ],
 "metadata": {
  "kernelspec": {
   "display_name": "Django Shell-Plus",
   "language": "python",
   "name": "django_extensions"
  },
  "language_info": {
   "codemirror_mode": {
    "name": "ipython",
    "version": 3
   },
   "file_extension": ".py",
   "mimetype": "text/x-python",
   "name": "python",
   "nbconvert_exporter": "python",
   "pygments_lexer": "ipython3",
   "version": "3.9.2"
  }
 },
 "nbformat": 4,
 "nbformat_minor": 5
}
