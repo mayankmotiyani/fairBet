{
 "cells": [
  {
   "cell_type": "code",
   "execution_count": 99,
   "id": "2be1def4",
   "metadata": {},
   "outputs": [],
   "source": [
    "import os\n",
    "import django\n",
    "os.environ.setdefault('DJANGO_SETTINGS_MODULE', 'fairbet_django.settings')\n",
    "os.environ[\"DJANGO_ALLOW_ASYNC_UNSAFE\"] = \"true\"\n",
    "django.setup()"
   ]
  },
  {
   "cell_type": "code",
   "execution_count": 100,
   "id": "f3ac5b7a",
   "metadata": {},
   "outputs": [],
   "source": [
    "from order_placed.models import *\n",
    "from django_pandas.io import read_frame\n",
    "from django.db.models import F, Q, When, Value, Case, Sum"
   ]
  },
  {
   "cell_type": "code",
   "execution_count": 101,
   "id": "ed66bed2",
   "metadata": {},
   "outputs": [],
   "source": [
    "df = read_frame(Betting.objects.filter(match=\"Srilanka vs India\"))"
   ]
  },
  {
   "cell_type": "code",
   "execution_count": 102,
   "id": "54cbfea0",
   "metadata": {},
   "outputs": [
    {
     "data": {
      "text/html": [
       "<div>\n",
       "<style scoped>\n",
       "    .dataframe tbody tr th:only-of-type {\n",
       "        vertical-align: middle;\n",
       "    }\n",
       "\n",
       "    .dataframe tbody tr th {\n",
       "        vertical-align: top;\n",
       "    }\n",
       "\n",
       "    .dataframe thead th {\n",
       "        text-align: right;\n",
       "    }\n",
       "</style>\n",
       "<table border=\"1\" class=\"dataframe\">\n",
       "  <thead>\n",
       "    <tr style=\"text-align: right;\">\n",
       "      <th></th>\n",
       "      <th>id</th>\n",
       "      <th>user</th>\n",
       "      <th>amount</th>\n",
       "      <th>bet_on_team</th>\n",
       "      <th>status</th>\n",
       "      <th>odds</th>\n",
       "      <th>winning_team</th>\n",
       "      <th>loss_profit</th>\n",
       "      <th>match</th>\n",
       "      <th>created_at</th>\n",
       "      <th>updated_at</th>\n",
       "    </tr>\n",
       "  </thead>\n",
       "  <tbody>\n",
       "    <tr>\n",
       "      <th>0</th>\n",
       "      <td>7</td>\n",
       "      <td>fairbet</td>\n",
       "      <td>1000.0</td>\n",
       "      <td>Srilanka</td>\n",
       "      <td>BACK</td>\n",
       "      <td>2.85</td>\n",
       "      <td>Srilanka</td>\n",
       "      <td>1850.0</td>\n",
       "      <td>Srilanka vs India</td>\n",
       "      <td>2022-07-04 07:05:52.327891+00:00</td>\n",
       "      <td>2022-07-05 06:22:08.226863+00:00</td>\n",
       "    </tr>\n",
       "    <tr>\n",
       "      <th>1</th>\n",
       "      <td>8</td>\n",
       "      <td>fairbet</td>\n",
       "      <td>1000.0</td>\n",
       "      <td>Srilanka</td>\n",
       "      <td>LAY</td>\n",
       "      <td>1.85</td>\n",
       "      <td>Srilanka</td>\n",
       "      <td>-850.0</td>\n",
       "      <td>Srilanka vs India</td>\n",
       "      <td>2022-07-04 07:06:03.985142+00:00</td>\n",
       "      <td>2022-07-05 06:16:39.476528+00:00</td>\n",
       "    </tr>\n",
       "    <tr>\n",
       "      <th>2</th>\n",
       "      <td>9</td>\n",
       "      <td>fairbet</td>\n",
       "      <td>1000.0</td>\n",
       "      <td>India</td>\n",
       "      <td>BACK</td>\n",
       "      <td>2.85</td>\n",
       "      <td>Srilanka</td>\n",
       "      <td>-1000.0</td>\n",
       "      <td>Srilanka vs India</td>\n",
       "      <td>2022-07-04 07:07:32.928877+00:00</td>\n",
       "      <td>2022-07-05 06:16:43.497817+00:00</td>\n",
       "    </tr>\n",
       "    <tr>\n",
       "      <th>3</th>\n",
       "      <td>10</td>\n",
       "      <td>fairbet</td>\n",
       "      <td>500.0</td>\n",
       "      <td>India</td>\n",
       "      <td>LAY</td>\n",
       "      <td>1.65</td>\n",
       "      <td>Srilanka</td>\n",
       "      <td>500.0</td>\n",
       "      <td>Srilanka vs India</td>\n",
       "      <td>2022-07-04 07:08:36.692581+00:00</td>\n",
       "      <td>2022-07-05 06:16:46.587269+00:00</td>\n",
       "    </tr>\n",
       "  </tbody>\n",
       "</table>\n",
       "</div>"
      ],
      "text/plain": [
       "   id     user  amount bet_on_team status  odds winning_team  loss_profit  \\\n",
       "0   7  fairbet  1000.0    Srilanka   BACK  2.85     Srilanka       1850.0   \n",
       "1   8  fairbet  1000.0    Srilanka    LAY  1.85     Srilanka       -850.0   \n",
       "2   9  fairbet  1000.0       India   BACK  2.85     Srilanka      -1000.0   \n",
       "3  10  fairbet   500.0       India    LAY  1.65     Srilanka        500.0   \n",
       "\n",
       "               match                       created_at  \\\n",
       "0  Srilanka vs India 2022-07-04 07:05:52.327891+00:00   \n",
       "1  Srilanka vs India 2022-07-04 07:06:03.985142+00:00   \n",
       "2  Srilanka vs India 2022-07-04 07:07:32.928877+00:00   \n",
       "3  Srilanka vs India 2022-07-04 07:08:36.692581+00:00   \n",
       "\n",
       "                        updated_at  \n",
       "0 2022-07-05 06:22:08.226863+00:00  \n",
       "1 2022-07-05 06:16:39.476528+00:00  \n",
       "2 2022-07-05 06:16:43.497817+00:00  \n",
       "3 2022-07-05 06:16:46.587269+00:00  "
      ]
     },
     "execution_count": 102,
     "metadata": {},
     "output_type": "execute_result"
    }
   ],
   "source": [
    "df"
   ]
  },
  {
   "cell_type": "code",
   "execution_count": null,
   "id": "c63d2f1f",
   "metadata": {},
   "outputs": [],
   "source": []
  },
  {
   "cell_type": "code",
   "execution_count": 40,
   "id": "6fe80a2f",
   "metadata": {},
   "outputs": [],
   "source": [
    "# Client.objects.update(account_type=Case(\n",
    "#     When(registered_on__lte=a_year_ago,\n",
    "#          then=Value(Client.PLATINUM)),\n",
    "#     When(registered_on__lte=a_month_ago,\n",
    "#          then=Value(Client.GOLD)),\n",
    "#     default=Value(Client.REGULAR)\n",
    "# ),)"
   ]
  },
  {
   "cell_type": "code",
   "execution_count": 41,
   "id": "c0c8f2ba",
   "metadata": {},
   "outputs": [],
   "source": [
    "# betting = Betting.objects.filter(match=\"Srilanka vs India\").values('loss_profit')"
   ]
  },
  {
   "cell_type": "code",
   "execution_count": 42,
   "id": "185185b8",
   "metadata": {},
   "outputs": [],
   "source": [
    "# bet = betting.annotate(\n",
    "#     betting_loss_profit=Case(\n",
    "#         When(\n",
    "#             status=\"BACK\",\n",
    "#             then=F(\"amount\")*0.8,\n",
    "#         ),\n",
    "#         default = F(\"loss_profit\"),\n",
    "#         output_field = models.FloatField()\n",
    "#     )\n",
    "# )"
   ]
  },
  {
   "cell_type": "code",
   "execution_count": 43,
   "id": "23841258",
   "metadata": {},
   "outputs": [],
   "source": [
    "# Betting.objects.update(\n",
    "#     loss_profit=Case(\n",
    "#         When(status=\"B\",\n",
    "#              match=\"Srilanka vs India\",\n",
    "#              winning_team = \"Not declared yet\",\n",
    "#              then=F(\"amount\")*F(\"odds\") - F(\"amount\")),\n",
    "#         When(status=\"L\",\n",
    "#              match=\"Srilanka vs India\",\n",
    "#              winning_team = \"Not declared yet\",\n",
    "#              then=F(\"amount\")* -F(\"odds\") + F(\"amount\")),\n",
    "#         default=F(\"loss_profit\")\n",
    "# )\n",
    "#      )"
   ]
  },
  {
   "cell_type": "code",
   "execution_count": null,
   "id": "b567c1cd",
   "metadata": {},
   "outputs": [],
   "source": []
  },
  {
   "cell_type": "code",
   "execution_count": 145,
   "id": "9ba44cea",
   "metadata": {},
   "outputs": [],
   "source": [
    "winningTeam = \"India\"\n",
    "matchName = \"Srilanka vs India\""
   ]
  },
  {
   "cell_type": "code",
   "execution_count": 148,
   "id": "50f6945d",
   "metadata": {},
   "outputs": [],
   "source": [
    "betting_instance = Betting.objects.filter(\n",
    "        match = matchName\n",
    "    ).update(\n",
    "        loss_profit = Case(\n",
    "            When(\n",
    "                status = \"B\",\n",
    "                bet_on_team = winningTeam,\n",
    "                winning_team = winningTeam,\n",
    "                then = F('amount') * F(\"odds\")),\n",
    "            When(\n",
    "                ~Q(bet_on_team = winningTeam),\n",
    "                status = \"B\",\n",
    "                winning_team = winningTeam,\n",
    "                then = -F('amount')),\n",
    "             When(\n",
    "                status = \"L\",\n",
    "                bet_on_team = winningTeam,\n",
    "                winning_team = winningTeam,\n",
    "                then = F('amount') * - F(\"odds\")),\n",
    "             When(\n",
    "                 ~Q(bet_on_team = winningTeam),\n",
    "                status = \"L\",\n",
    "                winning_team = winningTeam,\n",
    "                then = F('amount')),\n",
    "            default=F(\"loss_profit\")\n",
    "            )\n",
    "        )"
   ]
  },
  {
   "cell_type": "code",
   "execution_count": 103,
   "id": "1f30dadf",
   "metadata": {},
   "outputs": [],
   "source": [
    "from order_placed.models import *\n",
    "from django_pandas.io import read_frame\n",
    "from django.db.models import F, Q, When, Value, Case, Sum"
   ]
  },
  {
   "cell_type": "code",
   "execution_count": null,
   "id": "3b01d5fa",
   "metadata": {},
   "outputs": [],
   "source": []
  },
  {
   "cell_type": "code",
   "execution_count": 131,
   "id": "09c83f2f",
   "metadata": {},
   "outputs": [],
   "source": [
    "bettings = Betting.objects.filter(loss_profit__gt=0)"
   ]
  },
  {
   "cell_type": "code",
   "execution_count": 132,
   "id": "e0af0e9a",
   "metadata": {},
   "outputs": [
    {
     "data": {
      "text/plain": [
       "<BulkUpdateOrCreateQuerySet [<Betting: Betting object (7)>, <Betting: Betting object (10)>]>"
      ]
     },
     "execution_count": 132,
     "metadata": {},
     "output_type": "execute_result"
    }
   ],
   "source": [
    "bettings"
   ]
  },
  {
   "cell_type": "code",
   "execution_count": 127,
   "id": "367169a8",
   "metadata": {},
   "outputs": [],
   "source": []
  },
  {
   "cell_type": "code",
   "execution_count": null,
   "id": "850c19e4",
   "metadata": {},
   "outputs": [],
   "source": []
  },
  {
   "cell_type": "code",
   "execution_count": null,
   "id": "d1620aae",
   "metadata": {},
   "outputs": [],
   "source": []
  },
  {
   "cell_type": "code",
   "execution_count": null,
   "id": "0b0ee404",
   "metadata": {},
   "outputs": [],
   "source": []
  },
  {
   "cell_type": "code",
   "execution_count": null,
   "id": "437178f7",
   "metadata": {},
   "outputs": [],
   "source": []
  }
 ],
 "metadata": {
  "kernelspec": {
   "display_name": "Django Shell-Plus",
   "language": "python",
   "name": "django_extensions"
  },
  "language_info": {
   "codemirror_mode": {
    "name": "ipython",
    "version": 3
   },
   "file_extension": ".py",
   "mimetype": "text/x-python",
   "name": "python",
   "nbconvert_exporter": "python",
   "pygments_lexer": "ipython3",
   "version": "3.9.2"
  }
 },
 "nbformat": 4,
 "nbformat_minor": 5
}
