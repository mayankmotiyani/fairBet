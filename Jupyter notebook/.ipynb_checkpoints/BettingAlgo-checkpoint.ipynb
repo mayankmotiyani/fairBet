{
 "cells": [
  {
   "cell_type": "code",
   "execution_count": 86,
   "id": "54f4d3a5",
   "metadata": {},
   "outputs": [],
   "source": [
    "import os\n",
    "import django\n",
    "os.environ.setdefault('DJANGO_SETTINGS_MODULE', 'fairbet_django.settings')\n",
    "os.environ[\"DJANGO_ALLOW_ASYNC_UNSAFE\"] = \"true\"\n",
    "django.setup()"
   ]
  },
  {
   "cell_type": "code",
   "execution_count": 87,
   "id": "5c03202f",
   "metadata": {},
   "outputs": [],
   "source": [
    "from order_placed.models import *\n",
    "from django_pandas.io import read_frame"
   ]
  },
  {
   "cell_type": "code",
   "execution_count": 88,
   "id": "35b52359",
   "metadata": {},
   "outputs": [
    {
     "data": {
      "text/plain": [
       "<BulkUpdateOrCreateQuerySet [<Betting: Betting object (7)>, <Betting: Betting object (8)>, <Betting: Betting object (9)>, <Betting: Betting object (10)>, <Betting: Betting object (11)>]>"
      ]
     },
     "execution_count": 88,
     "metadata": {},
     "output_type": "execute_result"
    }
   ],
   "source": [
    "Betting.objects.all()"
   ]
  },
  {
   "cell_type": "code",
   "execution_count": 89,
   "id": "54232290",
   "metadata": {},
   "outputs": [],
   "source": [
    "df = read_frame(Betting.objects.all())"
   ]
  },
  {
   "cell_type": "code",
   "execution_count": 90,
   "id": "68f88938",
   "metadata": {},
   "outputs": [],
   "source": [
    "# df['winning_team'] = 'Srilanka'"
   ]
  },
  {
   "cell_type": "code",
   "execution_count": 91,
   "id": "1c67037c",
   "metadata": {},
   "outputs": [],
   "source": [
    "# winning_team = df['winning_team'].iloc[0]"
   ]
  },
  {
   "cell_type": "code",
   "execution_count": 92,
   "id": "a88a196a",
   "metadata": {},
   "outputs": [],
   "source": [
    "def takeProfitLoss(row):\n",
    "    if row.status == \"BACK\" and row.bet_on_team ==winning_team and row.winning_team == winning_team:\n",
    "        return row.amount * row.odds - row.amount \n",
    "    elif row.status == \"BACK\" and row.bet_on_team == winningTeam and row.bet_on_team != winningTeam:\n",
    "        return -row.amount\n",
    "    elif row.status == \"LAY\" and row.bet_on_team == winningTeam and row.bet_on_team == winningTeam:\n",
    "        return row.amount * - row.odds + row.amount\n",
    "    elif row.status == \"LAY\" and row.bet_on_team == winningTeam and row.bet_on_team != winningTeam:\n",
    "        return row.amount"
   ]
  },
  {
   "cell_type": "code",
   "execution_count": 93,
   "id": "7351b6a7",
   "metadata": {},
   "outputs": [],
   "source": [
    "# df['L/P'] = df.apply(takeProfitLoss,axis=1)"
   ]
  },
  {
   "cell_type": "code",
   "execution_count": 94,
   "id": "845426ea",
   "metadata": {},
   "outputs": [],
   "source": [
    "get_unique_match = df['match'].unique()"
   ]
  },
  {
   "cell_type": "code",
   "execution_count": 95,
   "id": "28de20ac",
   "metadata": {},
   "outputs": [
    {
     "data": {
      "text/plain": [
       "array(['Srilanka vs India', 'England vs India'], dtype=object)"
      ]
     },
     "execution_count": 95,
     "metadata": {},
     "output_type": "execute_result"
    }
   ],
   "source": [
    "get_unique_match"
   ]
  },
  {
   "cell_type": "code",
   "execution_count": 104,
   "id": "15ce0278",
   "metadata": {},
   "outputs": [
    {
     "data": {
      "text/plain": [
       "<pandas.core.groupby.generic.DataFrameGroupBy object at 0x00000116FA378040>"
      ]
     },
     "execution_count": 104,
     "metadata": {},
     "output_type": "execute_result"
    }
   ],
   "source": [
    "df.groupby('match').get_group()"
   ]
  },
  {
   "cell_type": "code",
   "execution_count": null,
   "id": "ef110683",
   "metadata": {},
   "outputs": [],
   "source": []
  },
  {
   "cell_type": "code",
   "execution_count": null,
   "id": "651643ba",
   "metadata": {},
   "outputs": [],
   "source": []
  },
  {
   "cell_type": "code",
   "execution_count": null,
   "id": "66002e28",
   "metadata": {},
   "outputs": [],
   "source": []
  }
 ],
 "metadata": {
  "kernelspec": {
   "display_name": "Django Shell-Plus",
   "language": "python",
   "name": "django_extensions"
  },
  "language_info": {
   "codemirror_mode": {
    "name": "ipython",
    "version": 3
   },
   "file_extension": ".py",
   "mimetype": "text/x-python",
   "name": "python",
   "nbconvert_exporter": "python",
   "pygments_lexer": "ipython3",
   "version": "3.9.2"
  }
 },
 "nbformat": 4,
 "nbformat_minor": 5
}
