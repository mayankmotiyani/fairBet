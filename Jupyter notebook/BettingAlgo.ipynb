{
 "cells": [
  {
   "cell_type": "code",
   "execution_count": 130,
   "id": "54f4d3a5",
   "metadata": {},
   "outputs": [],
   "source": [
    "import os\n",
    "import django\n",
    "os.environ.setdefault('DJANGO_SETTINGS_MODULE', 'fairbet_django.settings')\n",
    "os.environ[\"DJANGO_ALLOW_ASYNC_UNSAFE\"] = \"true\"\n",
    "django.setup()"
   ]
  },
  {
   "cell_type": "code",
   "execution_count": 131,
   "id": "5c03202f",
   "metadata": {},
   "outputs": [],
   "source": [
    "from order_placed.models import *\n",
    "from django_pandas.io import read_frame"
   ]
  },
  {
   "cell_type": "code",
   "execution_count": 132,
   "id": "35b52359",
   "metadata": {},
   "outputs": [
    {
     "data": {
      "text/plain": [
       "<BulkUpdateOrCreateQuerySet [<Betting: Betting object (7)>, <Betting: Betting object (8)>, <Betting: Betting object (9)>, <Betting: Betting object (10)>, <Betting: Betting object (11)>]>"
      ]
     },
     "execution_count": 132,
     "metadata": {},
     "output_type": "execute_result"
    }
   ],
   "source": [
    "Betting.objects.all()"
   ]
  },
  {
   "cell_type": "code",
   "execution_count": 133,
   "id": "54232290",
   "metadata": {},
   "outputs": [],
   "source": [
    "df = read_frame(Betting.objects.filter(match__contains=\"Sr\"))"
   ]
  },
  {
   "cell_type": "code",
   "execution_count": 134,
   "id": "95eddf95",
   "metadata": {},
   "outputs": [],
   "source": [
    "df['winning_team'] = 'Srilanka'"
   ]
  },
  {
   "cell_type": "code",
   "execution_count": 135,
   "id": "5c419bc2",
   "metadata": {},
   "outputs": [],
   "source": [
    "winning_team = df['winning_team'].iloc[0]"
   ]
  },
  {
   "cell_type": "code",
   "execution_count": 136,
   "id": "fca89f28",
   "metadata": {},
   "outputs": [],
   "source": [
    "def takeProfitLoss(row,winning_team=\"Srilanka\"):\n",
    "    if row.status == \"BACK\" and row.bet_on_team ==winning_team and row.winning_team == winning_team:\n",
    "        return row.amount * row.odds - row.amount \n",
    "    elif row.status == \"BACK\" and row.bet_on_team == winning_team and row.bet_on_team != winning_team:\n",
    "        return -row.amount\n",
    "    elif row.status == \"LAY\" and row.bet_on_team == winning_team and row.bet_on_team == winning_team:\n",
    "        return row.amount * - row.odds + row.amount\n",
    "    elif row.status == \"LAY\" and row.bet_on_team == winning_team and row.bet_on_team != winning_team:\n",
    "        return row.amount"
   ]
  },
  {
   "cell_type": "code",
   "execution_count": 137,
   "id": "b5a74433",
   "metadata": {},
   "outputs": [],
   "source": [
    "df['L/P'] = df.apply(takeProfitLoss,axis=1)"
   ]
  },
  {
   "cell_type": "code",
   "execution_count": 138,
   "id": "6513ce3d",
   "metadata": {},
   "outputs": [
    {
     "data": {
      "text/html": [
       "<div>\n",
       "<style scoped>\n",
       "    .dataframe tbody tr th:only-of-type {\n",
       "        vertical-align: middle;\n",
       "    }\n",
       "\n",
       "    .dataframe tbody tr th {\n",
       "        vertical-align: top;\n",
       "    }\n",
       "\n",
       "    .dataframe thead th {\n",
       "        text-align: right;\n",
       "    }\n",
       "</style>\n",
       "<table border=\"1\" class=\"dataframe\">\n",
       "  <thead>\n",
       "    <tr style=\"text-align: right;\">\n",
       "      <th></th>\n",
       "      <th>id</th>\n",
       "      <th>user</th>\n",
       "      <th>amount</th>\n",
       "      <th>bet_on_team</th>\n",
       "      <th>status</th>\n",
       "      <th>odds</th>\n",
       "      <th>winning_team</th>\n",
       "      <th>loss_profit</th>\n",
       "      <th>match</th>\n",
       "      <th>created_at</th>\n",
       "      <th>updated_at</th>\n",
       "      <th>L/P</th>\n",
       "    </tr>\n",
       "  </thead>\n",
       "  <tbody>\n",
       "    <tr>\n",
       "      <th>0</th>\n",
       "      <td>7</td>\n",
       "      <td>fairbet</td>\n",
       "      <td>1000.0</td>\n",
       "      <td>Srilanka</td>\n",
       "      <td>BACK</td>\n",
       "      <td>1.85</td>\n",
       "      <td>Srilanka</td>\n",
       "      <td>0.0</td>\n",
       "      <td>Srilanka vs India</td>\n",
       "      <td>2022-07-04 07:05:52.327891+00:00</td>\n",
       "      <td>2022-07-04 07:05:52.331877+00:00</td>\n",
       "      <td>850.0</td>\n",
       "    </tr>\n",
       "    <tr>\n",
       "      <th>1</th>\n",
       "      <td>8</td>\n",
       "      <td>fairbet</td>\n",
       "      <td>1000.0</td>\n",
       "      <td>Srilanka</td>\n",
       "      <td>LAY</td>\n",
       "      <td>1.85</td>\n",
       "      <td>Srilanka</td>\n",
       "      <td>0.0</td>\n",
       "      <td>Srilanka vs India</td>\n",
       "      <td>2022-07-04 07:06:03.985142+00:00</td>\n",
       "      <td>2022-07-04 07:06:03.993118+00:00</td>\n",
       "      <td>-850.0</td>\n",
       "    </tr>\n",
       "  </tbody>\n",
       "</table>\n",
       "</div>"
      ],
      "text/plain": [
       "   id     user  amount bet_on_team status  odds winning_team  loss_profit  \\\n",
       "0   7  fairbet  1000.0    Srilanka   BACK  1.85     Srilanka          0.0   \n",
       "1   8  fairbet  1000.0    Srilanka    LAY  1.85     Srilanka          0.0   \n",
       "\n",
       "               match                       created_at  \\\n",
       "0  Srilanka vs India 2022-07-04 07:05:52.327891+00:00   \n",
       "1  Srilanka vs India 2022-07-04 07:06:03.985142+00:00   \n",
       "\n",
       "                        updated_at    L/P  \n",
       "0 2022-07-04 07:05:52.331877+00:00  850.0  \n",
       "1 2022-07-04 07:06:03.993118+00:00 -850.0  "
      ]
     },
     "execution_count": 138,
     "metadata": {},
     "output_type": "execute_result"
    }
   ],
   "source": [
    "df"
   ]
  },
  {
   "cell_type": "code",
   "execution_count": 128,
   "id": "d68ad95e",
   "metadata": {},
   "outputs": [],
   "source": [
    "get_unique_match = df['match'].unique()"
   ]
  },
  {
   "cell_type": "code",
   "execution_count": 129,
   "id": "0f315f80",
   "metadata": {},
   "outputs": [
    {
     "data": {
      "text/plain": [
       "'Srilanka vs India'"
      ]
     },
     "execution_count": 129,
     "metadata": {},
     "output_type": "execute_result"
    }
   ],
   "source": [
    "get_unique_match[0]"
   ]
  },
  {
   "cell_type": "code",
   "execution_count": 106,
   "id": "b7e3ad1f",
   "metadata": {},
   "outputs": [
    {
     "data": {
      "text/html": [
       "<div>\n",
       "<style scoped>\n",
       "    .dataframe tbody tr th:only-of-type {\n",
       "        vertical-align: middle;\n",
       "    }\n",
       "\n",
       "    .dataframe tbody tr th {\n",
       "        vertical-align: top;\n",
       "    }\n",
       "\n",
       "    .dataframe thead th {\n",
       "        text-align: right;\n",
       "    }\n",
       "</style>\n",
       "<table border=\"1\" class=\"dataframe\">\n",
       "  <thead>\n",
       "    <tr style=\"text-align: right;\">\n",
       "      <th></th>\n",
       "      <th>id</th>\n",
       "      <th>user</th>\n",
       "      <th>amount</th>\n",
       "      <th>bet_on_team</th>\n",
       "      <th>status</th>\n",
       "      <th>odds</th>\n",
       "      <th>winning_team</th>\n",
       "      <th>loss_profit</th>\n",
       "      <th>match</th>\n",
       "      <th>created_at</th>\n",
       "      <th>updated_at</th>\n",
       "    </tr>\n",
       "  </thead>\n",
       "  <tbody>\n",
       "    <tr>\n",
       "      <th>0</th>\n",
       "      <td>7</td>\n",
       "      <td>fairbet</td>\n",
       "      <td>1000.0</td>\n",
       "      <td>Srilanka</td>\n",
       "      <td>BACK</td>\n",
       "      <td>1.85</td>\n",
       "      <td>Not declared yet</td>\n",
       "      <td>0.0</td>\n",
       "      <td>Srilanka vs India</td>\n",
       "      <td>2022-07-04 07:05:52.327891+00:00</td>\n",
       "      <td>2022-07-04 07:05:52.331877+00:00</td>\n",
       "    </tr>\n",
       "    <tr>\n",
       "      <th>1</th>\n",
       "      <td>8</td>\n",
       "      <td>fairbet</td>\n",
       "      <td>1000.0</td>\n",
       "      <td>Srilanka</td>\n",
       "      <td>LAY</td>\n",
       "      <td>1.85</td>\n",
       "      <td>Not declared yet</td>\n",
       "      <td>0.0</td>\n",
       "      <td>Srilanka vs India</td>\n",
       "      <td>2022-07-04 07:06:03.985142+00:00</td>\n",
       "      <td>2022-07-04 07:06:03.993118+00:00</td>\n",
       "    </tr>\n",
       "  </tbody>\n",
       "</table>\n",
       "</div>"
      ],
      "text/plain": [
       "   id     user  amount bet_on_team status  odds      winning_team  \\\n",
       "0   7  fairbet  1000.0    Srilanka   BACK  1.85  Not declared yet   \n",
       "1   8  fairbet  1000.0    Srilanka    LAY  1.85  Not declared yet   \n",
       "\n",
       "   loss_profit              match                       created_at  \\\n",
       "0          0.0  Srilanka vs India 2022-07-04 07:05:52.327891+00:00   \n",
       "1          0.0  Srilanka vs India 2022-07-04 07:06:03.985142+00:00   \n",
       "\n",
       "                        updated_at  \n",
       "0 2022-07-04 07:05:52.331877+00:00  \n",
       "1 2022-07-04 07:06:03.993118+00:00  "
      ]
     },
     "execution_count": 106,
     "metadata": {},
     "output_type": "execute_result"
    }
   ],
   "source": [
    "df.groupby('match').get_group(get_unique_match[0])"
   ]
  },
  {
   "cell_type": "code",
   "execution_count": null,
   "id": "e4649d86",
   "metadata": {},
   "outputs": [],
   "source": []
  },
  {
   "cell_type": "code",
   "execution_count": null,
   "id": "bd177f6a",
   "metadata": {},
   "outputs": [],
   "source": []
  },
  {
   "cell_type": "code",
   "execution_count": null,
   "id": "2e0d5f0b",
   "metadata": {},
   "outputs": [],
   "source": []
  }
 ],
 "metadata": {
  "kernelspec": {
   "display_name": "Django Shell-Plus",
   "language": "python",
   "name": "django_extensions"
  },
  "language_info": {
   "codemirror_mode": {
    "name": "ipython",
    "version": 3
   },
   "file_extension": ".py",
   "mimetype": "text/x-python",
   "name": "python",
   "nbconvert_exporter": "python",
   "pygments_lexer": "ipython3",
   "version": "3.9.2"
  }
 },
 "nbformat": 4,
 "nbformat_minor": 5
}
