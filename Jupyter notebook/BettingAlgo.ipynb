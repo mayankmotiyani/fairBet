{
 "cells": [
  {
   "cell_type": "code",
   "execution_count": 139,
   "id": "54f4d3a5",
   "metadata": {},
   "outputs": [],
   "source": [
    "import os\n",
    "import django\n",
    "os.environ.setdefault('DJANGO_SETTINGS_MODULE', 'fairbet_django.settings')\n",
    "os.environ[\"DJANGO_ALLOW_ASYNC_UNSAFE\"] = \"true\"\n",
    "django.setup()"
   ]
  },
  {
   "cell_type": "code",
   "execution_count": 140,
   "id": "5c03202f",
   "metadata": {},
   "outputs": [],
   "source": [
    "from order_placed.models import *\n",
    "from django_pandas.io import read_frame"
   ]
  },
  {
   "cell_type": "code",
   "execution_count": 141,
   "id": "35b52359",
   "metadata": {},
   "outputs": [
    {
     "data": {
      "text/plain": [
       "<BulkUpdateOrCreateQuerySet []>"
      ]
     },
     "execution_count": 141,
     "metadata": {},
     "output_type": "execute_result"
    }
   ],
   "source": [
    "Betting.objects.filter(match__contains = \"srl\")"
   ]
  },
  {
   "cell_type": "code",
   "execution_count": 142,
   "id": "54232290",
   "metadata": {},
   "outputs": [],
   "source": [
    "df = read_frame(Betting.objects.filter(match__contains=\"Sr\"))"
   ]
  },
  {
   "cell_type": "code",
   "execution_count": 143,
   "id": "cb4aee49",
   "metadata": {},
   "outputs": [],
   "source": [
    "df['winning_team'] = 'Srilanka'"
   ]
  },
  {
   "cell_type": "code",
   "execution_count": 144,
   "id": "5ad014ed",
   "metadata": {},
   "outputs": [],
   "source": [
    "winning_team = df['winning_team'].iloc[0]"
   ]
  },
  {
   "cell_type": "code",
   "execution_count": 145,
   "id": "95530832",
   "metadata": {},
   "outputs": [],
   "source": [
    "def takeProfitLoss(row,winning_team=\"Srilanka\"):\n",
    "    if row.status == \"BACK\" and row.bet_on_team ==winning_team and row.winning_team == winning_team:\n",
    "        return row.amount * row.odds - row.amount \n",
    "    elif row.status == \"BACK\" and row.bet_on_team == winning_team and row.bet_on_team != winning_team:\n",
    "        return -row.amount\n",
    "    elif row.status == \"LAY\" and row.bet_on_team == winning_team and row.bet_on_team == winning_team:\n",
    "        return row.amount * - row.odds + row.amount\n",
    "    elif row.status == \"LAY\" and row.bet_on_team == winning_team and row.bet_on_team != winning_team:\n",
    "        return row.amount"
   ]
  },
  {
   "cell_type": "code",
   "execution_count": 146,
   "id": "b48a81a7",
   "metadata": {},
   "outputs": [],
   "source": [
    "df['L/P'] = df.apply(takeProfitLoss,axis=1)"
   ]
  },
  {
   "cell_type": "code",
   "execution_count": 147,
   "id": "58187bff",
   "metadata": {
    "scrolled": true
   },
   "outputs": [
    {
     "data": {
      "text/html": [
       "<div>\n",
       "<style scoped>\n",
       "    .dataframe tbody tr th:only-of-type {\n",
       "        vertical-align: middle;\n",
       "    }\n",
       "\n",
       "    .dataframe tbody tr th {\n",
       "        vertical-align: top;\n",
       "    }\n",
       "\n",
       "    .dataframe thead th {\n",
       "        text-align: right;\n",
       "    }\n",
       "</style>\n",
       "<table border=\"1\" class=\"dataframe\">\n",
       "  <thead>\n",
       "    <tr style=\"text-align: right;\">\n",
       "      <th></th>\n",
       "      <th>id</th>\n",
       "      <th>user</th>\n",
       "      <th>amount</th>\n",
       "      <th>bet_on_team</th>\n",
       "      <th>status</th>\n",
       "      <th>odds</th>\n",
       "      <th>winning_team</th>\n",
       "      <th>loss_profit</th>\n",
       "      <th>match</th>\n",
       "      <th>created_at</th>\n",
       "      <th>updated_at</th>\n",
       "      <th>L/P</th>\n",
       "    </tr>\n",
       "  </thead>\n",
       "  <tbody>\n",
       "    <tr>\n",
       "      <th>0</th>\n",
       "      <td>7</td>\n",
       "      <td>fairbet</td>\n",
       "      <td>1000.0</td>\n",
       "      <td>Srilanka</td>\n",
       "      <td>BACK</td>\n",
       "      <td>1.85</td>\n",
       "      <td>Srilanka</td>\n",
       "      <td>0.0</td>\n",
       "      <td>Srilanka vs India</td>\n",
       "      <td>2022-07-04 07:05:52.327891+00:00</td>\n",
       "      <td>2022-07-04 07:05:52.331877+00:00</td>\n",
       "      <td>850.0</td>\n",
       "    </tr>\n",
       "    <tr>\n",
       "      <th>1</th>\n",
       "      <td>8</td>\n",
       "      <td>fairbet</td>\n",
       "      <td>1000.0</td>\n",
       "      <td>Srilanka</td>\n",
       "      <td>LAY</td>\n",
       "      <td>1.85</td>\n",
       "      <td>Srilanka</td>\n",
       "      <td>0.0</td>\n",
       "      <td>Srilanka vs India</td>\n",
       "      <td>2022-07-04 07:06:03.985142+00:00</td>\n",
       "      <td>2022-07-04 07:06:03.993118+00:00</td>\n",
       "      <td>-850.0</td>\n",
       "    </tr>\n",
       "  </tbody>\n",
       "</table>\n",
       "</div>"
      ],
      "text/plain": [
       "   id     user  amount bet_on_team status  odds winning_team  loss_profit  \\\n",
       "0   7  fairbet  1000.0    Srilanka   BACK  1.85     Srilanka          0.0   \n",
       "1   8  fairbet  1000.0    Srilanka    LAY  1.85     Srilanka          0.0   \n",
       "\n",
       "               match                       created_at  \\\n",
       "0  Srilanka vs India 2022-07-04 07:05:52.327891+00:00   \n",
       "1  Srilanka vs India 2022-07-04 07:06:03.985142+00:00   \n",
       "\n",
       "                        updated_at    L/P  \n",
       "0 2022-07-04 07:05:52.331877+00:00  850.0  \n",
       "1 2022-07-04 07:06:03.993118+00:00 -850.0  "
      ]
     },
     "execution_count": 147,
     "metadata": {},
     "output_type": "execute_result"
    }
   ],
   "source": [
    "df"
   ]
  },
  {
   "cell_type": "code",
   "execution_count": 170,
   "id": "d2eccd97",
   "metadata": {},
   "outputs": [
    {
     "ename": "ValueError",
     "evalue": "The annotation 'loss_profit' conflicts with a field on the model.",
     "output_type": "error",
     "traceback": [
      "\u001b[1;31m---------------------------------------------------------------------------\u001b[0m",
      "\u001b[1;31mValueError\u001b[0m                                Traceback (most recent call last)",
      "Input \u001b[1;32mIn [170]\u001b[0m, in \u001b[0;36m<cell line: 1>\u001b[1;34m()\u001b[0m\n\u001b[1;32m----> 1\u001b[0m \u001b[43mBetting\u001b[49m\u001b[38;5;241;43m.\u001b[39;49m\u001b[43mobjects\u001b[49m\u001b[38;5;241;43m.\u001b[39;49m\u001b[43mfilter\u001b[49m\u001b[43m(\u001b[49m\u001b[43mmatch\u001b[49m\u001b[43m \u001b[49m\u001b[38;5;241;43m=\u001b[39;49m\u001b[43m \u001b[49m\u001b[38;5;124;43m\"\u001b[39;49m\u001b[38;5;124;43mSrilanka vs India\u001b[39;49m\u001b[38;5;124;43m\"\u001b[39;49m\u001b[43m)\u001b[49m\u001b[38;5;241;43m.\u001b[39;49m\u001b[43mannotate\u001b[49m\u001b[43m(\u001b[49m\u001b[43mloss_profit\u001b[49m\u001b[38;5;241;43m=\u001b[39;49m\u001b[43mCase\u001b[49m\u001b[43m(\u001b[49m\u001b[43mWhen\u001b[49m\u001b[43m \u001b[49m\u001b[43m(\u001b[49m\u001b[43mstatus__eq\u001b[49m\u001b[38;5;241;43m=\u001b[39;49m\u001b[38;5;124;43m\"\u001b[39;49m\u001b[38;5;124;43mBACK\u001b[39;49m\u001b[38;5;124;43m\"\u001b[39;49m\u001b[43m,\u001b[49m\u001b[43mbet_on_team__eq\u001b[49m\u001b[38;5;241;43m=\u001b[39;49m\u001b[38;5;124;43m\"\u001b[39;49m\u001b[38;5;124;43mSrilanka\u001b[39;49m\u001b[38;5;124;43m\"\u001b[39;49m\u001b[43m,\u001b[49m\u001b[43mwinning_team__eq\u001b[49m\u001b[38;5;241;43m=\u001b[39;49m\u001b[38;5;124;43m\"\u001b[39;49m\u001b[38;5;124;43mNot declared yet\u001b[39;49m\u001b[38;5;124;43m\"\u001b[39;49m\u001b[43m,\u001b[49m\u001b[43mthen\u001b[49m\u001b[38;5;241;43m=\u001b[39;49m\u001b[38;5;241;43m0.0\u001b[39;49m\u001b[43m)\u001b[49m\u001b[43m)\u001b[49m\u001b[43m)\u001b[49m\n",
      "File \u001b[1;32m~\\AppData\\Local\\Programs\\Python\\Python39\\lib\\site-packages\\django\\db\\models\\query.py:1225\u001b[0m, in \u001b[0;36mQuerySet.annotate\u001b[1;34m(self, *args, **kwargs)\u001b[0m\n\u001b[0;32m   1220\u001b[0m \u001b[38;5;124;03m\"\"\"\u001b[39;00m\n\u001b[0;32m   1221\u001b[0m \u001b[38;5;124;03mReturn a query set in which the returned objects have been annotated\u001b[39;00m\n\u001b[0;32m   1222\u001b[0m \u001b[38;5;124;03mwith extra data or aggregations.\u001b[39;00m\n\u001b[0;32m   1223\u001b[0m \u001b[38;5;124;03m\"\"\"\u001b[39;00m\n\u001b[0;32m   1224\u001b[0m \u001b[38;5;28mself\u001b[39m\u001b[38;5;241m.\u001b[39m_not_support_combined_queries(\u001b[38;5;124m\"\u001b[39m\u001b[38;5;124mannotate\u001b[39m\u001b[38;5;124m\"\u001b[39m)\n\u001b[1;32m-> 1225\u001b[0m \u001b[38;5;28;01mreturn\u001b[39;00m \u001b[38;5;28;43mself\u001b[39;49m\u001b[38;5;241;43m.\u001b[39;49m\u001b[43m_annotate\u001b[49m\u001b[43m(\u001b[49m\u001b[43margs\u001b[49m\u001b[43m,\u001b[49m\u001b[43m \u001b[49m\u001b[43mkwargs\u001b[49m\u001b[43m,\u001b[49m\u001b[43m \u001b[49m\u001b[43mselect\u001b[49m\u001b[38;5;241;43m=\u001b[39;49m\u001b[38;5;28;43;01mTrue\u001b[39;49;00m\u001b[43m)\u001b[49m\n",
      "File \u001b[1;32m~\\AppData\\Local\\Programs\\Python\\Python39\\lib\\site-packages\\django\\db\\models\\query.py:1266\u001b[0m, in \u001b[0;36mQuerySet._annotate\u001b[1;34m(self, args, kwargs, select)\u001b[0m\n\u001b[0;32m   1264\u001b[0m \u001b[38;5;28;01mfor\u001b[39;00m alias, annotation \u001b[38;5;129;01min\u001b[39;00m annotations\u001b[38;5;241m.\u001b[39mitems():\n\u001b[0;32m   1265\u001b[0m     \u001b[38;5;28;01mif\u001b[39;00m alias \u001b[38;5;129;01min\u001b[39;00m names:\n\u001b[1;32m-> 1266\u001b[0m         \u001b[38;5;28;01mraise\u001b[39;00m \u001b[38;5;167;01mValueError\u001b[39;00m(\n\u001b[0;32m   1267\u001b[0m             \u001b[38;5;124m\"\u001b[39m\u001b[38;5;124mThe annotation \u001b[39m\u001b[38;5;124m'\u001b[39m\u001b[38;5;132;01m%s\u001b[39;00m\u001b[38;5;124m'\u001b[39m\u001b[38;5;124m conflicts with a field on \u001b[39m\u001b[38;5;124m\"\u001b[39m\n\u001b[0;32m   1268\u001b[0m             \u001b[38;5;124m\"\u001b[39m\u001b[38;5;124mthe model.\u001b[39m\u001b[38;5;124m\"\u001b[39m \u001b[38;5;241m%\u001b[39m alias\n\u001b[0;32m   1269\u001b[0m         )\n\u001b[0;32m   1270\u001b[0m     \u001b[38;5;28;01mif\u001b[39;00m \u001b[38;5;28misinstance\u001b[39m(annotation, FilteredRelation):\n\u001b[0;32m   1271\u001b[0m         clone\u001b[38;5;241m.\u001b[39mquery\u001b[38;5;241m.\u001b[39madd_filtered_relation(annotation, alias)\n",
      "\u001b[1;31mValueError\u001b[0m: The annotation 'loss_profit' conflicts with a field on the model."
     ]
    }
   ],
   "source": [
    "Betting.objects.filter(match = \"Srilanka vs India\").annotate(loss_profit=Case(When (status__eq=\"BACK\",bet_on_team__eq=\"Srilanka\",winning_team__eq=\"Not declared yet\",then=0.0)))"
   ]
  },
  {
   "cell_type": "code",
   "execution_count": null,
   "id": "f9b93883",
   "metadata": {},
   "outputs": [],
   "source": []
  },
  {
   "cell_type": "code",
   "execution_count": null,
   "id": "4f3f84f9",
   "metadata": {},
   "outputs": [],
   "source": []
  },
  {
   "cell_type": "code",
   "execution_count": null,
   "id": "6e79774b",
   "metadata": {},
   "outputs": [],
   "source": []
  },
  {
   "cell_type": "code",
   "execution_count": null,
   "id": "53cdd912",
   "metadata": {},
   "outputs": [],
   "source": []
  },
  {
   "cell_type": "code",
   "execution_count": 128,
   "id": "616dbc6b",
   "metadata": {},
   "outputs": [],
   "source": [
    "get_unique_match = df['match'].unique()"
   ]
  },
  {
   "cell_type": "code",
   "execution_count": 129,
   "id": "c5fc53d6",
   "metadata": {},
   "outputs": [
    {
     "data": {
      "text/plain": [
       "'Srilanka vs India'"
      ]
     },
     "execution_count": 129,
     "metadata": {},
     "output_type": "execute_result"
    }
   ],
   "source": [
    "get_unique_match[0]"
   ]
  },
  {
   "cell_type": "code",
   "execution_count": 106,
   "id": "9c1e69da",
   "metadata": {},
   "outputs": [
    {
     "data": {
      "text/html": [
       "<div>\n",
       "<style scoped>\n",
       "    .dataframe tbody tr th:only-of-type {\n",
       "        vertical-align: middle;\n",
       "    }\n",
       "\n",
       "    .dataframe tbody tr th {\n",
       "        vertical-align: top;\n",
       "    }\n",
       "\n",
       "    .dataframe thead th {\n",
       "        text-align: right;\n",
       "    }\n",
       "</style>\n",
       "<table border=\"1\" class=\"dataframe\">\n",
       "  <thead>\n",
       "    <tr style=\"text-align: right;\">\n",
       "      <th></th>\n",
       "      <th>id</th>\n",
       "      <th>user</th>\n",
       "      <th>amount</th>\n",
       "      <th>bet_on_team</th>\n",
       "      <th>status</th>\n",
       "      <th>odds</th>\n",
       "      <th>winning_team</th>\n",
       "      <th>loss_profit</th>\n",
       "      <th>match</th>\n",
       "      <th>created_at</th>\n",
       "      <th>updated_at</th>\n",
       "    </tr>\n",
       "  </thead>\n",
       "  <tbody>\n",
       "    <tr>\n",
       "      <th>0</th>\n",
       "      <td>7</td>\n",
       "      <td>fairbet</td>\n",
       "      <td>1000.0</td>\n",
       "      <td>Srilanka</td>\n",
       "      <td>BACK</td>\n",
       "      <td>1.85</td>\n",
       "      <td>Not declared yet</td>\n",
       "      <td>0.0</td>\n",
       "      <td>Srilanka vs India</td>\n",
       "      <td>2022-07-04 07:05:52.327891+00:00</td>\n",
       "      <td>2022-07-04 07:05:52.331877+00:00</td>\n",
       "    </tr>\n",
       "    <tr>\n",
       "      <th>1</th>\n",
       "      <td>8</td>\n",
       "      <td>fairbet</td>\n",
       "      <td>1000.0</td>\n",
       "      <td>Srilanka</td>\n",
       "      <td>LAY</td>\n",
       "      <td>1.85</td>\n",
       "      <td>Not declared yet</td>\n",
       "      <td>0.0</td>\n",
       "      <td>Srilanka vs India</td>\n",
       "      <td>2022-07-04 07:06:03.985142+00:00</td>\n",
       "      <td>2022-07-04 07:06:03.993118+00:00</td>\n",
       "    </tr>\n",
       "  </tbody>\n",
       "</table>\n",
       "</div>"
      ],
      "text/plain": [
       "   id     user  amount bet_on_team status  odds      winning_team  \\\n",
       "0   7  fairbet  1000.0    Srilanka   BACK  1.85  Not declared yet   \n",
       "1   8  fairbet  1000.0    Srilanka    LAY  1.85  Not declared yet   \n",
       "\n",
       "   loss_profit              match                       created_at  \\\n",
       "0          0.0  Srilanka vs India 2022-07-04 07:05:52.327891+00:00   \n",
       "1          0.0  Srilanka vs India 2022-07-04 07:06:03.985142+00:00   \n",
       "\n",
       "                        updated_at  \n",
       "0 2022-07-04 07:05:52.331877+00:00  \n",
       "1 2022-07-04 07:06:03.993118+00:00  "
      ]
     },
     "execution_count": 106,
     "metadata": {},
     "output_type": "execute_result"
    }
   ],
   "source": [
    "df.groupby('match').get_group(get_unique_match[0])"
   ]
  },
  {
   "cell_type": "code",
   "execution_count": null,
   "id": "018ff917",
   "metadata": {},
   "outputs": [],
   "source": []
  },
  {
   "cell_type": "code",
   "execution_count": null,
   "id": "b294f056",
   "metadata": {},
   "outputs": [],
   "source": []
  },
  {
   "cell_type": "code",
   "execution_count": null,
   "id": "d900f89a",
   "metadata": {},
   "outputs": [],
   "source": []
  }
 ],
 "metadata": {
  "kernelspec": {
   "display_name": "Django Shell-Plus",
   "language": "python",
   "name": "django_extensions"
  },
  "language_info": {
   "codemirror_mode": {
    "name": "ipython",
    "version": 3
   },
   "file_extension": ".py",
   "mimetype": "text/x-python",
   "name": "python",
   "nbconvert_exporter": "python",
   "pygments_lexer": "ipython3",
   "version": "3.9.2"
  }
 },
 "nbformat": 4,
 "nbformat_minor": 5
}
